{
  "nbformat": 4,
  "nbformat_minor": 0,
  "metadata": {
    "colab": {
      "name": "dub.ipynb",
      "provenance": [],
      "collapsed_sections": [
        "JC34JeCkO4X6",
        "reQsClloeTxu",
        "OJleTY4jet56",
        "hjj-AlfKUPoK"
      ],
      "include_colab_link": true
    },
    "kernelspec": {
      "display_name": "Python 3",
      "name": "python3"
    },
    "language_info": {
      "name": "python"
    },
    "accelerator": "GPU"
  },
  "cells": [
    {
      "cell_type": "markdown",
      "metadata": {
        "id": "view-in-github",
        "colab_type": "text"
      },
      "source": [
        "<a href=\"https://colab.research.google.com/github/CecilyK/dub/blob/main/dub.ipynb\" target=\"_parent\"><img src=\"https://colab.research.google.com/assets/colab-badge.svg\" alt=\"Open In Colab\"/></a>"
      ]
    },
    {
      "cell_type": "code",
      "metadata": {
        "colab": {
          "base_uri": "https://localhost:8080/"
        },
        "id": "zQl4xZPtEogC",
        "outputId": "299bd7da-7ac1-4fea-8c9a-114803692d40"
      },
      "source": [
        "pip install --upgrade google-cloud-texttospeech"
      ],
      "execution_count": 6,
      "outputs": [
        {
          "output_type": "stream",
          "name": "stdout",
          "text": [
            "Requirement already satisfied: google-cloud-texttospeech in /usr/local/lib/python3.7/dist-packages (2.9.0)\n",
            "Requirement already satisfied: proto-plus>=1.4.0 in /usr/local/lib/python3.7/dist-packages (from google-cloud-texttospeech) (1.19.8)\n",
            "Requirement already satisfied: google-api-core[grpc]<3.0.0dev,>=1.28.0 in /usr/local/lib/python3.7/dist-packages (from google-cloud-texttospeech) (2.2.2)\n",
            "Requirement already satisfied: googleapis-common-protos<2.0dev,>=1.52.0 in /usr/local/lib/python3.7/dist-packages (from google-api-core[grpc]<3.0.0dev,>=1.28.0->google-cloud-texttospeech) (1.53.0)\n",
            "Requirement already satisfied: protobuf>=3.12.0 in /usr/local/lib/python3.7/dist-packages (from google-api-core[grpc]<3.0.0dev,>=1.28.0->google-cloud-texttospeech) (3.19.1)\n",
            "Requirement already satisfied: setuptools>=40.3.0 in /usr/local/lib/python3.7/dist-packages (from google-api-core[grpc]<3.0.0dev,>=1.28.0->google-cloud-texttospeech) (57.4.0)\n",
            "Requirement already satisfied: google-auth<3.0dev,>=1.25.0 in /usr/local/lib/python3.7/dist-packages (from google-api-core[grpc]<3.0.0dev,>=1.28.0->google-cloud-texttospeech) (1.35.0)\n",
            "Requirement already satisfied: requests<3.0.0dev,>=2.18.0 in /usr/local/lib/python3.7/dist-packages (from google-api-core[grpc]<3.0.0dev,>=1.28.0->google-cloud-texttospeech) (2.23.0)\n",
            "Requirement already satisfied: grpcio<2.0dev,>=1.33.2 in /usr/local/lib/python3.7/dist-packages (from google-api-core[grpc]<3.0.0dev,>=1.28.0->google-cloud-texttospeech) (1.42.0)\n",
            "Requirement already satisfied: grpcio-status<2.0dev,>=1.33.2 in /usr/local/lib/python3.7/dist-packages (from google-api-core[grpc]<3.0.0dev,>=1.28.0->google-cloud-texttospeech) (1.42.0)\n",
            "Requirement already satisfied: rsa<5,>=3.1.4 in /usr/local/lib/python3.7/dist-packages (from google-auth<3.0dev,>=1.25.0->google-api-core[grpc]<3.0.0dev,>=1.28.0->google-cloud-texttospeech) (4.7.2)\n",
            "Requirement already satisfied: six>=1.9.0 in /usr/local/lib/python3.7/dist-packages (from google-auth<3.0dev,>=1.25.0->google-api-core[grpc]<3.0.0dev,>=1.28.0->google-cloud-texttospeech) (1.15.0)\n",
            "Requirement already satisfied: pyasn1-modules>=0.2.1 in /usr/local/lib/python3.7/dist-packages (from google-auth<3.0dev,>=1.25.0->google-api-core[grpc]<3.0.0dev,>=1.28.0->google-cloud-texttospeech) (0.2.8)\n",
            "Requirement already satisfied: cachetools<5.0,>=2.0.0 in /usr/local/lib/python3.7/dist-packages (from google-auth<3.0dev,>=1.25.0->google-api-core[grpc]<3.0.0dev,>=1.28.0->google-cloud-texttospeech) (4.2.4)\n",
            "Requirement already satisfied: pyasn1<0.5.0,>=0.4.6 in /usr/local/lib/python3.7/dist-packages (from pyasn1-modules>=0.2.1->google-auth<3.0dev,>=1.25.0->google-api-core[grpc]<3.0.0dev,>=1.28.0->google-cloud-texttospeech) (0.4.8)\n",
            "Requirement already satisfied: urllib3!=1.25.0,!=1.25.1,<1.26,>=1.21.1 in /usr/local/lib/python3.7/dist-packages (from requests<3.0.0dev,>=2.18.0->google-api-core[grpc]<3.0.0dev,>=1.28.0->google-cloud-texttospeech) (1.24.3)\n",
            "Requirement already satisfied: idna<3,>=2.5 in /usr/local/lib/python3.7/dist-packages (from requests<3.0.0dev,>=2.18.0->google-api-core[grpc]<3.0.0dev,>=1.28.0->google-cloud-texttospeech) (2.10)\n",
            "Requirement already satisfied: certifi>=2017.4.17 in /usr/local/lib/python3.7/dist-packages (from requests<3.0.0dev,>=2.18.0->google-api-core[grpc]<3.0.0dev,>=1.28.0->google-cloud-texttospeech) (2021.10.8)\n",
            "Requirement already satisfied: chardet<4,>=3.0.2 in /usr/local/lib/python3.7/dist-packages (from requests<3.0.0dev,>=2.18.0->google-api-core[grpc]<3.0.0dev,>=1.28.0->google-cloud-texttospeech) (3.0.4)\n"
          ]
        }
      ]
    },
    {
      "cell_type": "code",
      "metadata": {
        "id": "OSaLzm0hT0Ui"
      },
      "source": [
        "import os\n",
        "import librosa\n",
        "import pandas as pd\n",
        "import warnings\n",
        "warnings.filterwarnings('ignore', category=DeprecationWarning)\n",
        "warnings.filterwarnings('ignore', category=FutureWarning)\n",
        "\n",
        "from IPython.display import Audio\n",
        "\n",
        "import librosa.display\n",
        "import matplotlib.pyplot as plt\n",
        "import numpy as np\n",
        "import tensorflow as tf\n",
        "\n",
        "from tensorflow.keras.models import Model, Sequential\n",
        "from tensorflow.keras.layers import * \n",
        "from tensorflow.keras.callbacks import Callback, EarlyStopping, TensorBoard\n",
        "from tensorflow.keras.preprocessing.sequence import pad_sequences\n",
        "from tensorflow.keras.optimizers import SGD, Adam, RMSprop\n",
        "from tensorflow.keras import backend as K\n",
        "import pickle"
      ],
      "execution_count": 8,
      "outputs": []
    },
    {
      "cell_type": "markdown",
      "metadata": {
        "id": "nUzD3rOMLGoh"
      },
      "source": [
        "#Inputs"
      ]
    },
    {
      "cell_type": "code",
      "metadata": {
        "id": "OlnwyOxfSQmF",
        "colab": {
          "base_uri": "https://localhost:8080/"
        },
        "outputId": "7d6228ed-0120-415d-a1a9-f25c35c87d22"
      },
      "source": [
        "from google.colab import drive\n",
        "drive.mount('/content/drive')"
      ],
      "execution_count": 3,
      "outputs": [
        {
          "output_type": "stream",
          "name": "stdout",
          "text": [
            "Mounted at /content/drive\n"
          ]
        }
      ]
    },
    {
      "cell_type": "markdown",
      "metadata": {
        "id": "k3XC49HJLQ5u"
      },
      "source": [
        "Load audios"
      ]
    },
    {
      "cell_type": "code",
      "metadata": {
        "id": "d0LOT45lLPu2"
      },
      "source": [
        "os.chdir(\"/content/drive/MyDrive/dub dataset/SWAHILI/data/train/audios\")"
      ],
      "execution_count": 9,
      "outputs": []
    },
    {
      "cell_type": "code",
      "metadata": {
        "id": "hDzvwBEDLfXU",
        "colab": {
          "base_uri": "https://localhost:8080/"
        },
        "outputId": "b2a6ee91-b1a7-45f1-e1c3-e3b57b7e1b65"
      },
      "source": [
        "rows = []\n",
        "parent_dir = \"./\"\n",
        "files = os.listdir(parent_dir)\n",
        "for f in files[:1100]:\n",
        "    audio, fs = librosa.load(f\"{f}\")\n",
        "    filename = f.split('.wav')[0]\n",
        "    row = {'filename': filename, 'audio': audio}\n",
        "    rows.append(row)\n",
        "rows[:6]"
      ],
      "execution_count": 10,
      "outputs": [
        {
          "output_type": "execute_result",
          "data": {
            "text/plain": [
              "[{'audio': array([-0.00518634, -0.00370944,  0.00051116, ..., -0.11442161,\n",
              "         -0.06679546,  0.        ], dtype=float32),\n",
              "  'filename': 'SWH-15-20110310_16k-emission_swahili_15h00_-_16h00_tu_20110310_part442'},\n",
              " {'audio': array([0.00203946, 0.00326259, 0.00456793, ..., 0.17463283, 0.20333299,\n",
              "         0.13075171], dtype=float32),\n",
              "  'filename': 'SWH-15-20101103_emission_swahili_15h00_-_16h00_tu_20101103_part60'},\n",
              " {'audio': array([-2.5505594e-03, -1.6648067e-03,  1.1030279e-05, ...,\n",
              "         -1.3036871e-01, -1.7237680e-01,  0.0000000e+00], dtype=float32),\n",
              "  'filename': 'SWH-15-20101113_16k-emission_swahili_15h00_-_16h00_tu_20101113_part379'},\n",
              " {'audio': array([0.12538545, 0.1412388 , 0.12100906, ..., 0.11646897, 0.13963343,\n",
              "         0.09413067], dtype=float32),\n",
              "  'filename': 'SWH-15-20101130_16k-emission_swahili_15h00_-_16h00_tu_20101130_part287'},\n",
              " {'audio': array([-0.0002651 ,  0.00076587,  0.00149441, ..., -0.17118506,\n",
              "         -0.16012862,  0.        ], dtype=float32),\n",
              "  'filename': 'SWH-15-20110303_16k-emission_swahili_15h00_-_16h00_tu_20110303_part7'},\n",
              " {'audio': array([ 0.00156698,  0.00116012, -0.0003897 , ..., -0.03286014,\n",
              "         -0.04939909, -0.03472592], dtype=float32),\n",
              "  'filename': 'SWH-05-20110215_16k-emission_swahili_05h30_-_06h00_tu_20110215_part55'}]"
            ]
          },
          "metadata": {},
          "execution_count": 10
        }
      ]
    },
    {
      "cell_type": "code",
      "metadata": {
        "id": "6j-64lACMJS0",
        "colab": {
          "base_uri": "https://localhost:8080/"
        },
        "outputId": "5695b6db-50c4-4e5b-d3a1-6dff763c0837"
      },
      "source": [
        "len(files)"
      ],
      "execution_count": 12,
      "outputs": [
        {
          "output_type": "execute_result",
          "data": {
            "text/plain": [
              "10180"
            ]
          },
          "metadata": {},
          "execution_count": 12
        }
      ]
    },
    {
      "cell_type": "code",
      "metadata": {
        "id": "RSLBtf33MSOI",
        "colab": {
          "base_uri": "https://localhost:8080/"
        },
        "outputId": "7fbfdd6c-f0d7-4516-a6b3-abbc9d293625"
      },
      "source": [
        "sample_audios = []\n",
        "for row in rows:\n",
        "    audio = row['audio']\n",
        "    sample_audios.append(audio)\n",
        "sample_audios[:5]"
      ],
      "execution_count": 13,
      "outputs": [
        {
          "output_type": "execute_result",
          "data": {
            "text/plain": [
              "[array([-0.00518634, -0.00370944,  0.00051116, ..., -0.11442161,\n",
              "        -0.06679546,  0.        ], dtype=float32),\n",
              " array([0.00203946, 0.00326259, 0.00456793, ..., 0.17463283, 0.20333299,\n",
              "        0.13075171], dtype=float32),\n",
              " array([-2.5505594e-03, -1.6648067e-03,  1.1030279e-05, ...,\n",
              "        -1.3036871e-01, -1.7237680e-01,  0.0000000e+00], dtype=float32),\n",
              " array([0.12538545, 0.1412388 , 0.12100906, ..., 0.11646897, 0.13963343,\n",
              "        0.09413067], dtype=float32),\n",
              " array([-0.0002651 ,  0.00076587,  0.00149441, ..., -0.17118506,\n",
              "        -0.16012862,  0.        ], dtype=float32)]"
            ]
          },
          "metadata": {},
          "execution_count": 13
        }
      ]
    },
    {
      "cell_type": "markdown",
      "metadata": {
        "id": "7LrzbMWyK_xn"
      },
      "source": [
        "Csv file that contains transcriptions"
      ]
    },
    {
      "cell_type": "code",
      "metadata": {
        "id": "hxNo_9KVTq5U"
      },
      "source": [
        "data_df=pd.read_csv('/content/drive/MyDrive/dub dataset/metadata.csv')\n"
      ],
      "execution_count": 14,
      "outputs": []
    },
    {
      "cell_type": "code",
      "metadata": {
        "id": "XDJJRxiSWQck",
        "colab": {
          "base_uri": "https://localhost:8080/",
          "height": 293
        },
        "outputId": "da1b75ac-cde2-4170-deb7-c24c75f44e3e"
      },
      "source": [
        "data_df.head()"
      ],
      "execution_count": 15,
      "outputs": [
        {
          "output_type": "execute_result",
          "data": {
            "text/html": [
              "<div>\n",
              "<style scoped>\n",
              "    .dataframe tbody tr th:only-of-type {\n",
              "        vertical-align: middle;\n",
              "    }\n",
              "\n",
              "    .dataframe tbody tr th {\n",
              "        vertical-align: top;\n",
              "    }\n",
              "\n",
              "    .dataframe thead th {\n",
              "        text-align: right;\n",
              "    }\n",
              "</style>\n",
              "<table border=\"1\" class=\"dataframe\">\n",
              "  <thead>\n",
              "    <tr style=\"text-align: right;\">\n",
              "      <th></th>\n",
              "      <th>filename</th>\n",
              "      <th>transcription</th>\n",
              "      <th>filepath</th>\n",
              "      <th>sample_rate</th>\n",
              "      <th>duration</th>\n",
              "    </tr>\n",
              "  </thead>\n",
              "  <tbody>\n",
              "    <tr>\n",
              "      <th>0</th>\n",
              "      <td>SWH-05-20101106_16k-emission_swahili_05h30_-_0...</td>\n",
              "      <td>rais wa tanzania jakaya mrisho kikwete</td>\n",
              "      <td>SWH-05-20101106/SWH-05-20101106_16k-emission_s...</td>\n",
              "      <td>16000</td>\n",
              "      <td>3.14</td>\n",
              "    </tr>\n",
              "    <tr>\n",
              "      <th>1</th>\n",
              "      <td>SWH-05-20101106_16k-emission_swahili_05h30_-_0...</td>\n",
              "      <td>yanayo andaliwa nami pendo pondo idhaa ya kisw...</td>\n",
              "      <td>SWH-05-20101106/SWH-05-20101106_16k-emission_s...</td>\n",
              "      <td>16000</td>\n",
              "      <td>3.10</td>\n",
              "    </tr>\n",
              "    <tr>\n",
              "      <th>2</th>\n",
              "      <td>SWH-05-20101106_16k-emission_swahili_05h30_-_0...</td>\n",
              "      <td>inayokutangazia moja kwa moja kutoka jijini da...</td>\n",
              "      <td>SWH-05-20101106/SWH-05-20101106_16k-emission_s...</td>\n",
              "      <td>16000</td>\n",
              "      <td>3.65</td>\n",
              "    </tr>\n",
              "    <tr>\n",
              "      <th>3</th>\n",
              "      <td>SWH-05-20101106_16k-emission_swahili_05h30_-_0...</td>\n",
              "      <td>juma hili bara la afrika limeshuhudia raia wa ...</td>\n",
              "      <td>SWH-05-20101106/SWH-05-20101106_16k-emission_s...</td>\n",
              "      <td>16000</td>\n",
              "      <td>3.90</td>\n",
              "    </tr>\n",
              "    <tr>\n",
              "      <th>4</th>\n",
              "      <td>SWH-05-20101106_16k-emission_swahili_05h30_-_0...</td>\n",
              "      <td>wakipiga kura ya maoni ilikufanya mabadiliko ya</td>\n",
              "      <td>SWH-05-20101106/SWH-05-20101106_16k-emission_s...</td>\n",
              "      <td>16000</td>\n",
              "      <td>2.94</td>\n",
              "    </tr>\n",
              "  </tbody>\n",
              "</table>\n",
              "</div>"
            ],
            "text/plain": [
              "                                            filename  ... duration\n",
              "0  SWH-05-20101106_16k-emission_swahili_05h30_-_0...  ...     3.14\n",
              "1  SWH-05-20101106_16k-emission_swahili_05h30_-_0...  ...     3.10\n",
              "2  SWH-05-20101106_16k-emission_swahili_05h30_-_0...  ...     3.65\n",
              "3  SWH-05-20101106_16k-emission_swahili_05h30_-_0...  ...     3.90\n",
              "4  SWH-05-20101106_16k-emission_swahili_05h30_-_0...  ...     2.94\n",
              "\n",
              "[5 rows x 5 columns]"
            ]
          },
          "metadata": {},
          "execution_count": 15
        }
      ]
    },
    {
      "cell_type": "code",
      "metadata": {
        "id": "E0viwrEIQ96G",
        "colab": {
          "base_uri": "https://localhost:8080/"
        },
        "outputId": "edbbbbb9-1c1a-445f-d06d-deb3e965980d"
      },
      "source": [
        "txts = []\n",
        "for row in rows:\n",
        "    filename = row['filename']\n",
        "    filter = data_df[data_df['filename'] == filename]\n",
        "    txt = filter[['transcription']].values\n",
        "    txts.append(txt)\n",
        "\n",
        "txts[:5]"
      ],
      "execution_count": 16,
      "outputs": [
        {
          "output_type": "execute_result",
          "data": {
            "text/plain": [
              "[array([['moyo unapata matatizo unaweza ukapata kwa matatizo kama ya']],\n",
              "       dtype=object),\n",
              " array([['inawezekana kwamba watu wamekerwa na hivi vitendo vya mauaji']],\n",
              "       dtype=object),\n",
              " array([['mambo ya kikatili hataruhusiwa kuania nyadhifa yoyote']],\n",
              "       dtype=object),\n",
              " array([['au bidhaa gani wanaweza wakauza nje ya nchi']], dtype=object),\n",
              " array([['kwa kuhusika kwenye mauaji ya raia wanaoshinikiza kuondolewa madarakani kwa utawala wa kanali muhamar gadaffi']],\n",
              "       dtype=object)]"
            ]
          },
          "metadata": {},
          "execution_count": 16
        }
      ]
    },
    {
      "cell_type": "code",
      "metadata": {
        "id": "gjka6ZRB4lnQ"
      },
      "source": [
        "txts = np.array(txts).reshape(-1)"
      ],
      "execution_count": 17,
      "outputs": []
    },
    {
      "cell_type": "code",
      "metadata": {
        "id": "VstkomUO4oEo",
        "colab": {
          "base_uri": "https://localhost:8080/"
        },
        "outputId": "1c8476b1-18a8-4a95-b663-bf1883a616f3"
      },
      "source": [
        "txts[:5]"
      ],
      "execution_count": 18,
      "outputs": [
        {
          "output_type": "execute_result",
          "data": {
            "text/plain": [
              "array(['moyo unapata matatizo unaweza ukapata kwa matatizo kama ya',\n",
              "       'inawezekana kwamba watu wamekerwa na hivi vitendo vya mauaji',\n",
              "       'mambo ya kikatili hataruhusiwa kuania nyadhifa yoyote',\n",
              "       'au bidhaa gani wanaweza wakauza nje ya nchi',\n",
              "       'kwa kuhusika kwenye mauaji ya raia wanaoshinikiza kuondolewa madarakani kwa utawala wa kanali muhamar gadaffi'],\n",
              "      dtype=object)"
            ]
          },
          "metadata": {},
          "execution_count": 18
        }
      ]
    },
    {
      "cell_type": "code",
      "metadata": {
        "id": "CYq-f7X44qvf"
      },
      "source": [
        "clean_txts = []\n",
        "alphabets = 'a b c d e f g h i j k l m n o p q r s t u v w x y z'.split()\n",
        "for txt in txts:\n",
        "    clean_txt = []\n",
        "    for c in txt:\n",
        "        if c not in alphabets and c != ' ':\n",
        "            continue\n",
        "        clean_txt.append(c)\n",
        "    clean_txt = ''.join(clean_txt)\n",
        "    clean_txts.append(clean_txt)"
      ],
      "execution_count": 19,
      "outputs": []
    },
    {
      "cell_type": "code",
      "metadata": {
        "id": "Ch13U-Vv4uIr",
        "colab": {
          "base_uri": "https://localhost:8080/"
        },
        "outputId": "43686f05-b0e6-47c6-d511-1aa048d68461"
      },
      "source": [
        "clean_txts[:5]"
      ],
      "execution_count": 20,
      "outputs": [
        {
          "output_type": "execute_result",
          "data": {
            "text/plain": [
              "['moyo unapata matatizo unaweza ukapata kwa matatizo kama ya',\n",
              " 'inawezekana kwamba watu wamekerwa na hivi vitendo vya mauaji',\n",
              " 'mambo ya kikatili hataruhusiwa kuania nyadhifa yoyote',\n",
              " 'au bidhaa gani wanaweza wakauza nje ya nchi',\n",
              " 'kwa kuhusika kwenye mauaji ya raia wanaoshinikiza kuondolewa madarakani kwa utawala wa kanali muhamar gadaffi']"
            ]
          },
          "metadata": {},
          "execution_count": 20
        }
      ]
    },
    {
      "cell_type": "code",
      "metadata": {
        "id": "seMjkuPb4wT0",
        "colab": {
          "base_uri": "https://localhost:8080/"
        },
        "outputId": "19cfcacb-32e7-43ff-8be1-3928ce666a4e"
      },
      "source": [
        "'' in clean_txts"
      ],
      "execution_count": 21,
      "outputs": [
        {
          "output_type": "execute_result",
          "data": {
            "text/plain": [
              "True"
            ]
          },
          "metadata": {},
          "execution_count": 21
        }
      ]
    },
    {
      "cell_type": "code",
      "metadata": {
        "id": "4xxbBENA5U-x",
        "colab": {
          "base_uri": "https://localhost:8080/",
          "height": 206
        },
        "outputId": "7ea90925-a42f-436e-b460-06c28e570530"
      },
      "source": [
        "df = pd.DataFrame(clean_txts)\n",
        "df.columns = ['texts']\n",
        "df.head()"
      ],
      "execution_count": 22,
      "outputs": [
        {
          "output_type": "execute_result",
          "data": {
            "text/html": [
              "<div>\n",
              "<style scoped>\n",
              "    .dataframe tbody tr th:only-of-type {\n",
              "        vertical-align: middle;\n",
              "    }\n",
              "\n",
              "    .dataframe tbody tr th {\n",
              "        vertical-align: top;\n",
              "    }\n",
              "\n",
              "    .dataframe thead th {\n",
              "        text-align: right;\n",
              "    }\n",
              "</style>\n",
              "<table border=\"1\" class=\"dataframe\">\n",
              "  <thead>\n",
              "    <tr style=\"text-align: right;\">\n",
              "      <th></th>\n",
              "      <th>texts</th>\n",
              "    </tr>\n",
              "  </thead>\n",
              "  <tbody>\n",
              "    <tr>\n",
              "      <th>0</th>\n",
              "      <td>moyo unapata matatizo unaweza ukapata kwa mata...</td>\n",
              "    </tr>\n",
              "    <tr>\n",
              "      <th>1</th>\n",
              "      <td>inawezekana kwamba watu wamekerwa na hivi vite...</td>\n",
              "    </tr>\n",
              "    <tr>\n",
              "      <th>2</th>\n",
              "      <td>mambo ya kikatili hataruhusiwa kuania nyadhifa...</td>\n",
              "    </tr>\n",
              "    <tr>\n",
              "      <th>3</th>\n",
              "      <td>au bidhaa gani wanaweza wakauza nje ya nchi</td>\n",
              "    </tr>\n",
              "    <tr>\n",
              "      <th>4</th>\n",
              "      <td>kwa kuhusika kwenye mauaji ya raia wanaoshinik...</td>\n",
              "    </tr>\n",
              "  </tbody>\n",
              "</table>\n",
              "</div>"
            ],
            "text/plain": [
              "                                               texts\n",
              "0  moyo unapata matatizo unaweza ukapata kwa mata...\n",
              "1  inawezekana kwamba watu wamekerwa na hivi vite...\n",
              "2  mambo ya kikatili hataruhusiwa kuania nyadhifa...\n",
              "3        au bidhaa gani wanaweza wakauza nje ya nchi\n",
              "4  kwa kuhusika kwenye mauaji ya raia wanaoshinik..."
            ]
          },
          "metadata": {},
          "execution_count": 22
        }
      ]
    },
    {
      "cell_type": "code",
      "metadata": {
        "id": "viWJRJbs5YVF",
        "colab": {
          "base_uri": "https://localhost:8080/"
        },
        "outputId": "b9192896-2e67-4299-f775-c67a9ce0c338"
      },
      "source": [
        "idxs = df[df['texts'] == ''].index\n",
        "idxs"
      ],
      "execution_count": 23,
      "outputs": [
        {
          "output_type": "execute_result",
          "data": {
            "text/plain": [
              "Int64Index([123, 433, 462, 552], dtype='int64')"
            ]
          },
          "metadata": {},
          "execution_count": 23
        }
      ]
    },
    {
      "cell_type": "code",
      "metadata": {
        "id": "BEW-ZmtJQ0kS"
      },
      "source": [
        "del clean_txts[idxs[-1]]\n",
        "del clean_txts[idxs[-2]]\n",
        "del clean_txts[idxs[-3]]\n",
        "del clean_txts[idxs[-4]]"
      ],
      "execution_count": 24,
      "outputs": []
    },
    {
      "cell_type": "code",
      "metadata": {
        "id": "SxxGn21Bzwsu"
      },
      "source": [
        "#while '' in clean_txts:\n",
        "#  clean_txts.remove('')"
      ],
      "execution_count": 25,
      "outputs": []
    },
    {
      "cell_type": "code",
      "metadata": {
        "id": "_NnX9GCXz0C6",
        "colab": {
          "base_uri": "https://localhost:8080/"
        },
        "outputId": "519ff38d-fa29-4333-a23c-d13323bf2521"
      },
      "source": [
        "'' in clean_txts"
      ],
      "execution_count": 26,
      "outputs": [
        {
          "output_type": "execute_result",
          "data": {
            "text/plain": [
              "False"
            ]
          },
          "metadata": {},
          "execution_count": 26
        }
      ]
    },
    {
      "cell_type": "code",
      "metadata": {
        "id": "1hRZIfvGP0bV"
      },
      "source": [
        "del sample_audios[idxs[-1]]\n",
        "del sample_audios[idxs[-2]]\n",
        "del sample_audios[idxs[-3]]\n",
        "del sample_audios[idxs[-4]]"
      ],
      "execution_count": 27,
      "outputs": []
    },
    {
      "cell_type": "code",
      "metadata": {
        "id": "vrL2tJ7HhRSC",
        "colab": {
          "base_uri": "https://localhost:8080/"
        },
        "outputId": "2026dfd0-2394-414c-de67-ccdf0ba84bf0"
      },
      "source": [
        "len(clean_txts)"
      ],
      "execution_count": 28,
      "outputs": [
        {
          "output_type": "execute_result",
          "data": {
            "text/plain": [
              "1096"
            ]
          },
          "metadata": {},
          "execution_count": 28
        }
      ]
    },
    {
      "cell_type": "code",
      "metadata": {
        "id": "nP1XLYMSZpCJ",
        "colab": {
          "base_uri": "https://localhost:8080/"
        },
        "outputId": "6e301bfb-f497-4855-b4b4-734ff7231178"
      },
      "source": [
        "len(sample_audios)"
      ],
      "execution_count": 29,
      "outputs": [
        {
          "output_type": "execute_result",
          "data": {
            "text/plain": [
              "1096"
            ]
          },
          "metadata": {},
          "execution_count": 29
        }
      ]
    },
    {
      "cell_type": "markdown",
      "metadata": {
        "id": "JC34JeCkO4X6"
      },
      "source": [
        "# Preprocessing"
      ]
    },
    {
      "cell_type": "markdown",
      "metadata": {
        "id": "lPkuTaOkO8vc"
      },
      "source": [
        "Tokenization"
      ]
    },
    {
      "cell_type": "code",
      "metadata": {
        "id": "xDLm7ML5O_FQ"
      },
      "source": [
        "def character_dict():\n",
        "    alphabet = 'a b c d e f g h i j k l m n o p q r s t u v w x y z'\n",
        "    supported = alphabet.split()\n",
        "\n",
        "    char_map = {}\n",
        "    char_map[\"\"] = 0\n",
        "    char_map[\"<SPACE>\"] = 1\n",
        "    idx = 2\n",
        "    for c in supported:\n",
        "        char_map[c] = idx\n",
        "        idx += 1\n",
        "    index_map = {v: k for k, v in char_map.items()}\n",
        "    return char_map, index_map"
      ],
      "execution_count": 30,
      "outputs": []
    },
    {
      "cell_type": "code",
      "metadata": {
        "id": "tEUXkVBmQweU"
      },
      "source": [
        "char_map, index_map = character_dict()"
      ],
      "execution_count": 31,
      "outputs": []
    },
    {
      "cell_type": "code",
      "metadata": {
        "id": "9Pm4OqOOQxeF",
        "colab": {
          "base_uri": "https://localhost:8080/"
        },
        "outputId": "78cde5b4-b332-460e-b701-45a2570e38aa"
      },
      "source": [
        "char_map"
      ],
      "execution_count": 32,
      "outputs": [
        {
          "output_type": "execute_result",
          "data": {
            "text/plain": [
              "{'': 0,\n",
              " '<SPACE>': 1,\n",
              " 'a': 2,\n",
              " 'b': 3,\n",
              " 'c': 4,\n",
              " 'd': 5,\n",
              " 'e': 6,\n",
              " 'f': 7,\n",
              " 'g': 8,\n",
              " 'h': 9,\n",
              " 'i': 10,\n",
              " 'j': 11,\n",
              " 'k': 12,\n",
              " 'l': 13,\n",
              " 'm': 14,\n",
              " 'n': 15,\n",
              " 'o': 16,\n",
              " 'p': 17,\n",
              " 'q': 18,\n",
              " 'r': 19,\n",
              " 's': 20,\n",
              " 't': 21,\n",
              " 'u': 22,\n",
              " 'v': 23,\n",
              " 'w': 24,\n",
              " 'x': 25,\n",
              " 'y': 26,\n",
              " 'z': 27}"
            ]
          },
          "metadata": {},
          "execution_count": 32
        }
      ]
    },
    {
      "cell_type": "code",
      "metadata": {
        "id": "FzXdNaoPQ7Ci"
      },
      "source": [
        "def text_to_int_sequence(text):\n",
        "    \"\"\" Convert text to an integer sequence \"\"\"\n",
        "    int_sequence = []\n",
        "    for c in text:\n",
        "        if c == ' ':\n",
        "            ch = char_map['<SPACE>']\n",
        "        elif c in alphabets:\n",
        "            ch = char_map[c]\n",
        "        else:\n",
        "            print(c)\n",
        "            print('character not found')\n",
        "            break\n",
        "        int_sequence.append(ch)\n",
        "    return np.array(int_sequence)"
      ],
      "execution_count": 33,
      "outputs": []
    },
    {
      "cell_type": "code",
      "metadata": {
        "id": "FGUGBfWFQ8N2"
      },
      "source": [
        "def int_sequence_to_text(int_sequence):\n",
        "    \"\"\" Convert an integer sequence to text \"\"\"\n",
        "    textch = []\n",
        "    for c in int_sequence:\n",
        "        ch = index_map[c]\n",
        "        textch.append(ch)\n",
        "    text = ''.join(textch)\n",
        "    text = text.replace('<SPACE>', ' ')\n",
        "    return text"
      ],
      "execution_count": 34,
      "outputs": []
    },
    {
      "cell_type": "code",
      "metadata": {
        "id": "2fsxI6HcZRE_"
      },
      "source": [
        "class DataGenerator(tf.keras.utils.Sequence):\n",
        "    def __init__(self, audios, texts, batch_size=32):\n",
        "        self.audios = audios\n",
        "        self.texts = texts\n",
        "        self.batch_size = batch_size\n",
        "        self.steps = int(len(self.audios) // self.batch_size)\n",
        "        self.on_epoch_end()\n",
        "\n",
        "    def __len__(self):\n",
        "        return self.steps\n",
        "\n",
        "    def on_epoch_end(self):\n",
        "        self.indexes = np.arange(self.steps*self.batch_size)\n",
        "        # np.random.shuffle(self.indexes)\n",
        "\n",
        "    def __getitem__(self, index):\n",
        "        indexes = self.indexes[int(index*self.batch_size):int((index+1)*self.batch_size)]\n",
        "    \n",
        "        batch_audios = [self.audios[int(i)] for i in indexes]\n",
        "        batch_texts = [self.texts[int(i)] for i in indexes]\n",
        "        \n",
        "        return  self.data_generation(batch_audios, batch_texts)\n",
        "    \n",
        "    def data_generation(self, batch_audios, batch_texts):\n",
        "\n",
        "        longest_audio = max([len(i) for i in batch_audios])\n",
        "        longest_txt = max([len(i) for i in batch_texts])\n",
        "\n",
        "        audios          = np.zeros([int(self.batch_size), longest_audio], dtype=\"float32\")\n",
        "        txts            = np.zeros([int(self.batch_size), longest_txt], dtype=\"int64\")\n",
        "        audio_length    = np.zeros([int(self.batch_size)], dtype=\"int64\")\n",
        "        txt_length      = np.zeros([int(self.batch_size)], dtype=\"int64\")\n",
        "\n",
        "        i = 0\n",
        "        for audio, txt in zip(batch_audios, batch_texts):\n",
        "\n",
        "            txt_len = len(txt)\n",
        "\n",
        "            txt = text_to_int_sequence(txt)\n",
        "       \n",
        "            txts[i,: txt_len] = txt\n",
        "\n",
        "            audio_len = len(audio)\n",
        "\n",
        "            audios[i, :audio_len] = audio\n",
        "\n",
        "            audio_length[i] = audio_len\n",
        "            txt_length[i] = txt_len\n",
        "\n",
        "            i+=1          \n",
        "            \n",
        "        outputs = {'ctc': np.zeros([self.batch_size])}\n",
        "        inputs = {\n",
        "                    'the_input':    tf.convert_to_tensor(audios), \n",
        "                    'the_labels':   tf.convert_to_tensor(txts), \n",
        "                    'input_length': tf.convert_to_tensor(audio_length), \n",
        "                    'label_length': tf.convert_to_tensor(txt_length),\n",
        "                }\n",
        "        return (inputs, outputs)\n"
      ],
      "execution_count": 35,
      "outputs": []
    },
    {
      "cell_type": "code",
      "metadata": {
        "id": "GlSv_P-Ra7K-"
      },
      "source": [
        "dg = DataGenerator(sample_audios, clean_txts)"
      ],
      "execution_count": 36,
      "outputs": []
    },
    {
      "cell_type": "code",
      "metadata": {
        "id": "2ETjjziia9fT",
        "colab": {
          "base_uri": "https://localhost:8080/"
        },
        "outputId": "1769ea10-c09e-41d9-af32-750e106c388f"
      },
      "source": [
        "len(dg)"
      ],
      "execution_count": 37,
      "outputs": [
        {
          "output_type": "execute_result",
          "data": {
            "text/plain": [
              "34"
            ]
          },
          "metadata": {},
          "execution_count": 37
        }
      ]
    },
    {
      "cell_type": "code",
      "metadata": {
        "id": "oE61tFoybCN7",
        "colab": {
          "base_uri": "https://localhost:8080/"
        },
        "outputId": "69c66524-e2b8-4860-ac2d-5e9efde9e638"
      },
      "source": [
        "dg[2]"
      ],
      "execution_count": 38,
      "outputs": [
        {
          "output_type": "execute_result",
          "data": {
            "text/plain": [
              "({'input_length': <tf.Tensor: shape=(32,), dtype=int64, numpy=\n",
              "  array([106502,  54465,  56225, 125244,  57329,  71883, 101432,  52037,\n",
              "          56670,  97020,  56227,  52260,  48069, 113558,  54464,  72765,\n",
              "          50935,  98784,  55346,  74087,  56228,  66591,  76073, 102974,\n",
              "          79379,  70782,  60413, 101209,  53361,  72327,  47846, 117746])>,\n",
              "  'label_length': <tf.Tensor: shape=(32,), dtype=int64, numpy=\n",
              "  array([ 85,  48,  43,  94,  40,  43,  67,  44,  42,  78,  50,  56,  34,\n",
              "         116,  45,  57,  43,  65,  46,  63,  52,  79,  67,  75,  56,  60,\n",
              "          53,  97,  29,  49,  21,  57])>,\n",
              "  'the_input': <tf.Tensor: shape=(32, 125244), dtype=float32, numpy=\n",
              "  array([[-0.00812266, -0.00989351, -0.00818363, ...,  0.        ,\n",
              "           0.        ,  0.        ],\n",
              "         [ 0.02433199,  0.02783113,  0.02393582, ...,  0.        ,\n",
              "           0.        ,  0.        ],\n",
              "         [ 0.00436307,  0.00565069,  0.0060805 , ...,  0.        ,\n",
              "           0.        ,  0.        ],\n",
              "         ...,\n",
              "         [-0.00295565,  0.00060368,  0.00483671, ...,  0.        ,\n",
              "           0.        ,  0.        ],\n",
              "         [-0.00061891, -0.00061906, -0.00032777, ...,  0.        ,\n",
              "           0.        ,  0.        ],\n",
              "         [ 0.01523486,  0.04532695,  0.03983384, ...,  0.        ,\n",
              "           0.        ,  0.        ]], dtype=float32)>,\n",
              "  'the_labels': <tf.Tensor: shape=(32, 116), dtype=int64, numpy=\n",
              "  array([[24,  2, 27, ...,  0,  0,  0],\n",
              "         [15, 10, 23, ...,  0,  0,  0],\n",
              "         [15,  2,  1, ...,  0,  0,  0],\n",
              "         ...,\n",
              "         [26,  2,  1, ...,  0,  0,  0],\n",
              "         [10, 13, 10, ...,  0,  0,  0],\n",
              "         [ 2, 14,  3, ...,  0,  0,  0]])>},\n",
              " {'ctc': array([0., 0., 0., 0., 0., 0., 0., 0., 0., 0., 0., 0., 0., 0., 0., 0., 0.,\n",
              "         0., 0., 0., 0., 0., 0., 0., 0., 0., 0., 0., 0., 0., 0., 0.])})"
            ]
          },
          "metadata": {},
          "execution_count": 38
        }
      ]
    },
    {
      "cell_type": "code",
      "metadata": {
        "id": "bCL_9qHxFnmR"
      },
      "source": [
        "batch1 = dg[0][0]"
      ],
      "execution_count": 39,
      "outputs": []
    },
    {
      "cell_type": "code",
      "metadata": {
        "id": "Y4XJH1jFFqrg",
        "colab": {
          "base_uri": "https://localhost:8080/"
        },
        "outputId": "6fbba8a1-a174-4059-b3f2-c5fdf65f9df1"
      },
      "source": [
        "batch1['the_labels']"
      ],
      "execution_count": 40,
      "outputs": [
        {
          "output_type": "execute_result",
          "data": {
            "text/plain": [
              "<tf.Tensor: shape=(32, 109), dtype=int64, numpy=\n",
              "array([[14, 16, 26, ...,  0,  0,  0],\n",
              "       [10, 15,  2, ...,  0,  0,  0],\n",
              "       [14,  2, 14, ...,  0,  0,  0],\n",
              "       ...,\n",
              "       [27, 10, 14, ...,  0,  0,  0],\n",
              "       [15,  2,  1, ...,  0,  0,  0],\n",
              "       [15,  2,  1, ...,  0,  0,  0]])>"
            ]
          },
          "metadata": {},
          "execution_count": 40
        }
      ]
    },
    {
      "cell_type": "code",
      "metadata": {
        "id": "qavEMIx3FscM",
        "colab": {
          "base_uri": "https://localhost:8080/"
        },
        "outputId": "f8ed4828-74db-42b2-ddaf-bd96a0f1dab6"
      },
      "source": [
        "batch1['the_input']"
      ],
      "execution_count": 41,
      "outputs": [
        {
          "output_type": "execute_result",
          "data": {
            "text/plain": [
              "<tf.Tensor: shape=(32, 131858), dtype=float32, numpy=\n",
              "array([[-5.1863431e-03, -3.7094415e-03,  5.1115605e-04, ...,\n",
              "         0.0000000e+00,  0.0000000e+00,  0.0000000e+00],\n",
              "       [ 2.0394609e-03,  3.2625867e-03,  4.5679305e-03, ...,\n",
              "         0.0000000e+00,  0.0000000e+00,  0.0000000e+00],\n",
              "       [-2.5505594e-03, -1.6648067e-03,  1.1030279e-05, ...,\n",
              "         0.0000000e+00,  0.0000000e+00,  0.0000000e+00],\n",
              "       ...,\n",
              "       [ 1.8812959e-03,  1.1386876e-03, -2.1179138e-04, ...,\n",
              "         0.0000000e+00,  0.0000000e+00,  0.0000000e+00],\n",
              "       [-4.4094473e-02, -5.2660685e-02, -4.1221883e-02, ...,\n",
              "         0.0000000e+00,  0.0000000e+00,  0.0000000e+00],\n",
              "       [-1.5952030e-02, -2.0318404e-02, -2.1630375e-02, ...,\n",
              "         0.0000000e+00,  0.0000000e+00,  0.0000000e+00]], dtype=float32)>"
            ]
          },
          "metadata": {},
          "execution_count": 41
        }
      ]
    },
    {
      "cell_type": "markdown",
      "metadata": {
        "id": "reQsClloeTxu"
      },
      "source": [
        "# CTC"
      ]
    },
    {
      "cell_type": "markdown",
      "metadata": {
        "id": "f2UZeukSeZ-K"
      },
      "source": [
        "Connectionist Temporal Clasification"
      ]
    },
    {
      "cell_type": "code",
      "metadata": {
        "id": "p8-9Wre7elYR"
      },
      "source": [
        "def ctc_lambda_func(args):\n",
        "    y_pred, labels, input_length, label_length = args\n",
        "    return K.ctc_batch_cost(labels, y_pred, input_length, label_length)"
      ],
      "execution_count": 42,
      "outputs": []
    },
    {
      "cell_type": "code",
      "metadata": {
        "id": "6jJ0-R9DenvL"
      },
      "source": [
        "def input_lengths_lambda_func(args):\n",
        "    input_length = args\n",
        "    return tf.cast(tf.math.floor(input_length/hop_size)-1, dtype=\"float32\")"
      ],
      "execution_count": 43,
      "outputs": []
    },
    {
      "cell_type": "code",
      "metadata": {
        "id": "yuwb3H3yeptr"
      },
      "source": [
        "def add_ctc_loss(model_builder):\n",
        "    the_labels      = Input(name='the_labels',      shape=(None,), dtype='float32')\n",
        "    input_lengths   = Input(name='input_length',    shape=(1,), dtype='float32')\n",
        "    label_lengths   = Input(name='label_length',    shape=(1,), dtype='float32')\n",
        "\n",
        "    input_lengths2 = Lambda(input_lengths_lambda_func)(input_lengths)\n",
        "    if model_builder.output_length:\n",
        "         output_lengths  = Lambda(model_builder.output_length)(input_lengths2)\n",
        "    else:\n",
        "         output_lengths  = input_lengths2\n",
        "    \n",
        "    # CTC loss is implemented in a lambda layer\n",
        "    loss_out = Lambda(ctc_lambda_func, output_shape=(1,), name='ctc')([model_builder.output, the_labels, output_lengths, label_lengths])\n",
        "    model = Model( inputs=[model_builder.input, the_labels, input_lengths, label_lengths],  outputs=loss_out)\n",
        "    return model"
      ],
      "execution_count": 44,
      "outputs": []
    },
    {
      "cell_type": "markdown",
      "metadata": {
        "id": "OJleTY4jet56"
      },
      "source": [
        "# Log Mel Spectrogram"
      ]
    },
    {
      "cell_type": "code",
      "metadata": {
        "id": "qGpv54hHezrY"
      },
      "source": [
        "class LogMelSpectrogram(tf.keras.layers.Layer):\n",
        "    \"\"\"Compute log-magnitude mel-scaled spectrograms.\"\"\"\n",
        "\n",
        "    def __init__(self, sample_rate, fft_size, hop_size, n_mels,\n",
        "                 f_min=0.0, f_max=None, **kwargs):\n",
        "        super(LogMelSpectrogram, self).__init__(**kwargs)\n",
        "        self.sample_rate = sample_rate\n",
        "        self.fft_size = fft_size\n",
        "        self.hop_size = hop_size\n",
        "        self.n_mels = n_mels\n",
        "        self.f_min = f_min\n",
        "        self.f_max = f_max if f_max else sample_rate / 2\n",
        "        self.mel_filterbank = tf.signal.linear_to_mel_weight_matrix(\n",
        "            num_mel_bins=self.n_mels,\n",
        "            num_spectrogram_bins=fft_size // 2 + 1,\n",
        "            sample_rate=self.sample_rate,\n",
        "            lower_edge_hertz=self.f_min,\n",
        "            upper_edge_hertz=self.f_max)\n",
        "\n",
        "    def build(self, input_shape):\n",
        "        self.non_trainable_weights.append(self.mel_filterbank)\n",
        "        super(LogMelSpectrogram, self).build(input_shape)\n",
        "\n",
        "    def call(self, waveforms):\n",
        "        \"\"\"Forward pass.\n",
        "        Parameters\n",
        "        ----------\n",
        "        waveforms : tf.Tensor, shape = (None, n_samples)\n",
        "            A Batch of mono waveforms.\n",
        "        Returns\n",
        "        -------\n",
        "        log_mel_spectrograms : (tf.Tensor), shape = (None, time, freq, ch)\n",
        "            The corresponding batch of log-mel-spectrograms\n",
        "        \"\"\"\n",
        "        def _tf_log10(x):\n",
        "            numerator = tf.math.log(x)\n",
        "            denominator = tf.math.log(tf.constant(10, dtype=numerator.dtype))\n",
        "            return numerator / denominator\n",
        "\n",
        "        def power_to_db(magnitude, amin=1e-16, top_db=80.0):\n",
        "            \"\"\"\n",
        "            https://librosa.github.io/librosa/generated/librosa.core.power_to_db.html\n",
        "            \"\"\"\n",
        "            ref_value = tf.reduce_max(magnitude)\n",
        "            log_spec = 10.0 * _tf_log10(tf.maximum(amin, magnitude))\n",
        "            log_spec -= 10.0 * _tf_log10(tf.maximum(amin, ref_value))\n",
        "            log_spec = tf.maximum(log_spec, tf.reduce_max(log_spec) - top_db)\n",
        "\n",
        "            return log_spec\n",
        "\n",
        "        spectrograms = tf.signal.stft(waveforms,\n",
        "                                      frame_length=self.fft_size,\n",
        "                                      frame_step=self.hop_size,\n",
        "                                      pad_end=False)\n",
        "\n",
        "        magnitude_spectrograms = tf.abs(spectrograms)\n",
        "\n",
        "        mel_spectrograms = tf.matmul(tf.square(magnitude_spectrograms),\n",
        "                                     self.mel_filterbank)\n",
        "\n",
        "        log_mel_spectrograms = power_to_db(mel_spectrograms)\n",
        "\n",
        "        # add channel dimension\n",
        "        log_mel_spectrograms = tf.expand_dims(log_mel_spectrograms, 3)\n",
        "\n",
        "        return log_mel_spectrograms\n",
        "\n",
        "    def get_config(self):\n",
        "        config = {\n",
        "            'fft_size': self.fft_size,\n",
        "            'hop_size': self.hop_size,\n",
        "            'n_mels': self.n_mels,\n",
        "            'sample_rate': self.sample_rate,\n",
        "            'f_min': self.f_min,\n",
        "            'f_max': self.f_max,\n",
        "        }\n",
        "        config.update(super(LogMelSpectrogram, self).get_config())\n",
        "\n",
        "        return config"
      ],
      "execution_count": 45,
      "outputs": []
    },
    {
      "cell_type": "markdown",
      "metadata": {
        "id": "wSebksYG2NXM"
      },
      "source": [
        "# Models"
      ]
    },
    {
      "cell_type": "code",
      "metadata": {
        "id": "eHHAHeJu2Q-G"
      },
      "source": [
        "def preprocessin_model(sample_rate, fft_size, frame_step, n_mels, mfcc=False):\n",
        "\n",
        "    input_data = Input(name='input', shape=(None,), dtype=\"float32\")\n",
        "    featLayer = LogMelSpectrogram(\n",
        "        fft_size=fft_size,\n",
        "        hop_size=frame_step,\n",
        "        n_mels=n_mels,\n",
        "        \n",
        "        sample_rate=sample_rate,\n",
        "        f_min=0.0,\n",
        "        \n",
        "        f_max=int(sample_rate / 2)\n",
        "    )(input_data)\n",
        "    \n",
        "    x = BatchNormalization()(featLayer)\n",
        "    model = Model(inputs=input_data, outputs=x, name=\"preprocessin_model\")\n",
        "\n",
        "    return model"
      ],
      "execution_count": 46,
      "outputs": []
    },
    {
      "cell_type": "code",
      "metadata": {
        "id": "CZiexFZ62UHt"
      },
      "source": [
        "def simple_rnn_model(input_dim, output_dim=224):\n",
        "\n",
        "    input_data = Input(name='the_input', shape=(None, input_dim))\n",
        "    simp_rnn = GRU(output_dim, return_sequences=True,\n",
        "                   implementation=2, name='rnn')(input_data)\n",
        "    y_pred = Activation('softmax', name='softmax')(simp_rnn)\n",
        "    model = Model(inputs=input_data, outputs=y_pred, name=\"simple_rnn_model\")\n",
        "    model.output_length = lambda x: x\n",
        "    return model\n"
      ],
      "execution_count": 47,
      "outputs": []
    },
    {
      "cell_type": "code",
      "metadata": {
        "id": "Om_Vktt-2Xg2"
      },
      "source": [
        "def BidirectionalRNN(input_dim, rnn_layers=2, units=400, drop_out=0.5, act='tanh', output_dim=224):\n",
        "\n",
        "    input_data = Input(name='the_input', shape=(\n",
        "        None, input_dim))\n",
        "\n",
        "    x = Bidirectional(LSTM(units,  activation=act,\n",
        "                      return_sequences=True, implementation=2))(input_data)\n",
        "    x = BatchNormalization()(x)\n",
        "    x = Dropout(drop_out)(x)\n",
        "\n",
        "    for i in range(rnn_layers - 2):\n",
        "        x = Bidirectional(\n",
        "            LSTM(units, activation=act, return_sequences=True))(x)\n",
        "        x = BatchNormalization()(x)\n",
        "        x = Dropout(drop_out)(x)\n",
        "\n",
        "    x = Bidirectional(LSTM(units,  activation=act,\n",
        "                      return_sequences=True, implementation=2))(x)\n",
        "    x = BatchNormalization()(x)\n",
        "    x = Dropout(drop_out)(x)\n",
        "\n",
        "    time_dense = TimeDistributed(Dense(output_dim))(x)\n",
        "\n",
        "    y_pred = Activation('softmax', name='softmax')(time_dense)\n",
        "\n",
        "    model = Model(inputs=input_data, outputs=y_pred, name=\"BidirectionalRNN\")\n",
        "\n",
        "    return model"
      ],
      "execution_count": 48,
      "outputs": []
    },
    {
      "cell_type": "code",
      "metadata": {
        "id": "lKjSvjje2Ybu"
      },
      "source": [
        "def conv_rnn(n_mels, output_dim=224, rnn_layers=4, units=400, drop_out=0.5, act='tanh'):\n",
        "\n",
        "    input_data = Input(name='the_input', shape=(None, n_mels, 1))\n",
        "\n",
        "    y = Conv2D(32, (3, 3), padding='same')(input_data)  # was 32\n",
        "    y = Activation('relu')(y)\n",
        "    y = BatchNormalization()(y)\n",
        "\n",
        "    x = MaxPooling2D((1, 2))(y)\n",
        "\n",
        "    x = Conv2D(64, (3, 3), padding='same')(y)  # was 32\n",
        "    x = Activation('relu')(x)\n",
        "    y = BatchNormalization()(y)\n",
        "\n",
        "    x = MaxPooling2D((1, 2))(x)\n",
        "\n",
        "    x = Conv2D(128, (3, 3), padding='same')(x)\n",
        "    x = Activation('relu')(x)\n",
        "    y = BatchNormalization()(y)\n",
        "\n",
        "    x = MaxPooling2D((1, 2))(x)\n",
        "\n",
        "    x = Dense(128)(x)\n",
        "    x = Dense(64)(x)\n",
        "    x = Dense(32)(x)\n",
        "\n",
        "    x = Reshape((-1, x.shape[-1] * x.shape[-2]))(x)\n",
        "\n",
        "    for i in range(rnn_layers):\n",
        "        x = Bidirectional(\n",
        "            LSTM(units, activation=act, return_sequences=True))(x)\n",
        "        x = BatchNormalization()(x)\n",
        "        x = Dropout(drop_out)(x)\n",
        "\n",
        "    bn_rnn = BatchNormalization()(x)\n",
        "\n",
        "    time_dense = TimeDistributed(Dense(output_dim))(bn_rnn)\n",
        "\n",
        "    y_pred = Activation('softmax', name='softmax')(time_dense)\n",
        "\n",
        "    model = Model(inputs=input_data, outputs=y_pred, name=\"custom_model\")\n",
        "\n",
        "    return model"
      ],
      "execution_count": 49,
      "outputs": []
    },
    {
      "cell_type": "code",
      "metadata": {
        "id": "7Yk8JKbX2b9Y"
      },
      "source": [
        "def train(model_builder, \n",
        "          data_gen,\n",
        "          epochs, \n",
        "          verbose=1,\n",
        "          optimizer=SGD(learning_rate=0.002, decay=1e-6, momentum=0.9, nesterov=True, clipnorm=5),\n",
        "          ):    \n",
        "              \n",
        "    model = add_ctc_loss(model_builder)\n",
        "\n",
        "    model.compile(loss={'ctc': lambda y_true, y_pred: y_pred}, optimizer=optimizer)\n",
        "    print(model.summary())\n",
        "\n",
        "    # add checkpointer\n",
        "    #checkpointer = ModelCheckpoint(filepath='/content/drive/MyDrive/structured_data/train/models/cnn_rnn.h5', verbose=1)\n",
        "    early_stopping = EarlyStopping( monitor=\"val_loss\", patience=10, restore_best_weights=True)\n",
        "\n",
        "    hist = model.fit_generator(generator=data_gen,\n",
        "                               epochs=epochs,\n",
        "                               #callbacks=[checkpointer, early_stopping], \n",
        "                               verbose=verbose, \n",
        "                               use_multiprocessing=False)\n",
        "    \n",
        "    #with open('model.pickle', 'wb') as file:\n",
        "      #pickle.dump(model, file)\n",
        "    # save model loss\n",
        "    #with open('/content/drive/MyDrive/dub/cnn_rnn.pickle', 'wb') as f:\n",
        "     #   pickle.dump(hist.history, f)"
      ],
      "execution_count": 50,
      "outputs": []
    },
    {
      "cell_type": "markdown",
      "metadata": {
        "id": "cfJYtUni2y7G"
      },
      "source": [
        "# Training"
      ]
    },
    {
      "cell_type": "code",
      "metadata": {
        "id": "AslefmLg208J"
      },
      "source": [
        "\n",
        "sample_rate = 22050\n",
        "fft_size = 1024\n",
        "frame_step = 512\n",
        "n_mels = 128\n",
        "\n",
        "batch_size = 32\n",
        "epochs = 100\n",
        "data_len = len(clean_txts)\n",
        "output_dim = len(char_map) + 2\n"
      ],
      "execution_count": 51,
      "outputs": []
    },
    {
      "cell_type": "code",
      "metadata": {
        "id": "7wJhZ_JJ23aA"
      },
      "source": [
        "dg = DataGenerator(sample_audios, clean_txts, batch_size)"
      ],
      "execution_count": 52,
      "outputs": []
    },
    {
      "cell_type": "code",
      "metadata": {
        "id": "Wjy39j3h27c3",
        "colab": {
          "base_uri": "https://localhost:8080/"
        },
        "outputId": "62929b85-537e-490b-87e9-85dd482ad17e"
      },
      "source": [
        "preprocess_model = preprocessin_model(sample_rate, fft_size, frame_step, n_mels)\n",
        "preprocess_model.summary()\n"
      ],
      "execution_count": 53,
      "outputs": [
        {
          "output_type": "stream",
          "name": "stdout",
          "text": [
            "Model: \"preprocessin_model\"\n",
            "_________________________________________________________________\n",
            " Layer (type)                Output Shape              Param #   \n",
            "=================================================================\n",
            " input (InputLayer)          [(None, None)]            0         \n",
            "                                                                 \n",
            " log_mel_spectrogram (LogMel  (None, None, 128, 1)     0         \n",
            " Spectrogram)                                                    \n",
            "                                                                 \n",
            " batch_normalization (BatchN  (None, None, 128, 1)     4         \n",
            " ormalization)                                                   \n",
            "                                                                 \n",
            "=================================================================\n",
            "Total params: 4\n",
            "Trainable params: 2\n",
            "Non-trainable params: 2\n",
            "_________________________________________________________________\n"
          ]
        }
      ]
    },
    {
      "cell_type": "code",
      "metadata": {
        "id": "JfRovENo29JI",
        "colab": {
          "base_uri": "https://localhost:8080/"
        },
        "outputId": "9f71c1c4-3ecf-4cce-8fa0-8e7c76959a77"
      },
      "source": [
        "speech_model = conv_rnn(n_mels, output_dim = output_dim)\n",
        "speech_model.summary()\n"
      ],
      "execution_count": 54,
      "outputs": [
        {
          "output_type": "stream",
          "name": "stdout",
          "text": [
            "Model: \"custom_model\"\n",
            "_________________________________________________________________\n",
            " Layer (type)                Output Shape              Param #   \n",
            "=================================================================\n",
            " the_input (InputLayer)      [(None, None, 128, 1)]    0         \n",
            "                                                                 \n",
            " conv2d (Conv2D)             (None, None, 128, 32)     320       \n",
            "                                                                 \n",
            " activation (Activation)     (None, None, 128, 32)     0         \n",
            "                                                                 \n",
            " batch_normalization_1 (Batc  (None, None, 128, 32)    128       \n",
            " hNormalization)                                                 \n",
            "                                                                 \n",
            " conv2d_1 (Conv2D)           (None, None, 128, 64)     18496     \n",
            "                                                                 \n",
            " activation_1 (Activation)   (None, None, 128, 64)     0         \n",
            "                                                                 \n",
            " max_pooling2d_1 (MaxPooling  (None, None, 64, 64)     0         \n",
            " 2D)                                                             \n",
            "                                                                 \n",
            " conv2d_2 (Conv2D)           (None, None, 64, 128)     73856     \n",
            "                                                                 \n",
            " activation_2 (Activation)   (None, None, 64, 128)     0         \n",
            "                                                                 \n",
            " max_pooling2d_2 (MaxPooling  (None, None, 32, 128)    0         \n",
            " 2D)                                                             \n",
            "                                                                 \n",
            " dense (Dense)               (None, None, 32, 128)     16512     \n",
            "                                                                 \n",
            " dense_1 (Dense)             (None, None, 32, 64)      8256      \n",
            "                                                                 \n",
            " dense_2 (Dense)             (None, None, 32, 32)      2080      \n",
            "                                                                 \n",
            " reshape (Reshape)           (None, None, 1024)        0         \n",
            "                                                                 \n",
            " bidirectional (Bidirectiona  (None, None, 800)        4560000   \n",
            " l)                                                              \n",
            "                                                                 \n",
            " batch_normalization_4 (Batc  (None, None, 800)        3200      \n",
            " hNormalization)                                                 \n",
            "                                                                 \n",
            " dropout (Dropout)           (None, None, 800)         0         \n",
            "                                                                 \n",
            " bidirectional_1 (Bidirectio  (None, None, 800)        3843200   \n",
            " nal)                                                            \n",
            "                                                                 \n",
            " batch_normalization_5 (Batc  (None, None, 800)        3200      \n",
            " hNormalization)                                                 \n",
            "                                                                 \n",
            " dropout_1 (Dropout)         (None, None, 800)         0         \n",
            "                                                                 \n",
            " bidirectional_2 (Bidirectio  (None, None, 800)        3843200   \n",
            " nal)                                                            \n",
            "                                                                 \n",
            " batch_normalization_6 (Batc  (None, None, 800)        3200      \n",
            " hNormalization)                                                 \n",
            "                                                                 \n",
            " dropout_2 (Dropout)         (None, None, 800)         0         \n",
            "                                                                 \n",
            " bidirectional_3 (Bidirectio  (None, None, 800)        3843200   \n",
            " nal)                                                            \n",
            "                                                                 \n",
            " batch_normalization_7 (Batc  (None, None, 800)        3200      \n",
            " hNormalization)                                                 \n",
            "                                                                 \n",
            " dropout_3 (Dropout)         (None, None, 800)         0         \n",
            "                                                                 \n",
            " batch_normalization_8 (Batc  (None, None, 800)        3200      \n",
            " hNormalization)                                                 \n",
            "                                                                 \n",
            " time_distributed (TimeDistr  (None, None, 30)         24030     \n",
            " ibuted)                                                         \n",
            "                                                                 \n",
            " softmax (Activation)        (None, None, 30)          0         \n",
            "                                                                 \n",
            "=================================================================\n",
            "Total params: 16,249,278\n",
            "Trainable params: 16,241,214\n",
            "Non-trainable params: 8,064\n",
            "_________________________________________________________________\n"
          ]
        }
      ]
    },
    {
      "cell_type": "code",
      "metadata": {
        "id": "X1M615Xb7tvW"
      },
      "source": [
        "def build_model(output_dim, custom_model, preprocess_model, calc=None):\n",
        "\n",
        "    input_audios = Input(name='the_input', shape=(None,))\n",
        "    pre = preprocess_model(input_audios)\n",
        "    pre = tf.squeeze(pre, [3])\n",
        "\n",
        "    y_pred = custom_model(pre)\n",
        "    model = Model(inputs=input_audios, outputs=y_pred, name=\"model_builder\")\n",
        "    model.output_length = calc\n",
        "\n",
        "    return model"
      ],
      "execution_count": 55,
      "outputs": []
    },
    {
      "cell_type": "code",
      "metadata": {
        "id": "uTJVsdE07uS-",
        "colab": {
          "base_uri": "https://localhost:8080/"
        },
        "outputId": "82ccaae9-e4a2-4f53-e120-86a6ed5eeda1"
      },
      "source": [
        "model = build_model(output_dim, speech_model, preprocess_model)\n",
        "model.summary()\n"
      ],
      "execution_count": 56,
      "outputs": [
        {
          "output_type": "stream",
          "name": "stdout",
          "text": [
            "Model: \"model_builder\"\n",
            "_________________________________________________________________\n",
            " Layer (type)                Output Shape              Param #   \n",
            "=================================================================\n",
            " the_input (InputLayer)      [(None, None)]            0         \n",
            "                                                                 \n",
            " preprocessin_model (Functio  (None, None, 128, 1)     4         \n",
            " nal)                                                            \n",
            "                                                                 \n",
            " tf.compat.v1.squeeze (TFOpL  (None, None, 128)        0         \n",
            " ambda)                                                          \n",
            "                                                                 \n",
            " custom_model (Functional)   (None, None, 30)          16249278  \n",
            "                                                                 \n",
            "=================================================================\n",
            "Total params: 16,249,282\n",
            "Trainable params: 16,241,216\n",
            "Non-trainable params: 8,066\n",
            "_________________________________________________________________\n"
          ]
        }
      ]
    },
    {
      "cell_type": "code",
      "metadata": {
        "id": "Ifnez6Zd7wyW"
      },
      "source": [
        "#model.load_weights('/content/drive/MyDrive/structured_data/train/models/cnn_rnn3.h5')"
      ],
      "execution_count": 57,
      "outputs": []
    },
    {
      "cell_type": "code",
      "metadata": {
        "colab": {
          "base_uri": "https://localhost:8080/"
        },
        "id": "nrHNdu7r7zCP",
        "outputId": "72e4af02-9bc0-40cc-aabe-11855a993d95"
      },
      "source": [
        "hop_size = 512\n",
        "train(model, dg, epochs=100)"
      ],
      "execution_count": 58,
      "outputs": [
        {
          "output_type": "stream",
          "name": "stdout",
          "text": [
            "Model: \"model\"\n",
            "__________________________________________________________________________________________________\n",
            " Layer (type)                   Output Shape         Param #     Connected to                     \n",
            "==================================================================================================\n",
            " the_input (InputLayer)         [(None, None)]       0           []                               \n",
            "                                                                                                  \n",
            " preprocessin_model (Functional  (None, None, 128, 1  4          ['the_input[0][0]']              \n",
            " )                              )                                                                 \n",
            "                                                                                                  \n",
            " tf.compat.v1.squeeze (TFOpLamb  (None, None, 128)   0           ['preprocessin_model[0][0]']     \n",
            " da)                                                                                              \n",
            "                                                                                                  \n",
            " input_length (InputLayer)      [(None, 1)]          0           []                               \n",
            "                                                                                                  \n",
            " custom_model (Functional)      (None, None, 30)     16249278    ['tf.compat.v1.squeeze[0][0]']   \n",
            "                                                                                                  \n",
            " the_labels (InputLayer)        [(None, None)]       0           []                               \n",
            "                                                                                                  \n",
            " lambda (Lambda)                (None, 1)            0           ['input_length[0][0]']           \n",
            "                                                                                                  \n",
            " label_length (InputLayer)      [(None, 1)]          0           []                               \n",
            "                                                                                                  \n",
            " ctc (Lambda)                   (None, 1)            0           ['custom_model[0][0]',           \n",
            "                                                                  'the_labels[0][0]',             \n",
            "                                                                  'lambda[0][0]',                 \n",
            "                                                                  'label_length[0][0]']           \n",
            "                                                                                                  \n",
            "==================================================================================================\n",
            "Total params: 16,249,282\n",
            "Trainable params: 16,241,216\n",
            "Non-trainable params: 8,066\n",
            "__________________________________________________________________________________________________\n",
            "None\n",
            "Epoch 1/100\n",
            "34/34 [==============================] - 129s 3s/step - loss: 196.5695\n",
            "Epoch 2/100\n",
            "34/34 [==============================] - 46s 1s/step - loss: 159.5845\n",
            "Epoch 3/100\n",
            "34/34 [==============================] - 46s 1s/step - loss: 150.2588\n",
            "Epoch 4/100\n",
            "34/34 [==============================] - 46s 1s/step - loss: 139.5683\n",
            "Epoch 5/100\n",
            "34/34 [==============================] - 46s 1s/step - loss: 129.3871\n",
            "Epoch 6/100\n",
            "34/34 [==============================] - 46s 1s/step - loss: 122.9225\n",
            "Epoch 7/100\n",
            "34/34 [==============================] - 46s 1s/step - loss: 116.1362\n",
            "Epoch 8/100\n",
            "34/34 [==============================] - 46s 1s/step - loss: 111.0371\n",
            "Epoch 9/100\n",
            "34/34 [==============================] - 46s 1s/step - loss: 106.8709\n",
            "Epoch 10/100\n",
            "34/34 [==============================] - 46s 1s/step - loss: 102.5891\n",
            "Epoch 11/100\n",
            "34/34 [==============================] - 46s 1s/step - loss: 99.0005\n",
            "Epoch 12/100\n",
            "34/34 [==============================] - 46s 1s/step - loss: 95.9307\n",
            "Epoch 13/100\n",
            "34/34 [==============================] - 46s 1s/step - loss: 93.3816\n",
            "Epoch 14/100\n",
            "34/34 [==============================] - 46s 1s/step - loss: 90.9156\n",
            "Epoch 15/100\n",
            "34/34 [==============================] - 46s 1s/step - loss: 88.2167\n",
            "Epoch 16/100\n",
            "34/34 [==============================] - 46s 1s/step - loss: 86.0376\n",
            "Epoch 17/100\n",
            "34/34 [==============================] - 46s 1s/step - loss: 83.9448\n",
            "Epoch 18/100\n",
            "34/34 [==============================] - 46s 1s/step - loss: 81.8201\n",
            "Epoch 19/100\n",
            "34/34 [==============================] - 46s 1s/step - loss: 79.6597\n",
            "Epoch 20/100\n",
            "34/34 [==============================] - 46s 1s/step - loss: 77.9631\n",
            "Epoch 21/100\n",
            "34/34 [==============================] - 46s 1s/step - loss: 76.2233\n",
            "Epoch 22/100\n",
            "34/34 [==============================] - 46s 1s/step - loss: 74.6226\n",
            "Epoch 23/100\n",
            "34/34 [==============================] - 46s 1s/step - loss: 72.7165\n",
            "Epoch 24/100\n",
            "34/34 [==============================] - 46s 1s/step - loss: 70.9549\n",
            "Epoch 25/100\n",
            "34/34 [==============================] - 46s 1s/step - loss: 69.2150\n",
            "Epoch 26/100\n",
            "34/34 [==============================] - 46s 1s/step - loss: 67.6722\n",
            "Epoch 27/100\n",
            "34/34 [==============================] - 46s 1s/step - loss: 66.1647\n",
            "Epoch 28/100\n",
            "34/34 [==============================] - 46s 1s/step - loss: 64.2290\n",
            "Epoch 29/100\n",
            "34/34 [==============================] - 46s 1s/step - loss: 63.0184\n",
            "Epoch 30/100\n",
            "34/34 [==============================] - 46s 1s/step - loss: 61.2531\n",
            "Epoch 31/100\n",
            "34/34 [==============================] - 46s 1s/step - loss: 59.8059\n",
            "Epoch 32/100\n",
            "34/34 [==============================] - 46s 1s/step - loss: 58.3572\n",
            "Epoch 33/100\n",
            "34/34 [==============================] - 46s 1s/step - loss: 56.7550\n",
            "Epoch 34/100\n",
            "34/34 [==============================] - 46s 1s/step - loss: 55.2536\n",
            "Epoch 35/100\n",
            "34/34 [==============================] - 46s 1s/step - loss: 54.1473\n",
            "Epoch 36/100\n",
            "34/34 [==============================] - 46s 1s/step - loss: 53.0043\n",
            "Epoch 37/100\n",
            "34/34 [==============================] - 46s 1s/step - loss: 51.1921\n",
            "Epoch 38/100\n",
            "34/34 [==============================] - 46s 1s/step - loss: 50.1523\n",
            "Epoch 39/100\n",
            "34/34 [==============================] - 46s 1s/step - loss: 48.9380\n",
            "Epoch 40/100\n",
            "34/34 [==============================] - 46s 1s/step - loss: 47.7085\n",
            "Epoch 41/100\n",
            "34/34 [==============================] - 46s 1s/step - loss: 46.4061\n",
            "Epoch 42/100\n",
            "34/34 [==============================] - 46s 1s/step - loss: 45.3152\n",
            "Epoch 43/100\n",
            "34/34 [==============================] - 46s 1s/step - loss: 43.9476\n",
            "Epoch 44/100\n",
            "34/34 [==============================] - 46s 1s/step - loss: 43.1575\n",
            "Epoch 45/100\n",
            "34/34 [==============================] - 46s 1s/step - loss: 42.1031\n",
            "Epoch 46/100\n",
            "34/34 [==============================] - 46s 1s/step - loss: 40.9948\n",
            "Epoch 47/100\n",
            "34/34 [==============================] - 46s 1s/step - loss: 39.8531\n",
            "Epoch 48/100\n",
            "34/34 [==============================] - 45s 1s/step - loss: 38.8940\n",
            "Epoch 49/100\n",
            "34/34 [==============================] - 46s 1s/step - loss: 37.7330\n",
            "Epoch 50/100\n",
            "34/34 [==============================] - 45s 1s/step - loss: 36.5792\n",
            "Epoch 51/100\n",
            "34/34 [==============================] - 46s 1s/step - loss: 35.7130\n",
            "Epoch 52/100\n",
            "34/34 [==============================] - 46s 1s/step - loss: 35.1594\n",
            "Epoch 53/100\n",
            "34/34 [==============================] - 46s 1s/step - loss: 34.3316\n",
            "Epoch 54/100\n",
            "34/34 [==============================] - 46s 1s/step - loss: 33.0874\n",
            "Epoch 55/100\n",
            "34/34 [==============================] - 46s 1s/step - loss: 32.4489\n",
            "Epoch 56/100\n",
            "34/34 [==============================] - 46s 1s/step - loss: 31.4774\n",
            "Epoch 57/100\n",
            "34/34 [==============================] - 46s 1s/step - loss: 30.6973\n",
            "Epoch 58/100\n",
            "34/34 [==============================] - 46s 1s/step - loss: 30.2992\n",
            "Epoch 59/100\n",
            "34/34 [==============================] - 46s 1s/step - loss: 29.3930\n",
            "Epoch 60/100\n",
            "34/34 [==============================] - 46s 1s/step - loss: 28.5635\n",
            "Epoch 61/100\n",
            "34/34 [==============================] - 46s 1s/step - loss: 27.9387\n",
            "Epoch 62/100\n",
            "34/34 [==============================] - 45s 1s/step - loss: 27.0302\n",
            "Epoch 63/100\n",
            "34/34 [==============================] - 46s 1s/step - loss: 26.7786\n",
            "Epoch 64/100\n",
            "34/34 [==============================] - 46s 1s/step - loss: 25.8683\n",
            "Epoch 65/100\n",
            "34/34 [==============================] - 46s 1s/step - loss: 24.9674\n",
            "Epoch 66/100\n",
            "34/34 [==============================] - 46s 1s/step - loss: 24.9358\n",
            "Epoch 67/100\n",
            "34/34 [==============================] - 46s 1s/step - loss: 23.9402\n",
            "Epoch 68/100\n",
            "34/34 [==============================] - 46s 1s/step - loss: 23.5381\n",
            "Epoch 69/100\n",
            "34/34 [==============================] - 45s 1s/step - loss: 23.0725\n",
            "Epoch 70/100\n",
            "34/34 [==============================] - 45s 1s/step - loss: 22.5581\n",
            "Epoch 71/100\n",
            "34/34 [==============================] - 45s 1s/step - loss: 21.9890\n",
            "Epoch 72/100\n",
            "34/34 [==============================] - 45s 1s/step - loss: 21.3570\n",
            "Epoch 73/100\n",
            "34/34 [==============================] - 46s 1s/step - loss: 21.1130\n",
            "Epoch 74/100\n",
            "34/34 [==============================] - 46s 1s/step - loss: 20.3905\n",
            "Epoch 75/100\n",
            "34/34 [==============================] - 45s 1s/step - loss: 20.0059\n",
            "Epoch 76/100\n",
            "34/34 [==============================] - 46s 1s/step - loss: 19.4437\n",
            "Epoch 77/100\n",
            "34/34 [==============================] - 46s 1s/step - loss: 19.5784\n",
            "Epoch 78/100\n",
            "34/34 [==============================] - 45s 1s/step - loss: 18.6976\n",
            "Epoch 79/100\n",
            "34/34 [==============================] - 46s 1s/step - loss: 18.5936\n",
            "Epoch 80/100\n",
            "34/34 [==============================] - 45s 1s/step - loss: 18.6630\n",
            "Epoch 81/100\n",
            "34/34 [==============================] - 45s 1s/step - loss: 17.6693\n",
            "Epoch 82/100\n",
            "34/34 [==============================] - 46s 1s/step - loss: 17.3867\n",
            "Epoch 83/100\n",
            "34/34 [==============================] - 46s 1s/step - loss: 17.0977\n",
            "Epoch 84/100\n",
            "34/34 [==============================] - 45s 1s/step - loss: 16.9651\n",
            "Epoch 85/100\n",
            "34/34 [==============================] - 45s 1s/step - loss: 16.3587\n",
            "Epoch 86/100\n",
            "34/34 [==============================] - 45s 1s/step - loss: 16.1843\n",
            "Epoch 87/100\n",
            "34/34 [==============================] - 46s 1s/step - loss: 15.7190\n",
            "Epoch 88/100\n",
            "34/34 [==============================] - 45s 1s/step - loss: 15.2930\n",
            "Epoch 89/100\n",
            "34/34 [==============================] - 46s 1s/step - loss: 14.8946\n",
            "Epoch 90/100\n",
            "34/34 [==============================] - 46s 1s/step - loss: 14.8562\n",
            "Epoch 91/100\n",
            "34/34 [==============================] - 45s 1s/step - loss: 14.5738\n",
            "Epoch 92/100\n",
            "34/34 [==============================] - 45s 1s/step - loss: 14.1514\n",
            "Epoch 93/100\n",
            "34/34 [==============================] - 45s 1s/step - loss: 14.0092\n",
            "Epoch 94/100\n",
            "34/34 [==============================] - 45s 1s/step - loss: 13.7004\n",
            "Epoch 95/100\n",
            "34/34 [==============================] - 45s 1s/step - loss: 13.6098\n",
            "Epoch 96/100\n",
            "34/34 [==============================] - 45s 1s/step - loss: 13.1587\n",
            "Epoch 97/100\n",
            "34/34 [==============================] - 45s 1s/step - loss: 12.7227\n",
            "Epoch 98/100\n",
            "34/34 [==============================] - 45s 1s/step - loss: 12.7846\n",
            "Epoch 99/100\n",
            "34/34 [==============================] - 45s 1s/step - loss: 12.5400\n",
            "Epoch 100/100\n",
            "34/34 [==============================] - 46s 1s/step - loss: 12.1400\n"
          ]
        }
      ]
    },
    {
      "cell_type": "code",
      "metadata": {
        "id": "K-0-gC-t74oL",
        "colab": {
          "base_uri": "https://localhost:8080/"
        },
        "outputId": "43a70aad-a71c-4e37-be2a-a9ff37db64ee"
      },
      "source": [
        "!pip install jiwer --quiet"
      ],
      "execution_count": 60,
      "outputs": [
        {
          "output_type": "stream",
          "name": "stdout",
          "text": [
            "\u001b[?25l\r\u001b[K     |██████▌                         | 10 kB 21.3 MB/s eta 0:00:01\r\u001b[K     |█████████████                   | 20 kB 15.8 MB/s eta 0:00:01\r\u001b[K     |███████████████████▌            | 30 kB 12.9 MB/s eta 0:00:01\r\u001b[K     |██████████████████████████      | 40 kB 12.6 MB/s eta 0:00:01\r\u001b[K     |████████████████████████████████| 50 kB 3.1 MB/s \n",
            "\u001b[?25h  Building wheel for python-Levenshtein (setup.py) ... \u001b[?25l\u001b[?25hdone\n"
          ]
        }
      ]
    },
    {
      "cell_type": "code",
      "metadata": {
        "id": "XF_xFEId75JV"
      },
      "source": [
        "from jiwer import wer"
      ],
      "execution_count": 61,
      "outputs": []
    },
    {
      "cell_type": "code",
      "metadata": {
        "id": "iah0Z4k08Ctz"
      },
      "source": [
        "def predict(data_gen,  num_elem=1, index=0):\n",
        "    \n",
        "    pred_data = data_gen.__getitem__(index)\n",
        "\n",
        "    pred_audios = pred_data[0][\"the_input\"]\n",
        "    pred_labels = pred_data[0][\"the_labels\"]\n",
        "    \n",
        "    y_pred = model.predict(pred_audios)\n",
        "\n",
        "    input_shape = tf.keras.backend.shape(y_pred)\n",
        "    input_length = tf.ones(shape=input_shape[0]) * tf.keras.backend.cast(input_shape[1], 'float32')\n",
        "    prediction = tf.keras.backend.ctc_decode(y_pred, input_length, greedy=False)[0][0]\n",
        "    \n",
        "\n",
        "    for i in range(0, num_elem):  # only on clean data\n",
        "        \n",
        "        pred = K.eval(prediction[i]).flatten().tolist()\n",
        "        pred = [i for i in pred if i != -1]\n",
        "\n",
        "\n",
        "\n",
        "        ground_truth = int_sequence_to_text(pred_labels[i].numpy())\n",
        "        hypothesis   = ''.join(int_sequence_to_text(pred))\n",
        "        # error        = wer(ground_truth, hypothesis)\n",
        "        return hypothesis        \n",
        "        print('-'*48 + ' ' + str(i) + ' ' + '-'*48)\n",
        "        print('True transcription:\\n' + '\\n' + ground_truth)\n",
        "        print('-'*100)\n",
        "        print('Predicted transcription:\\n' + '\\n' + hypothesis)\n",
        "        # print('-'*100)\n",
        "        # print('Word Error Rate:' + str(error))\n",
        "        print('\\n')"
      ],
      "execution_count": 62,
      "outputs": []
    },
    {
      "cell_type": "code",
      "metadata": {
        "id": "mT4TvEJHLhrb"
      },
      "source": [
        "os.chdir(\"/content/drive/MyDrive/dub dataset/SWAHILI/data/train/audios\")"
      ],
      "execution_count": 63,
      "outputs": []
    },
    {
      "cell_type": "code",
      "metadata": {
        "id": "IY4-3HeG8DoO",
        "colab": {
          "base_uri": "https://localhost:8080/"
        },
        "outputId": "57c4502d-138c-45fd-a0b2-9c12823c891a"
      },
      "source": [
        "rows1 = []\n",
        "parent_dir1 = \"./\"\n",
        "files1 = os.listdir(parent_dir1)\n",
        "for f in files1[:100]:\n",
        "    audio, fs = librosa.load(f\"{parent_dir1}/{f}\")\n",
        "    filename = f.split('.wav')[0]\n",
        "    row = {'filename': filename, 'audio': audio}\n",
        "    rows1.append(row)\n",
        "rows1[:5]"
      ],
      "execution_count": 64,
      "outputs": [
        {
          "output_type": "execute_result",
          "data": {
            "text/plain": [
              "[{'audio': array([-0.00518634, -0.00370944,  0.00051116, ..., -0.11442161,\n",
              "         -0.06679546,  0.        ], dtype=float32),\n",
              "  'filename': 'SWH-15-20110310_16k-emission_swahili_15h00_-_16h00_tu_20110310_part442'},\n",
              " {'audio': array([0.00203946, 0.00326259, 0.00456793, ..., 0.17463283, 0.20333299,\n",
              "         0.13075171], dtype=float32),\n",
              "  'filename': 'SWH-15-20101103_emission_swahili_15h00_-_16h00_tu_20101103_part60'},\n",
              " {'audio': array([-2.5505594e-03, -1.6648067e-03,  1.1030279e-05, ...,\n",
              "         -1.3036871e-01, -1.7237680e-01,  0.0000000e+00], dtype=float32),\n",
              "  'filename': 'SWH-15-20101113_16k-emission_swahili_15h00_-_16h00_tu_20101113_part379'},\n",
              " {'audio': array([0.12538545, 0.1412388 , 0.12100906, ..., 0.11646897, 0.13963343,\n",
              "         0.09413067], dtype=float32),\n",
              "  'filename': 'SWH-15-20101130_16k-emission_swahili_15h00_-_16h00_tu_20101130_part287'},\n",
              " {'audio': array([-0.0002651 ,  0.00076587,  0.00149441, ..., -0.17118506,\n",
              "         -0.16012862,  0.        ], dtype=float32),\n",
              "  'filename': 'SWH-15-20110303_16k-emission_swahili_15h00_-_16h00_tu_20110303_part7'}]"
            ]
          },
          "metadata": {},
          "execution_count": 64
        }
      ]
    },
    {
      "cell_type": "code",
      "metadata": {
        "id": "_G2NTTYe8IdX",
        "colab": {
          "base_uri": "https://localhost:8080/"
        },
        "outputId": "5b624108-9773-4b02-938a-49bcee381cd0"
      },
      "source": [
        "sample_audios1 = []\n",
        "for row in rows1:\n",
        "    audio = row['audio']\n",
        "    sample_audios1.append(audio)\n",
        "sample_audios1[:5]"
      ],
      "execution_count": 65,
      "outputs": [
        {
          "output_type": "execute_result",
          "data": {
            "text/plain": [
              "[array([-0.00518634, -0.00370944,  0.00051116, ..., -0.11442161,\n",
              "        -0.06679546,  0.        ], dtype=float32),\n",
              " array([0.00203946, 0.00326259, 0.00456793, ..., 0.17463283, 0.20333299,\n",
              "        0.13075171], dtype=float32),\n",
              " array([-2.5505594e-03, -1.6648067e-03,  1.1030279e-05, ...,\n",
              "        -1.3036871e-01, -1.7237680e-01,  0.0000000e+00], dtype=float32),\n",
              " array([0.12538545, 0.1412388 , 0.12100906, ..., 0.11646897, 0.13963343,\n",
              "        0.09413067], dtype=float32),\n",
              " array([-0.0002651 ,  0.00076587,  0.00149441, ..., -0.17118506,\n",
              "        -0.16012862,  0.        ], dtype=float32)]"
            ]
          },
          "metadata": {},
          "execution_count": 65
        }
      ]
    },
    {
      "cell_type": "code",
      "metadata": {
        "id": "yEQnV_g98LaW"
      },
      "source": [
        "meta_df = pd.read_csv('/content/drive/MyDrive/dub dataset/metadata.csv')"
      ],
      "execution_count": 66,
      "outputs": []
    },
    {
      "cell_type": "code",
      "metadata": {
        "id": "wUrBDqNB8OyB",
        "colab": {
          "base_uri": "https://localhost:8080/"
        },
        "outputId": "e0c3c490-e53b-47b4-f6eb-2677df761d21"
      },
      "source": [
        "txts1 = []\n",
        "for row in rows1:\n",
        "    filename = row['filename']\n",
        "    filter = meta_df[meta_df['filename'] == filename]\n",
        "    txt = filter[['transcription']].values\n",
        "    txts1.append(txt)\n",
        "\n",
        "txts1[:5]"
      ],
      "execution_count": 67,
      "outputs": [
        {
          "output_type": "execute_result",
          "data": {
            "text/plain": [
              "[array([['moyo unapata matatizo unaweza ukapata kwa matatizo kama ya']],\n",
              "       dtype=object),\n",
              " array([['inawezekana kwamba watu wamekerwa na hivi vitendo vya mauaji']],\n",
              "       dtype=object),\n",
              " array([['mambo ya kikatili hataruhusiwa kuania nyadhifa yoyote']],\n",
              "       dtype=object),\n",
              " array([['au bidhaa gani wanaweza wakauza nje ya nchi']], dtype=object),\n",
              " array([['kwa kuhusika kwenye mauaji ya raia wanaoshinikiza kuondolewa madarakani kwa utawala wa kanali muhamar gadaffi']],\n",
              "       dtype=object)]"
            ]
          },
          "metadata": {},
          "execution_count": 67
        }
      ]
    },
    {
      "cell_type": "code",
      "metadata": {
        "id": "BrK0QmWb8PQb"
      },
      "source": [
        "txts1 = np.array(txts1).reshape(-1)"
      ],
      "execution_count": 68,
      "outputs": []
    },
    {
      "cell_type": "code",
      "metadata": {
        "id": "KzMf7Q0F8Q1N",
        "colab": {
          "base_uri": "https://localhost:8080/"
        },
        "outputId": "c080cd3b-063b-462d-b627-068a659987bb"
      },
      "source": [
        "txts1[:5]"
      ],
      "execution_count": 69,
      "outputs": [
        {
          "output_type": "execute_result",
          "data": {
            "text/plain": [
              "array(['moyo unapata matatizo unaweza ukapata kwa matatizo kama ya',\n",
              "       'inawezekana kwamba watu wamekerwa na hivi vitendo vya mauaji',\n",
              "       'mambo ya kikatili hataruhusiwa kuania nyadhifa yoyote',\n",
              "       'au bidhaa gani wanaweza wakauza nje ya nchi',\n",
              "       'kwa kuhusika kwenye mauaji ya raia wanaoshinikiza kuondolewa madarakani kwa utawala wa kanali muhamar gadaffi'],\n",
              "      dtype=object)"
            ]
          },
          "metadata": {},
          "execution_count": 69
        }
      ]
    },
    {
      "cell_type": "code",
      "metadata": {
        "id": "AZHk-bzr8SsY"
      },
      "source": [
        "clean_txts1 = []\n",
        "alphabets = 'a b c d e f g h i j k l m n o p q r s t u v w x y z'.split()\n",
        "for txt in txts1:\n",
        "    clean_txt = []\n",
        "    for c in txt:\n",
        "        if c not in alphabets and c != ' ':\n",
        "            continue\n",
        "        clean_txt.append(c)\n",
        "    clean_txt = ''.join(clean_txt)\n",
        "    clean_txts1.append(clean_txt)"
      ],
      "execution_count": 70,
      "outputs": []
    },
    {
      "cell_type": "code",
      "metadata": {
        "id": "WQAQp7Aq8UPt",
        "colab": {
          "base_uri": "https://localhost:8080/"
        },
        "outputId": "55e06cd1-8267-4c6b-d4e7-f5706a200172"
      },
      "source": [
        "clean_txts1[:5]"
      ],
      "execution_count": 71,
      "outputs": [
        {
          "output_type": "execute_result",
          "data": {
            "text/plain": [
              "['moyo unapata matatizo unaweza ukapata kwa matatizo kama ya',\n",
              " 'inawezekana kwamba watu wamekerwa na hivi vitendo vya mauaji',\n",
              " 'mambo ya kikatili hataruhusiwa kuania nyadhifa yoyote',\n",
              " 'au bidhaa gani wanaweza wakauza nje ya nchi',\n",
              " 'kwa kuhusika kwenye mauaji ya raia wanaoshinikiza kuondolewa madarakani kwa utawala wa kanali muhamar gadaffi']"
            ]
          },
          "metadata": {},
          "execution_count": 71
        }
      ]
    },
    {
      "cell_type": "code",
      "metadata": {
        "id": "GzsA2aN_8WUV",
        "colab": {
          "base_uri": "https://localhost:8080/"
        },
        "outputId": "84e3faf0-0ccd-49e7-a68d-11c2bd8d7737"
      },
      "source": [
        "'' in clean_txts1"
      ],
      "execution_count": 72,
      "outputs": [
        {
          "output_type": "execute_result",
          "data": {
            "text/plain": [
              "False"
            ]
          },
          "metadata": {},
          "execution_count": 72
        }
      ]
    },
    {
      "cell_type": "code",
      "metadata": {
        "id": "NRzM53wi8YFy"
      },
      "source": [
        "dg1 = DataGenerator(sample_audios1[:5], clean_txts1[:5],5)"
      ],
      "execution_count": 73,
      "outputs": []
    },
    {
      "cell_type": "code",
      "metadata": {
        "id": "Vau5kgpR8al6",
        "colab": {
          "base_uri": "https://localhost:8080/",
          "height": 35
        },
        "outputId": "d8a7a50d-a090-41df-bf67-cca3952d7d5d"
      },
      "source": [
        "predict(dg1, 1)"
      ],
      "execution_count": 74,
      "outputs": [
        {
          "output_type": "execute_result",
          "data": {
            "application/vnd.google.colaboratory.intrinsic+json": {
              "type": "string"
            },
            "text/plain": [
              "'moyo unapata matatizo u kunawezwa ukapata kwa matatizwa kama yaor ynzo'"
            ]
          },
          "metadata": {},
          "execution_count": 74
        }
      ]
    },
    {
      "cell_type": "markdown",
      "metadata": {
        "id": "eYpSha0TUGYZ"
      },
      "source": [
        "# Translation"
      ]
    },
    {
      "cell_type": "code",
      "metadata": {
        "id": "e1KUEfrgmA-7"
      },
      "source": [
        "import os\n",
        "from google.cloud import translate_v2 as translate"
      ],
      "execution_count": 75,
      "outputs": []
    },
    {
      "cell_type": "code",
      "metadata": {
        "id": "CMGrT8uFmFRD"
      },
      "source": [
        "os.environ['GOOGLE_APPLICATION_CREDENTIALS'] = '/content/drive/MyDrive/dub dataset/neon-idiom-329606-c374cf0ef0e7.json'"
      ],
      "execution_count": 76,
      "outputs": []
    },
    {
      "cell_type": "code",
      "metadata": {
        "id": "wbVWTBoHmM_T",
        "colab": {
          "base_uri": "https://localhost:8080/"
        },
        "outputId": "917d5ca0-bc2d-412b-83b6-2edc4b1ba1cb"
      },
      "source": [
        "translate_client = translate.Client()\n",
        "output=translate_client.translate(\n",
        "    predict(dg1, 1),\n",
        "    target_language='en'\n",
        ")\n",
        "print(output)\n",
        "translated_text=output.get('translatedText')"
      ],
      "execution_count": 77,
      "outputs": [
        {
          "output_type": "stream",
          "name": "stdout",
          "text": [
            "{'translatedText': 'The heart is troubled and can suffer from problems like yaor ynzo', 'detectedSourceLanguage': 'sw', 'input': 'moyo unapata matatizo u kunawezwa ukapata kwa matatizwa kama yaor ynzo'}\n"
          ]
        }
      ]
    },
    {
      "cell_type": "code",
      "metadata": {
        "id": "BjtaHz0uL_Ek",
        "colab": {
          "base_uri": "https://localhost:8080/"
        },
        "outputId": "aac2d08b-16e0-470b-c539-cc4100866b49"
      },
      "source": [
        "print(translated_text)"
      ],
      "execution_count": 78,
      "outputs": [
        {
          "output_type": "stream",
          "name": "stdout",
          "text": [
            "The heart is troubled and can suffer from problems like yaor ynzo\n"
          ]
        }
      ]
    },
    {
      "cell_type": "markdown",
      "metadata": {
        "id": "hjj-AlfKUPoK"
      },
      "source": [
        "# Text to speech"
      ]
    },
    {
      "cell_type": "code",
      "metadata": {
        "id": "dv5kkWEtmS_X"
      },
      "source": [
        "from google.cloud import texttospeech"
      ],
      "execution_count": 79,
      "outputs": []
    },
    {
      "cell_type": "code",
      "metadata": {
        "id": "-cWyctDpmTsj",
        "colab": {
          "base_uri": "https://localhost:8080/"
        },
        "outputId": "aeed0900-fe17-45e9-dff5-73e83e376575"
      },
      "source": [
        "tts_client=texttospeech.TextToSpeechClient()\n",
        "synthesis_input=texttospeech.SynthesisInput(text=translated_text)\n",
        "voice=texttospeech.VoiceSelectionParams(\n",
        "    language_code=\"en-KE\", ssml_gender=texttospeech.SsmlVoiceGender.NEUTRAL\n",
        ")\n",
        "audio_config=texttospeech.AudioConfig(\n",
        "    audio_encoding=texttospeech.AudioEncoding.MP3\n",
        ")\n",
        "response =tts_client.synthesize_speech(\n",
        "    input=synthesis_input,\n",
        "    voice=voice,\n",
        "    audio_config=audio_config\n",
        ")\n",
        "\n",
        "with open (\"output.mp3\",\"wb\") as out:\n",
        "    out.write(response.audio_content)\n",
        "    print('Audio content written to file \"output.mp3\"')\n",
        "    "
      ],
      "execution_count": 80,
      "outputs": [
        {
          "output_type": "stream",
          "name": "stdout",
          "text": [
            "Audio content written to file \"output.mp3\"\n"
          ]
        }
      ]
    },
    {
      "cell_type": "code",
      "metadata": {
        "id": "BCIiV1cNjFwB",
        "colab": {
          "base_uri": "https://localhost:8080/",
          "height": 75
        },
        "outputId": "84e27e6f-97bf-4048-9a86-035e236bc762"
      },
      "source": [
        "import IPython\n",
        "IPython.display.Audio('output.mp3')"
      ],
      "execution_count": 81,
      "outputs": [
        {
          "output_type": "execute_result",
          "data": {
            "text/html": [
              "\n",
              "                <audio controls=\"controls\" >\n",
              "                    <source src=\"data:audio/mpeg;base64,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\" type=\"audio/mpeg\" />\n",
              "                    Your browser does not support the audio element.\n",
              "                </audio>\n",
              "              "
            ],
            "text/plain": [
              "<IPython.lib.display.Audio object>"
            ]
          },
          "metadata": {},
          "execution_count": 81
        }
      ]
    },
    {
      "cell_type": "markdown",
      "metadata": {
        "id": "LJkv0XA03Q1A"
      },
      "source": [
        "# Pickling"
      ]
    },
    {
      "cell_type": "code",
      "metadata": {
        "id": "_BaRaBhu3ec2"
      },
      "source": [
        "#with open('/content/drive/MyDrive/dub dataset/SWAHILI/data/train/audios/model.pickle', 'rb') as file:  \n",
        "    #pickled_model = pickle.load(file)\n",
        "\n",
        "#pickled_model"
      ],
      "execution_count": 82,
      "outputs": []
    },
    {
      "cell_type": "markdown",
      "metadata": {
        "id": "oHGaDGBA4xKz"
      },
      "source": [
        "# Run flask "
      ]
    },
    {
      "cell_type": "code",
      "metadata": {
        "id": "J4uDVefuUOVi",
        "colab": {
          "base_uri": "https://localhost:8080/"
        },
        "outputId": "4dd1de43-07a1-4542-c00f-a5108c1c60a9"
      },
      "source": [
        "!pip install flask-ngrok\n",
        "!pip install flask==0.12.2"
      ],
      "execution_count": 83,
      "outputs": [
        {
          "output_type": "stream",
          "name": "stdout",
          "text": [
            "Requirement already satisfied: flask-ngrok in /usr/local/lib/python3.7/dist-packages (0.0.25)\n",
            "Requirement already satisfied: Flask>=0.8 in /usr/local/lib/python3.7/dist-packages (from flask-ngrok) (0.12.2)\n",
            "Requirement already satisfied: requests in /usr/local/lib/python3.7/dist-packages (from flask-ngrok) (2.23.0)\n",
            "Requirement already satisfied: Werkzeug>=0.7 in /usr/local/lib/python3.7/dist-packages (from Flask>=0.8->flask-ngrok) (1.0.1)\n",
            "Requirement already satisfied: Jinja2>=2.4 in /usr/local/lib/python3.7/dist-packages (from Flask>=0.8->flask-ngrok) (2.11.3)\n",
            "Requirement already satisfied: itsdangerous>=0.21 in /usr/local/lib/python3.7/dist-packages (from Flask>=0.8->flask-ngrok) (1.1.0)\n",
            "Requirement already satisfied: click>=2.0 in /usr/local/lib/python3.7/dist-packages (from Flask>=0.8->flask-ngrok) (7.1.2)\n",
            "Requirement already satisfied: MarkupSafe>=0.23 in /usr/local/lib/python3.7/dist-packages (from Jinja2>=2.4->Flask>=0.8->flask-ngrok) (2.0.1)\n",
            "Requirement already satisfied: urllib3!=1.25.0,!=1.25.1,<1.26,>=1.21.1 in /usr/local/lib/python3.7/dist-packages (from requests->flask-ngrok) (1.24.3)\n",
            "Requirement already satisfied: certifi>=2017.4.17 in /usr/local/lib/python3.7/dist-packages (from requests->flask-ngrok) (2021.10.8)\n",
            "Requirement already satisfied: chardet<4,>=3.0.2 in /usr/local/lib/python3.7/dist-packages (from requests->flask-ngrok) (3.0.4)\n",
            "Requirement already satisfied: idna<3,>=2.5 in /usr/local/lib/python3.7/dist-packages (from requests->flask-ngrok) (2.10)\n",
            "Requirement already satisfied: flask==0.12.2 in /usr/local/lib/python3.7/dist-packages (0.12.2)\n",
            "Requirement already satisfied: click>=2.0 in /usr/local/lib/python3.7/dist-packages (from flask==0.12.2) (7.1.2)\n",
            "Requirement already satisfied: Jinja2>=2.4 in /usr/local/lib/python3.7/dist-packages (from flask==0.12.2) (2.11.3)\n",
            "Requirement already satisfied: itsdangerous>=0.21 in /usr/local/lib/python3.7/dist-packages (from flask==0.12.2) (1.1.0)\n",
            "Requirement already satisfied: Werkzeug>=0.7 in /usr/local/lib/python3.7/dist-packages (from flask==0.12.2) (1.0.1)\n",
            "Requirement already satisfied: MarkupSafe>=0.23 in /usr/local/lib/python3.7/dist-packages (from Jinja2>=2.4->flask==0.12.2) (2.0.1)\n"
          ]
        }
      ]
    },
    {
      "cell_type": "code",
      "metadata": {
        "id": "ysQDhV3K47Gy",
        "colab": {
          "base_uri": "https://localhost:8080/"
        },
        "outputId": "f00e265f-7d5c-4433-b689-7b3007f37174"
      },
      "source": [
        "import flask\n",
        "from flask import Flask, render_template, request\n",
        "import pickle\n",
        "import numpy as np\n",
        "from flask_ngrok import run_with_ngrok\n",
        "import warnings\n",
        "warnings.filterwarnings('ignore')\n",
        "\n",
        "app = Flask(__name__, template_folder='/')\n",
        "run_with_ngrok(app)\n",
        "\n",
        "#model = pickle.load(open('/content/drive/MyDrive/dub/model.pickle', 'rb'))\n",
        "\n",
        "@app.route('/')\n",
        "def home():\n",
        "  return render_template('/content/drive/MyDrive/dub/dub.html')\n",
        "\n",
        "\n",
        "app.run()"
      ],
      "execution_count": 84,
      "outputs": [
        {
          "output_type": "stream",
          "name": "stderr",
          "text": [
            " * Running on http://127.0.0.1:5000/ (Press CTRL+C to quit)\n"
          ]
        },
        {
          "output_type": "stream",
          "name": "stdout",
          "text": [
            " * Running on http://e260-35-224-166-185.ngrok.io\n",
            " * Traffic stats available on http://127.0.0.1:4040\n"
          ]
        },
        {
          "output_type": "stream",
          "name": "stderr",
          "text": [
            "127.0.0.1 - - [26/Nov/2021 06:43:03] \"\u001b[37mGET / HTTP/1.1\u001b[0m\" 200 -\n",
            "127.0.0.1 - - [26/Nov/2021 06:43:06] \"\u001b[37mGET / HTTP/1.1\u001b[0m\" 200 -\n",
            "127.0.0.1 - - [26/Nov/2021 06:43:06] \"\u001b[37mGET / HTTP/1.1\u001b[0m\" 200 -\n",
            "127.0.0.1 - - [26/Nov/2021 06:43:07] \"\u001b[33mGET /favicon.ico HTTP/1.1\u001b[0m\" 404 -\n"
          ]
        }
      ]
    }
  ]
}