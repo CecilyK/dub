{
  "nbformat": 4,
  "nbformat_minor": 0,
  "metadata": {
    "accelerator": "GPU",
    "colab": {
      "name": "dub.ipynb",
      "provenance": [],
      "collapsed_sections": [
        "reQsClloeTxu",
        "OJleTY4jet56",
        "wSebksYG2NXM"
      ],
      "mount_file_id": "1iQvzRMIcPlLxA5vJ9sj5-jB0yTLEhzX1",
      "authorship_tag": "ABX9TyP6yzz6yibHV81PpNa+OSEx",
      "include_colab_link": true
    },
    "kernelspec": {
      "display_name": "Python 3",
      "name": "python3"
    },
    "language_info": {
      "name": "python"
    }
  },
  "cells": [
    {
      "cell_type": "markdown",
      "metadata": {
        "id": "view-in-github",
        "colab_type": "text"
      },
      "source": [
        "<a href=\"https://colab.research.google.com/github/CecilyK/dub/blob/main/dub.ipynb\" target=\"_parent\"><img src=\"https://colab.research.google.com/assets/colab-badge.svg\" alt=\"Open In Colab\"/></a>"
      ]
    },
    {
      "cell_type": "code",
      "metadata": {
        "id": "OSaLzm0hT0Ui"
      },
      "source": [
        "import os\n",
        "import pickle\n",
        "import librosa\n",
        "import pandas as pd\n",
        "import warnings\n",
        "warnings.filterwarnings('ignore', category=DeprecationWarning)\n",
        "warnings.filterwarnings('ignore', category=FutureWarning)\n",
        "\n",
        "from IPython.display import Audio\n",
        "\n",
        "import librosa.display\n",
        "import matplotlib.pyplot as plt\n",
        "import numpy as np\n",
        "import tensorflow as tf\n",
        "\n",
        "from tensorflow.keras.models import Model, Sequential\n",
        "from tensorflow.keras.layers import * \n",
        "from tensorflow.keras.callbacks import Callback, EarlyStopping, ModelCheckpoint, TensorBoard\n",
        "from tensorflow.keras.preprocessing.sequence import pad_sequences\n",
        "from tensorflow.keras.optimizers import SGD, Adam, RMSprop\n",
        "from tensorflow.keras import backend as K"
      ],
      "execution_count": null,
      "outputs": []
    },
    {
      "cell_type": "markdown",
      "metadata": {
        "id": "nUzD3rOMLGoh"
      },
      "source": [
        "#Inputs"
      ]
    },
    {
      "cell_type": "code",
      "metadata": {
        "colab": {
          "base_uri": "https://localhost:8080/"
        },
        "id": "OlnwyOxfSQmF",
        "outputId": "a937ce3b-76f5-4aed-e952-d76f656c6466"
      },
      "source": [
        "from google.colab import drive\n",
        "drive.mount('/content/drive')"
      ],
      "execution_count": null,
      "outputs": [
        {
          "output_type": "stream",
          "name": "stdout",
          "text": [
            "Drive already mounted at /content/drive; to attempt to forcibly remount, call drive.mount(\"/content/drive\", force_remount=True).\n"
          ]
        }
      ]
    },
    {
      "cell_type": "markdown",
      "metadata": {
        "id": "k3XC49HJLQ5u"
      },
      "source": [
        "Load audios"
      ]
    },
    {
      "cell_type": "code",
      "metadata": {
        "id": "d0LOT45lLPu2"
      },
      "source": [
        "os.chdir(\"/content/drive/MyDrive/dub dataset/SWAHILI/data/train/audios\")"
      ],
      "execution_count": null,
      "outputs": []
    },
    {
      "cell_type": "code",
      "metadata": {
        "colab": {
          "base_uri": "https://localhost:8080/"
        },
        "id": "hDzvwBEDLfXU",
        "outputId": "b528b89a-27b3-4375-ff2b-48ba212eb4fa"
      },
      "source": [
        "rows = []\n",
        "parent_dir = \"./\"\n",
        "files = os.listdir(parent_dir)\n",
        "for f in files[:1100]:\n",
        "    audio, fs = librosa.load(f\"{f}\")\n",
        "    filename = f.split('.wav')[0]\n",
        "    row = {'filename': filename, 'audio': audio}\n",
        "    rows.append(row)\n",
        "rows[:6]"
      ],
      "execution_count": null,
      "outputs": [
        {
          "output_type": "execute_result",
          "data": {
            "text/plain": [
              "[{'audio': array([-0.00518634, -0.00370944,  0.00051116, ..., -0.11442161,\n",
              "         -0.06679546,  0.        ], dtype=float32),\n",
              "  'filename': 'SWH-15-20110310_16k-emission_swahili_15h00_-_16h00_tu_20110310_part442'},\n",
              " {'audio': array([0.00203946, 0.00326259, 0.00456793, ..., 0.17463283, 0.20333299,\n",
              "         0.13075171], dtype=float32),\n",
              "  'filename': 'SWH-15-20101103_emission_swahili_15h00_-_16h00_tu_20101103_part60'},\n",
              " {'audio': array([-2.5505594e-03, -1.6648067e-03,  1.1030279e-05, ...,\n",
              "         -1.3036871e-01, -1.7237680e-01,  0.0000000e+00], dtype=float32),\n",
              "  'filename': 'SWH-15-20101113_16k-emission_swahili_15h00_-_16h00_tu_20101113_part379'},\n",
              " {'audio': array([0.12538545, 0.1412388 , 0.12100906, ..., 0.11646897, 0.13963343,\n",
              "         0.09413067], dtype=float32),\n",
              "  'filename': 'SWH-15-20101130_16k-emission_swahili_15h00_-_16h00_tu_20101130_part287'},\n",
              " {'audio': array([-0.0002651 ,  0.00076587,  0.00149441, ..., -0.17118506,\n",
              "         -0.16012862,  0.        ], dtype=float32),\n",
              "  'filename': 'SWH-15-20110303_16k-emission_swahili_15h00_-_16h00_tu_20110303_part7'},\n",
              " {'audio': array([ 0.00156698,  0.00116012, -0.0003897 , ..., -0.03286014,\n",
              "         -0.04939909, -0.03472592], dtype=float32),\n",
              "  'filename': 'SWH-05-20110215_16k-emission_swahili_05h30_-_06h00_tu_20110215_part55'}]"
            ]
          },
          "metadata": {},
          "execution_count": 15
        }
      ]
    },
    {
      "cell_type": "code",
      "metadata": {
        "colab": {
          "base_uri": "https://localhost:8080/"
        },
        "id": "6j-64lACMJS0",
        "outputId": "7a80b615-ef07-44f9-b838-b220255f6117"
      },
      "source": [
        "len(files)"
      ],
      "execution_count": null,
      "outputs": [
        {
          "output_type": "execute_result",
          "data": {
            "text/plain": [
              "10180"
            ]
          },
          "metadata": {},
          "execution_count": 16
        }
      ]
    },
    {
      "cell_type": "code",
      "metadata": {
        "colab": {
          "base_uri": "https://localhost:8080/"
        },
        "id": "RSLBtf33MSOI",
        "outputId": "3af6189a-68ae-4e77-9fc6-0d6cb5e301c6"
      },
      "source": [
        "sample_audios = []\n",
        "for row in rows:\n",
        "    audio = row['audio']\n",
        "    sample_audios.append(audio)\n",
        "sample_audios[:5]"
      ],
      "execution_count": null,
      "outputs": [
        {
          "output_type": "execute_result",
          "data": {
            "text/plain": [
              "[array([-0.00518634, -0.00370944,  0.00051116, ..., -0.11442161,\n",
              "        -0.06679546,  0.        ], dtype=float32),\n",
              " array([0.00203946, 0.00326259, 0.00456793, ..., 0.17463283, 0.20333299,\n",
              "        0.13075171], dtype=float32),\n",
              " array([-2.5505594e-03, -1.6648067e-03,  1.1030279e-05, ...,\n",
              "        -1.3036871e-01, -1.7237680e-01,  0.0000000e+00], dtype=float32),\n",
              " array([0.12538545, 0.1412388 , 0.12100906, ..., 0.11646897, 0.13963343,\n",
              "        0.09413067], dtype=float32),\n",
              " array([-0.0002651 ,  0.00076587,  0.00149441, ..., -0.17118506,\n",
              "        -0.16012862,  0.        ], dtype=float32)]"
            ]
          },
          "metadata": {},
          "execution_count": 17
        }
      ]
    },
    {
      "cell_type": "markdown",
      "metadata": {
        "id": "7LrzbMWyK_xn"
      },
      "source": [
        "Csv file that contains transcriptions"
      ]
    },
    {
      "cell_type": "code",
      "metadata": {
        "id": "hxNo_9KVTq5U"
      },
      "source": [
        "data_df=pd.read_csv('/content/drive/MyDrive/dub dataset/metadata.csv')\n"
      ],
      "execution_count": null,
      "outputs": []
    },
    {
      "cell_type": "code",
      "metadata": {
        "colab": {
          "base_uri": "https://localhost:8080/",
          "height": 293
        },
        "id": "XDJJRxiSWQck",
        "outputId": "886b8395-5f67-47a3-846e-245f41c199d6"
      },
      "source": [
        "data_df.head()"
      ],
      "execution_count": null,
      "outputs": [
        {
          "output_type": "execute_result",
          "data": {
            "text/html": [
              "<div>\n",
              "<style scoped>\n",
              "    .dataframe tbody tr th:only-of-type {\n",
              "        vertical-align: middle;\n",
              "    }\n",
              "\n",
              "    .dataframe tbody tr th {\n",
              "        vertical-align: top;\n",
              "    }\n",
              "\n",
              "    .dataframe thead th {\n",
              "        text-align: right;\n",
              "    }\n",
              "</style>\n",
              "<table border=\"1\" class=\"dataframe\">\n",
              "  <thead>\n",
              "    <tr style=\"text-align: right;\">\n",
              "      <th></th>\n",
              "      <th>filename</th>\n",
              "      <th>transcription</th>\n",
              "      <th>filepath</th>\n",
              "      <th>sample_rate</th>\n",
              "      <th>duration</th>\n",
              "    </tr>\n",
              "  </thead>\n",
              "  <tbody>\n",
              "    <tr>\n",
              "      <th>0</th>\n",
              "      <td>SWH-05-20101106_16k-emission_swahili_05h30_-_0...</td>\n",
              "      <td>rais wa tanzania jakaya mrisho kikwete</td>\n",
              "      <td>SWH-05-20101106/SWH-05-20101106_16k-emission_s...</td>\n",
              "      <td>16000</td>\n",
              "      <td>3.14</td>\n",
              "    </tr>\n",
              "    <tr>\n",
              "      <th>1</th>\n",
              "      <td>SWH-05-20101106_16k-emission_swahili_05h30_-_0...</td>\n",
              "      <td>yanayo andaliwa nami pendo pondo idhaa ya kisw...</td>\n",
              "      <td>SWH-05-20101106/SWH-05-20101106_16k-emission_s...</td>\n",
              "      <td>16000</td>\n",
              "      <td>3.10</td>\n",
              "    </tr>\n",
              "    <tr>\n",
              "      <th>2</th>\n",
              "      <td>SWH-05-20101106_16k-emission_swahili_05h30_-_0...</td>\n",
              "      <td>inayokutangazia moja kwa moja kutoka jijini da...</td>\n",
              "      <td>SWH-05-20101106/SWH-05-20101106_16k-emission_s...</td>\n",
              "      <td>16000</td>\n",
              "      <td>3.65</td>\n",
              "    </tr>\n",
              "    <tr>\n",
              "      <th>3</th>\n",
              "      <td>SWH-05-20101106_16k-emission_swahili_05h30_-_0...</td>\n",
              "      <td>juma hili bara la afrika limeshuhudia raia wa ...</td>\n",
              "      <td>SWH-05-20101106/SWH-05-20101106_16k-emission_s...</td>\n",
              "      <td>16000</td>\n",
              "      <td>3.90</td>\n",
              "    </tr>\n",
              "    <tr>\n",
              "      <th>4</th>\n",
              "      <td>SWH-05-20101106_16k-emission_swahili_05h30_-_0...</td>\n",
              "      <td>wakipiga kura ya maoni ilikufanya mabadiliko ya</td>\n",
              "      <td>SWH-05-20101106/SWH-05-20101106_16k-emission_s...</td>\n",
              "      <td>16000</td>\n",
              "      <td>2.94</td>\n",
              "    </tr>\n",
              "  </tbody>\n",
              "</table>\n",
              "</div>"
            ],
            "text/plain": [
              "                                            filename  ... duration\n",
              "0  SWH-05-20101106_16k-emission_swahili_05h30_-_0...  ...     3.14\n",
              "1  SWH-05-20101106_16k-emission_swahili_05h30_-_0...  ...     3.10\n",
              "2  SWH-05-20101106_16k-emission_swahili_05h30_-_0...  ...     3.65\n",
              "3  SWH-05-20101106_16k-emission_swahili_05h30_-_0...  ...     3.90\n",
              "4  SWH-05-20101106_16k-emission_swahili_05h30_-_0...  ...     2.94\n",
              "\n",
              "[5 rows x 5 columns]"
            ]
          },
          "metadata": {},
          "execution_count": 19
        }
      ]
    },
    {
      "cell_type": "code",
      "metadata": {
        "colab": {
          "base_uri": "https://localhost:8080/"
        },
        "id": "E0viwrEIQ96G",
        "outputId": "f6c030a9-92f2-43bf-e32a-d51268b859c9"
      },
      "source": [
        "txts = []\n",
        "for row in rows:\n",
        "    filename = row['filename']\n",
        "    filter = data_df[data_df['filename'] == filename]\n",
        "    txt = filter[['transcription']].values\n",
        "    txts.append(txt)\n",
        "\n",
        "txts[:5]"
      ],
      "execution_count": null,
      "outputs": [
        {
          "output_type": "execute_result",
          "data": {
            "text/plain": [
              "[array([['moyo unapata matatizo unaweza ukapata kwa matatizo kama ya']],\n",
              "       dtype=object),\n",
              " array([['inawezekana kwamba watu wamekerwa na hivi vitendo vya mauaji']],\n",
              "       dtype=object),\n",
              " array([['mambo ya kikatili hataruhusiwa kuania nyadhifa yoyote']],\n",
              "       dtype=object),\n",
              " array([['au bidhaa gani wanaweza wakauza nje ya nchi']], dtype=object),\n",
              " array([['kwa kuhusika kwenye mauaji ya raia wanaoshinikiza kuondolewa madarakani kwa utawala wa kanali muhamar gadaffi']],\n",
              "       dtype=object)]"
            ]
          },
          "metadata": {},
          "execution_count": 20
        }
      ]
    },
    {
      "cell_type": "code",
      "metadata": {
        "id": "gjka6ZRB4lnQ"
      },
      "source": [
        "txts = np.array(txts).reshape(-1)"
      ],
      "execution_count": null,
      "outputs": []
    },
    {
      "cell_type": "code",
      "metadata": {
        "colab": {
          "base_uri": "https://localhost:8080/"
        },
        "id": "VstkomUO4oEo",
        "outputId": "f9c77914-b1c2-4bf1-f3b3-1b99d920a14b"
      },
      "source": [
        "txts[:5]"
      ],
      "execution_count": null,
      "outputs": [
        {
          "output_type": "execute_result",
          "data": {
            "text/plain": [
              "array(['moyo unapata matatizo unaweza ukapata kwa matatizo kama ya',\n",
              "       'inawezekana kwamba watu wamekerwa na hivi vitendo vya mauaji',\n",
              "       'mambo ya kikatili hataruhusiwa kuania nyadhifa yoyote',\n",
              "       'au bidhaa gani wanaweza wakauza nje ya nchi',\n",
              "       'kwa kuhusika kwenye mauaji ya raia wanaoshinikiza kuondolewa madarakani kwa utawala wa kanali muhamar gadaffi'],\n",
              "      dtype=object)"
            ]
          },
          "metadata": {},
          "execution_count": 22
        }
      ]
    },
    {
      "cell_type": "code",
      "metadata": {
        "id": "CYq-f7X44qvf"
      },
      "source": [
        "clean_txts = []\n",
        "alphabets = 'a b c d e f g h i j k l m n o p q r s t u v w x y z'.split()\n",
        "for txt in txts:\n",
        "    clean_txt = []\n",
        "    for c in txt:\n",
        "        if c not in alphabets and c != ' ':\n",
        "            continue\n",
        "        clean_txt.append(c)\n",
        "    clean_txt = ''.join(clean_txt)\n",
        "    clean_txts.append(clean_txt)"
      ],
      "execution_count": null,
      "outputs": []
    },
    {
      "cell_type": "code",
      "metadata": {
        "colab": {
          "base_uri": "https://localhost:8080/"
        },
        "id": "Ch13U-Vv4uIr",
        "outputId": "311ca501-e39d-4e5c-c12f-1c181f394df0"
      },
      "source": [
        "clean_txts[:5]"
      ],
      "execution_count": null,
      "outputs": [
        {
          "output_type": "execute_result",
          "data": {
            "text/plain": [
              "['moyo unapata matatizo unaweza ukapata kwa matatizo kama ya',\n",
              " 'inawezekana kwamba watu wamekerwa na hivi vitendo vya mauaji',\n",
              " 'mambo ya kikatili hataruhusiwa kuania nyadhifa yoyote',\n",
              " 'au bidhaa gani wanaweza wakauza nje ya nchi',\n",
              " 'kwa kuhusika kwenye mauaji ya raia wanaoshinikiza kuondolewa madarakani kwa utawala wa kanali muhamar gadaffi']"
            ]
          },
          "metadata": {},
          "execution_count": 24
        }
      ]
    },
    {
      "cell_type": "code",
      "metadata": {
        "colab": {
          "base_uri": "https://localhost:8080/"
        },
        "id": "seMjkuPb4wT0",
        "outputId": "b4cdcf34-d234-4616-c425-c68e817331ca"
      },
      "source": [
        "'' in clean_txts"
      ],
      "execution_count": null,
      "outputs": [
        {
          "output_type": "execute_result",
          "data": {
            "text/plain": [
              "True"
            ]
          },
          "metadata": {},
          "execution_count": 25
        }
      ]
    },
    {
      "cell_type": "code",
      "metadata": {
        "colab": {
          "base_uri": "https://localhost:8080/",
          "height": 206
        },
        "id": "4xxbBENA5U-x",
        "outputId": "d8a13c11-6ed1-4fd5-de90-1cc8e4b67ad7"
      },
      "source": [
        "df = pd.DataFrame(clean_txts)\n",
        "df.columns = ['texts']\n",
        "df.head()"
      ],
      "execution_count": null,
      "outputs": [
        {
          "output_type": "execute_result",
          "data": {
            "text/html": [
              "<div>\n",
              "<style scoped>\n",
              "    .dataframe tbody tr th:only-of-type {\n",
              "        vertical-align: middle;\n",
              "    }\n",
              "\n",
              "    .dataframe tbody tr th {\n",
              "        vertical-align: top;\n",
              "    }\n",
              "\n",
              "    .dataframe thead th {\n",
              "        text-align: right;\n",
              "    }\n",
              "</style>\n",
              "<table border=\"1\" class=\"dataframe\">\n",
              "  <thead>\n",
              "    <tr style=\"text-align: right;\">\n",
              "      <th></th>\n",
              "      <th>texts</th>\n",
              "    </tr>\n",
              "  </thead>\n",
              "  <tbody>\n",
              "    <tr>\n",
              "      <th>0</th>\n",
              "      <td>moyo unapata matatizo unaweza ukapata kwa mata...</td>\n",
              "    </tr>\n",
              "    <tr>\n",
              "      <th>1</th>\n",
              "      <td>inawezekana kwamba watu wamekerwa na hivi vite...</td>\n",
              "    </tr>\n",
              "    <tr>\n",
              "      <th>2</th>\n",
              "      <td>mambo ya kikatili hataruhusiwa kuania nyadhifa...</td>\n",
              "    </tr>\n",
              "    <tr>\n",
              "      <th>3</th>\n",
              "      <td>au bidhaa gani wanaweza wakauza nje ya nchi</td>\n",
              "    </tr>\n",
              "    <tr>\n",
              "      <th>4</th>\n",
              "      <td>kwa kuhusika kwenye mauaji ya raia wanaoshinik...</td>\n",
              "    </tr>\n",
              "  </tbody>\n",
              "</table>\n",
              "</div>"
            ],
            "text/plain": [
              "                                               texts\n",
              "0  moyo unapata matatizo unaweza ukapata kwa mata...\n",
              "1  inawezekana kwamba watu wamekerwa na hivi vite...\n",
              "2  mambo ya kikatili hataruhusiwa kuania nyadhifa...\n",
              "3        au bidhaa gani wanaweza wakauza nje ya nchi\n",
              "4  kwa kuhusika kwenye mauaji ya raia wanaoshinik..."
            ]
          },
          "metadata": {},
          "execution_count": 26
        }
      ]
    },
    {
      "cell_type": "code",
      "metadata": {
        "colab": {
          "base_uri": "https://localhost:8080/"
        },
        "id": "viWJRJbs5YVF",
        "outputId": "7baa8465-8989-41f5-fead-65b3b4194c7d"
      },
      "source": [
        "idxs = df[df['texts'] == ''].index\n",
        "idxs"
      ],
      "execution_count": null,
      "outputs": [
        {
          "output_type": "execute_result",
          "data": {
            "text/plain": [
              "Int64Index([123, 433, 462, 552], dtype='int64')"
            ]
          },
          "metadata": {},
          "execution_count": 27
        }
      ]
    },
    {
      "cell_type": "code",
      "metadata": {
        "id": "BEW-ZmtJQ0kS"
      },
      "source": [
        "del clean_txts[idxs[-1]]\n",
        "del clean_txts[idxs[-2]]\n",
        "del clean_txts[idxs[-3]]\n",
        "del clean_txts[idxs[-4]]"
      ],
      "execution_count": null,
      "outputs": []
    },
    {
      "cell_type": "code",
      "metadata": {
        "id": "SxxGn21Bzwsu"
      },
      "source": [
        "#while '' in clean_txts:\n",
        "#  clean_txts.remove('')"
      ],
      "execution_count": null,
      "outputs": []
    },
    {
      "cell_type": "code",
      "metadata": {
        "colab": {
          "base_uri": "https://localhost:8080/"
        },
        "id": "_NnX9GCXz0C6",
        "outputId": "9d26bd98-f22a-422d-f461-746735b88326"
      },
      "source": [
        "'' in clean_txts"
      ],
      "execution_count": null,
      "outputs": [
        {
          "output_type": "execute_result",
          "data": {
            "text/plain": [
              "False"
            ]
          },
          "metadata": {},
          "execution_count": 30
        }
      ]
    },
    {
      "cell_type": "code",
      "metadata": {
        "id": "1hRZIfvGP0bV"
      },
      "source": [
        "del sample_audios[idxs[-1]]\n",
        "del sample_audios[idxs[-2]]\n",
        "del sample_audios[idxs[-3]]\n",
        "del sample_audios[idxs[-4]]"
      ],
      "execution_count": null,
      "outputs": []
    },
    {
      "cell_type": "code",
      "metadata": {
        "colab": {
          "base_uri": "https://localhost:8080/"
        },
        "id": "vrL2tJ7HhRSC",
        "outputId": "5c708fc1-679a-4656-fc17-540240f57e51"
      },
      "source": [
        "len(clean_txts)"
      ],
      "execution_count": null,
      "outputs": [
        {
          "output_type": "execute_result",
          "data": {
            "text/plain": [
              "1096"
            ]
          },
          "metadata": {},
          "execution_count": 32
        }
      ]
    },
    {
      "cell_type": "code",
      "metadata": {
        "colab": {
          "base_uri": "https://localhost:8080/"
        },
        "id": "nP1XLYMSZpCJ",
        "outputId": "f282782a-bde6-48f6-b9af-61b0f1a5cb50"
      },
      "source": [
        "len(sample_audios)"
      ],
      "execution_count": null,
      "outputs": [
        {
          "output_type": "execute_result",
          "data": {
            "text/plain": [
              "1096"
            ]
          },
          "metadata": {},
          "execution_count": 33
        }
      ]
    },
    {
      "cell_type": "markdown",
      "metadata": {
        "id": "JC34JeCkO4X6"
      },
      "source": [
        "# Preprocessing"
      ]
    },
    {
      "cell_type": "markdown",
      "metadata": {
        "id": "lPkuTaOkO8vc"
      },
      "source": [
        "Tokenization"
      ]
    },
    {
      "cell_type": "code",
      "metadata": {
        "id": "xDLm7ML5O_FQ"
      },
      "source": [
        "def character_dict():\n",
        "    alphabet = 'a b c d e f g h i j k l m n o p q r s t u v w x y z'\n",
        "    supported = alphabet.split()\n",
        "\n",
        "    char_map = {}\n",
        "    char_map[\"\"] = 0\n",
        "    char_map[\"<SPACE>\"] = 1\n",
        "    idx = 2\n",
        "    for c in supported:\n",
        "        char_map[c] = idx\n",
        "        idx += 1\n",
        "    index_map = {v: k for k, v in char_map.items()}\n",
        "    return char_map, index_map"
      ],
      "execution_count": null,
      "outputs": []
    },
    {
      "cell_type": "code",
      "metadata": {
        "id": "tEUXkVBmQweU"
      },
      "source": [
        "char_map, index_map = character_dict()"
      ],
      "execution_count": null,
      "outputs": []
    },
    {
      "cell_type": "code",
      "metadata": {
        "colab": {
          "base_uri": "https://localhost:8080/"
        },
        "id": "9Pm4OqOOQxeF",
        "outputId": "dfa8094c-cf96-434c-d1e3-777bf792ba68"
      },
      "source": [
        "char_map"
      ],
      "execution_count": null,
      "outputs": [
        {
          "output_type": "execute_result",
          "data": {
            "text/plain": [
              "{'': 0,\n",
              " '<SPACE>': 1,\n",
              " 'a': 2,\n",
              " 'b': 3,\n",
              " 'c': 4,\n",
              " 'd': 5,\n",
              " 'e': 6,\n",
              " 'f': 7,\n",
              " 'g': 8,\n",
              " 'h': 9,\n",
              " 'i': 10,\n",
              " 'j': 11,\n",
              " 'k': 12,\n",
              " 'l': 13,\n",
              " 'm': 14,\n",
              " 'n': 15,\n",
              " 'o': 16,\n",
              " 'p': 17,\n",
              " 'q': 18,\n",
              " 'r': 19,\n",
              " 's': 20,\n",
              " 't': 21,\n",
              " 'u': 22,\n",
              " 'v': 23,\n",
              " 'w': 24,\n",
              " 'x': 25,\n",
              " 'y': 26,\n",
              " 'z': 27}"
            ]
          },
          "metadata": {},
          "execution_count": 36
        }
      ]
    },
    {
      "cell_type": "code",
      "metadata": {
        "id": "FzXdNaoPQ7Ci"
      },
      "source": [
        "def text_to_int_sequence(text):\n",
        "    \"\"\" Convert text to an integer sequence \"\"\"\n",
        "    int_sequence = []\n",
        "    for c in text:\n",
        "        if c == ' ':\n",
        "            ch = char_map['<SPACE>']\n",
        "        elif c in alphabets:\n",
        "            ch = char_map[c]\n",
        "        else:\n",
        "            print(c)\n",
        "            print('character not found')\n",
        "            break\n",
        "        int_sequence.append(ch)\n",
        "    return np.array(int_sequence)"
      ],
      "execution_count": null,
      "outputs": []
    },
    {
      "cell_type": "code",
      "metadata": {
        "id": "FGUGBfWFQ8N2"
      },
      "source": [
        "def int_sequence_to_text(int_sequence):\n",
        "    \"\"\" Convert an integer sequence to text \"\"\"\n",
        "    textch = []\n",
        "    for c in int_sequence:\n",
        "        ch = index_map[c]\n",
        "        textch.append(ch)\n",
        "    text = ''.join(textch)\n",
        "    text = text.replace('<SPACE>', ' ')\n",
        "    return text"
      ],
      "execution_count": null,
      "outputs": []
    },
    {
      "cell_type": "code",
      "metadata": {
        "id": "2fsxI6HcZRE_"
      },
      "source": [
        "class DataGenerator(tf.keras.utils.Sequence):\n",
        "    def __init__(self, audios, texts, batch_size=32):\n",
        "        self.audios = audios\n",
        "        self.texts = texts\n",
        "        self.batch_size = batch_size\n",
        "        self.steps = int(len(self.audios) // self.batch_size)\n",
        "        self.on_epoch_end()\n",
        "\n",
        "    def __len__(self):\n",
        "        return self.steps\n",
        "\n",
        "    def on_epoch_end(self):\n",
        "        self.indexes = np.arange(self.steps*self.batch_size)\n",
        "        # np.random.shuffle(self.indexes)\n",
        "\n",
        "    def __getitem__(self, index):\n",
        "        indexes = self.indexes[int(index*self.batch_size):int((index+1)*self.batch_size)]\n",
        "    \n",
        "        batch_audios = [self.audios[int(i)] for i in indexes]\n",
        "        batch_texts = [self.texts[int(i)] for i in indexes]\n",
        "        \n",
        "        return  self.data_generation(batch_audios, batch_texts)\n",
        "    \n",
        "    def data_generation(self, batch_audios, batch_texts):\n",
        "\n",
        "        longest_audio = max([len(i) for i in batch_audios])\n",
        "        longest_txt = max([len(i) for i in batch_texts])\n",
        "\n",
        "        audios          = np.zeros([int(self.batch_size), longest_audio], dtype=\"float32\")\n",
        "        txts            = np.zeros([int(self.batch_size), longest_txt], dtype=\"int64\")\n",
        "        audio_length    = np.zeros([int(self.batch_size)], dtype=\"int64\")\n",
        "        txt_length      = np.zeros([int(self.batch_size)], dtype=\"int64\")\n",
        "\n",
        "        i = 0\n",
        "        for audio, txt in zip(batch_audios, batch_texts):\n",
        "\n",
        "            txt_len = len(txt)\n",
        "\n",
        "            txt = text_to_int_sequence(txt)\n",
        "       \n",
        "            txts[i,: txt_len] = txt\n",
        "\n",
        "            audio_len = len(audio)\n",
        "\n",
        "            audios[i, :audio_len] = audio\n",
        "\n",
        "            audio_length[i] = audio_len\n",
        "            txt_length[i] = txt_len\n",
        "\n",
        "            i+=1          \n",
        "            \n",
        "        outputs = {'ctc': np.zeros([self.batch_size])}\n",
        "        inputs = {\n",
        "                    'the_input':    tf.convert_to_tensor(audios), \n",
        "                    'the_labels':   tf.convert_to_tensor(txts), \n",
        "                    'input_length': tf.convert_to_tensor(audio_length), \n",
        "                    'label_length': tf.convert_to_tensor(txt_length),\n",
        "                }\n",
        "        return (inputs, outputs)\n"
      ],
      "execution_count": null,
      "outputs": []
    },
    {
      "cell_type": "code",
      "metadata": {
        "id": "GlSv_P-Ra7K-"
      },
      "source": [
        "dg = DataGenerator(sample_audios, clean_txts)"
      ],
      "execution_count": null,
      "outputs": []
    },
    {
      "cell_type": "code",
      "metadata": {
        "colab": {
          "base_uri": "https://localhost:8080/"
        },
        "id": "2ETjjziia9fT",
        "outputId": "a42246d2-067b-4c9b-e6b2-e9c89f27d823"
      },
      "source": [
        "len(dg)"
      ],
      "execution_count": null,
      "outputs": [
        {
          "output_type": "execute_result",
          "data": {
            "text/plain": [
              "34"
            ]
          },
          "metadata": {},
          "execution_count": 41
        }
      ]
    },
    {
      "cell_type": "code",
      "metadata": {
        "colab": {
          "base_uri": "https://localhost:8080/"
        },
        "id": "oE61tFoybCN7",
        "outputId": "ae617f49-4b69-4fcf-d68f-39c0f37313d2"
      },
      "source": [
        "dg[2]"
      ],
      "execution_count": null,
      "outputs": [
        {
          "output_type": "execute_result",
          "data": {
            "text/plain": [
              "({'input_length': <tf.Tensor: shape=(32,), dtype=int64, numpy=\n",
              "  array([106502,  54465,  56225, 125244,  57329,  71883, 101432,  52037,\n",
              "          56670,  97020,  56227,  52260,  48069, 113558,  54464,  72765,\n",
              "          50935,  98784,  55346,  74087,  56228,  66591,  76073, 102974,\n",
              "          79379,  70782,  60413, 101209,  53361,  72327,  47846, 117746])>,\n",
              "  'label_length': <tf.Tensor: shape=(32,), dtype=int64, numpy=\n",
              "  array([ 85,  48,  43,  94,  40,  43,  67,  44,  42,  78,  50,  56,  34,\n",
              "         116,  45,  57,  43,  65,  46,  63,  52,  79,  67,  75,  56,  60,\n",
              "          53,  97,  29,  49,  21,  57])>,\n",
              "  'the_input': <tf.Tensor: shape=(32, 125244), dtype=float32, numpy=\n",
              "  array([[-0.00812266, -0.00989351, -0.00818363, ...,  0.        ,\n",
              "           0.        ,  0.        ],\n",
              "         [ 0.02433199,  0.02783113,  0.02393582, ...,  0.        ,\n",
              "           0.        ,  0.        ],\n",
              "         [ 0.00436307,  0.00565069,  0.0060805 , ...,  0.        ,\n",
              "           0.        ,  0.        ],\n",
              "         ...,\n",
              "         [-0.00295565,  0.00060368,  0.00483671, ...,  0.        ,\n",
              "           0.        ,  0.        ],\n",
              "         [-0.00061891, -0.00061906, -0.00032777, ...,  0.        ,\n",
              "           0.        ,  0.        ],\n",
              "         [ 0.01523486,  0.04532695,  0.03983384, ...,  0.        ,\n",
              "           0.        ,  0.        ]], dtype=float32)>,\n",
              "  'the_labels': <tf.Tensor: shape=(32, 116), dtype=int64, numpy=\n",
              "  array([[24,  2, 27, ...,  0,  0,  0],\n",
              "         [15, 10, 23, ...,  0,  0,  0],\n",
              "         [15,  2,  1, ...,  0,  0,  0],\n",
              "         ...,\n",
              "         [26,  2,  1, ...,  0,  0,  0],\n",
              "         [10, 13, 10, ...,  0,  0,  0],\n",
              "         [ 2, 14,  3, ...,  0,  0,  0]])>},\n",
              " {'ctc': array([0., 0., 0., 0., 0., 0., 0., 0., 0., 0., 0., 0., 0., 0., 0., 0., 0.,\n",
              "         0., 0., 0., 0., 0., 0., 0., 0., 0., 0., 0., 0., 0., 0., 0.])})"
            ]
          },
          "metadata": {},
          "execution_count": 42
        }
      ]
    },
    {
      "cell_type": "code",
      "metadata": {
        "id": "bCL_9qHxFnmR"
      },
      "source": [
        "batch1 = dg[0][0]"
      ],
      "execution_count": null,
      "outputs": []
    },
    {
      "cell_type": "code",
      "metadata": {
        "colab": {
          "base_uri": "https://localhost:8080/"
        },
        "id": "Y4XJH1jFFqrg",
        "outputId": "aa480759-ed4a-4b77-c386-cf6e3dd8abc0"
      },
      "source": [
        "batch1['the_labels']"
      ],
      "execution_count": null,
      "outputs": [
        {
          "output_type": "execute_result",
          "data": {
            "text/plain": [
              "<tf.Tensor: shape=(32, 109), dtype=int64, numpy=\n",
              "array([[14, 16, 26, ...,  0,  0,  0],\n",
              "       [10, 15,  2, ...,  0,  0,  0],\n",
              "       [14,  2, 14, ...,  0,  0,  0],\n",
              "       ...,\n",
              "       [27, 10, 14, ...,  0,  0,  0],\n",
              "       [15,  2,  1, ...,  0,  0,  0],\n",
              "       [15,  2,  1, ...,  0,  0,  0]])>"
            ]
          },
          "metadata": {},
          "execution_count": 44
        }
      ]
    },
    {
      "cell_type": "code",
      "metadata": {
        "colab": {
          "base_uri": "https://localhost:8080/"
        },
        "id": "qavEMIx3FscM",
        "outputId": "fb748580-70ff-44dc-e080-69918a0d429d"
      },
      "source": [
        "batch1['the_input']"
      ],
      "execution_count": null,
      "outputs": [
        {
          "output_type": "execute_result",
          "data": {
            "text/plain": [
              "<tf.Tensor: shape=(32, 131858), dtype=float32, numpy=\n",
              "array([[-5.1863431e-03, -3.7094415e-03,  5.1115605e-04, ...,\n",
              "         0.0000000e+00,  0.0000000e+00,  0.0000000e+00],\n",
              "       [ 2.0394609e-03,  3.2625867e-03,  4.5679305e-03, ...,\n",
              "         0.0000000e+00,  0.0000000e+00,  0.0000000e+00],\n",
              "       [-2.5505594e-03, -1.6648067e-03,  1.1030279e-05, ...,\n",
              "         0.0000000e+00,  0.0000000e+00,  0.0000000e+00],\n",
              "       ...,\n",
              "       [ 1.8812959e-03,  1.1386876e-03, -2.1179138e-04, ...,\n",
              "         0.0000000e+00,  0.0000000e+00,  0.0000000e+00],\n",
              "       [-4.4094473e-02, -5.2660685e-02, -4.1221883e-02, ...,\n",
              "         0.0000000e+00,  0.0000000e+00,  0.0000000e+00],\n",
              "       [-1.5952030e-02, -2.0318404e-02, -2.1630375e-02, ...,\n",
              "         0.0000000e+00,  0.0000000e+00,  0.0000000e+00]], dtype=float32)>"
            ]
          },
          "metadata": {},
          "execution_count": 45
        }
      ]
    },
    {
      "cell_type": "markdown",
      "metadata": {
        "id": "reQsClloeTxu"
      },
      "source": [
        "# CTC"
      ]
    },
    {
      "cell_type": "markdown",
      "metadata": {
        "id": "f2UZeukSeZ-K"
      },
      "source": [
        "Connectionist Temporal Clasification"
      ]
    },
    {
      "cell_type": "code",
      "metadata": {
        "id": "p8-9Wre7elYR"
      },
      "source": [
        "def ctc_lambda_func(args):\n",
        "    y_pred, labels, input_length, label_length = args\n",
        "    return K.ctc_batch_cost(labels, y_pred, input_length, label_length)"
      ],
      "execution_count": null,
      "outputs": []
    },
    {
      "cell_type": "code",
      "metadata": {
        "id": "6jJ0-R9DenvL"
      },
      "source": [
        "def input_lengths_lambda_func(args):\n",
        "    input_length = args\n",
        "    return tf.cast(tf.math.floor(input_length/hop_size)-1, dtype=\"float32\")"
      ],
      "execution_count": null,
      "outputs": []
    },
    {
      "cell_type": "code",
      "metadata": {
        "id": "yuwb3H3yeptr"
      },
      "source": [
        "def add_ctc_loss(model_builder):\n",
        "    the_labels      = Input(name='the_labels',      shape=(None,), dtype='float32')\n",
        "    input_lengths   = Input(name='input_length',    shape=(1,), dtype='float32')\n",
        "    label_lengths   = Input(name='label_length',    shape=(1,), dtype='float32')\n",
        "\n",
        "    input_lengths2 = Lambda(input_lengths_lambda_func)(input_lengths)\n",
        "    if model_builder.output_length:\n",
        "         output_lengths  = Lambda(model_builder.output_length)(input_lengths2)\n",
        "    else:\n",
        "         output_lengths  = input_lengths2\n",
        "    \n",
        "    # CTC loss is implemented in a lambda layer\n",
        "    loss_out = Lambda(ctc_lambda_func, output_shape=(1,), name='ctc')([model_builder.output, the_labels, output_lengths, label_lengths])\n",
        "    model = Model( inputs=[model_builder.input, the_labels, input_lengths, label_lengths],  outputs=loss_out)\n",
        "    return model"
      ],
      "execution_count": null,
      "outputs": []
    },
    {
      "cell_type": "markdown",
      "metadata": {
        "id": "OJleTY4jet56"
      },
      "source": [
        "# Log Mel Spectrogram"
      ]
    },
    {
      "cell_type": "code",
      "metadata": {
        "id": "qGpv54hHezrY"
      },
      "source": [
        "class LogMelSpectrogram(tf.keras.layers.Layer):\n",
        "    \"\"\"Compute log-magnitude mel-scaled spectrograms.\"\"\"\n",
        "\n",
        "    def __init__(self, sample_rate, fft_size, hop_size, n_mels,\n",
        "                 f_min=0.0, f_max=None, **kwargs):\n",
        "        super(LogMelSpectrogram, self).__init__(**kwargs)\n",
        "        self.sample_rate = sample_rate\n",
        "        self.fft_size = fft_size\n",
        "        self.hop_size = hop_size\n",
        "        self.n_mels = n_mels\n",
        "        self.f_min = f_min\n",
        "        self.f_max = f_max if f_max else sample_rate / 2\n",
        "        self.mel_filterbank = tf.signal.linear_to_mel_weight_matrix(\n",
        "            num_mel_bins=self.n_mels,\n",
        "            num_spectrogram_bins=fft_size // 2 + 1,\n",
        "            sample_rate=self.sample_rate,\n",
        "            lower_edge_hertz=self.f_min,\n",
        "            upper_edge_hertz=self.f_max)\n",
        "\n",
        "    def build(self, input_shape):\n",
        "        self.non_trainable_weights.append(self.mel_filterbank)\n",
        "        super(LogMelSpectrogram, self).build(input_shape)\n",
        "\n",
        "    def call(self, waveforms):\n",
        "        \"\"\"Forward pass.\n",
        "        Parameters\n",
        "        ----------\n",
        "        waveforms : tf.Tensor, shape = (None, n_samples)\n",
        "            A Batch of mono waveforms.\n",
        "        Returns\n",
        "        -------\n",
        "        log_mel_spectrograms : (tf.Tensor), shape = (None, time, freq, ch)\n",
        "            The corresponding batch of log-mel-spectrograms\n",
        "        \"\"\"\n",
        "        def _tf_log10(x):\n",
        "            numerator = tf.math.log(x)\n",
        "            denominator = tf.math.log(tf.constant(10, dtype=numerator.dtype))\n",
        "            return numerator / denominator\n",
        "\n",
        "        def power_to_db(magnitude, amin=1e-16, top_db=80.0):\n",
        "            \"\"\"\n",
        "            https://librosa.github.io/librosa/generated/librosa.core.power_to_db.html\n",
        "            \"\"\"\n",
        "            ref_value = tf.reduce_max(magnitude)\n",
        "            log_spec = 10.0 * _tf_log10(tf.maximum(amin, magnitude))\n",
        "            log_spec -= 10.0 * _tf_log10(tf.maximum(amin, ref_value))\n",
        "            log_spec = tf.maximum(log_spec, tf.reduce_max(log_spec) - top_db)\n",
        "\n",
        "            return log_spec\n",
        "\n",
        "        spectrograms = tf.signal.stft(waveforms,\n",
        "                                      frame_length=self.fft_size,\n",
        "                                      frame_step=self.hop_size,\n",
        "                                      pad_end=False)\n",
        "\n",
        "        magnitude_spectrograms = tf.abs(spectrograms)\n",
        "\n",
        "        mel_spectrograms = tf.matmul(tf.square(magnitude_spectrograms),\n",
        "                                     self.mel_filterbank)\n",
        "\n",
        "        log_mel_spectrograms = power_to_db(mel_spectrograms)\n",
        "\n",
        "        # add channel dimension\n",
        "        log_mel_spectrograms = tf.expand_dims(log_mel_spectrograms, 3)\n",
        "\n",
        "        return log_mel_spectrograms\n",
        "\n",
        "    def get_config(self):\n",
        "        config = {\n",
        "            'fft_size': self.fft_size,\n",
        "            'hop_size': self.hop_size,\n",
        "            'n_mels': self.n_mels,\n",
        "            'sample_rate': self.sample_rate,\n",
        "            'f_min': self.f_min,\n",
        "            'f_max': self.f_max,\n",
        "        }\n",
        "        config.update(super(LogMelSpectrogram, self).get_config())\n",
        "\n",
        "        return config"
      ],
      "execution_count": null,
      "outputs": []
    },
    {
      "cell_type": "markdown",
      "metadata": {
        "id": "wSebksYG2NXM"
      },
      "source": [
        "# Models"
      ]
    },
    {
      "cell_type": "code",
      "metadata": {
        "id": "eHHAHeJu2Q-G"
      },
      "source": [
        "def preprocessin_model(sample_rate, fft_size, frame_step, n_mels, mfcc=False):\n",
        "\n",
        "    input_data = Input(name='input', shape=(None,), dtype=\"float32\")\n",
        "    featLayer = LogMelSpectrogram(\n",
        "        fft_size=fft_size,\n",
        "        hop_size=frame_step,\n",
        "        n_mels=n_mels,\n",
        "        \n",
        "        sample_rate=sample_rate,\n",
        "        f_min=0.0,\n",
        "        \n",
        "        f_max=int(sample_rate / 2)\n",
        "    )(input_data)\n",
        "    \n",
        "    x = BatchNormalization()(featLayer)\n",
        "    model = Model(inputs=input_data, outputs=x, name=\"preprocessin_model\")\n",
        "\n",
        "    return model"
      ],
      "execution_count": null,
      "outputs": []
    },
    {
      "cell_type": "code",
      "metadata": {
        "id": "CZiexFZ62UHt"
      },
      "source": [
        "def simple_rnn_model(input_dim, output_dim=224):\n",
        "\n",
        "    input_data = Input(name='the_input', shape=(None, input_dim))\n",
        "    simp_rnn = GRU(output_dim, return_sequences=True,\n",
        "                   implementation=2, name='rnn')(input_data)\n",
        "    y_pred = Activation('softmax', name='softmax')(simp_rnn)\n",
        "    model = Model(inputs=input_data, outputs=y_pred, name=\"simple_rnn_model\")\n",
        "    model.output_length = lambda x: x\n",
        "    return model\n"
      ],
      "execution_count": null,
      "outputs": []
    },
    {
      "cell_type": "code",
      "metadata": {
        "id": "Om_Vktt-2Xg2"
      },
      "source": [
        "def BidirectionalRNN(input_dim, rnn_layers=2, units=400, drop_out=0.5, act='tanh', output_dim=224):\n",
        "\n",
        "    input_data = Input(name='the_input', shape=(\n",
        "        None, input_dim))\n",
        "\n",
        "    x = Bidirectional(LSTM(units,  activation=act,\n",
        "                      return_sequences=True, implementation=2))(input_data)\n",
        "    x = BatchNormalization()(x)\n",
        "    x = Dropout(drop_out)(x)\n",
        "\n",
        "    for i in range(rnn_layers - 2):\n",
        "        x = Bidirectional(\n",
        "            LSTM(units, activation=act, return_sequences=True))(x)\n",
        "        x = BatchNormalization()(x)\n",
        "        x = Dropout(drop_out)(x)\n",
        "\n",
        "    x = Bidirectional(LSTM(units,  activation=act,\n",
        "                      return_sequences=True, implementation=2))(x)\n",
        "    x = BatchNormalization()(x)\n",
        "    x = Dropout(drop_out)(x)\n",
        "\n",
        "    time_dense = TimeDistributed(Dense(output_dim))(x)\n",
        "\n",
        "    y_pred = Activation('softmax', name='softmax')(time_dense)\n",
        "\n",
        "    model = Model(inputs=input_data, outputs=y_pred, name=\"BidirectionalRNN\")\n",
        "\n",
        "    return model"
      ],
      "execution_count": null,
      "outputs": []
    },
    {
      "cell_type": "code",
      "metadata": {
        "id": "lKjSvjje2Ybu"
      },
      "source": [
        "def conv_rnn(n_mels, output_dim=224, rnn_layers=4, units=400, drop_out=0.5, act='tanh'):\n",
        "\n",
        "    input_data = Input(name='the_input', shape=(None, n_mels, 1))\n",
        "\n",
        "    y = Conv2D(32, (3, 3), padding='same')(input_data)  # was 32\n",
        "    y = Activation('relu')(y)\n",
        "    y = BatchNormalization()(y)\n",
        "\n",
        "    x = MaxPooling2D((1, 2))(y)\n",
        "\n",
        "    x = Conv2D(64, (3, 3), padding='same')(y)  # was 32\n",
        "    x = Activation('relu')(x)\n",
        "    y = BatchNormalization()(y)\n",
        "\n",
        "    x = MaxPooling2D((1, 2))(x)\n",
        "\n",
        "    x = Conv2D(128, (3, 3), padding='same')(x)\n",
        "    x = Activation('relu')(x)\n",
        "    y = BatchNormalization()(y)\n",
        "\n",
        "    x = MaxPooling2D((1, 2))(x)\n",
        "\n",
        "    x = Dense(128)(x)\n",
        "    x = Dense(64)(x)\n",
        "    x = Dense(32)(x)\n",
        "\n",
        "    x = Reshape((-1, x.shape[-1] * x.shape[-2]))(x)\n",
        "\n",
        "    for i in range(rnn_layers):\n",
        "        x = Bidirectional(\n",
        "            LSTM(units, activation=act, return_sequences=True))(x)\n",
        "        x = BatchNormalization()(x)\n",
        "        x = Dropout(drop_out)(x)\n",
        "\n",
        "    bn_rnn = BatchNormalization()(x)\n",
        "\n",
        "    time_dense = TimeDistributed(Dense(output_dim))(bn_rnn)\n",
        "\n",
        "    y_pred = Activation('softmax', name='softmax')(time_dense)\n",
        "\n",
        "    model = Model(inputs=input_data, outputs=y_pred, name=\"custom_model\")\n",
        "\n",
        "    return model"
      ],
      "execution_count": null,
      "outputs": []
    },
    {
      "cell_type": "code",
      "metadata": {
        "id": "7Yk8JKbX2b9Y"
      },
      "source": [
        "def train(model_builder, \n",
        "          data_gen,\n",
        "          epochs, \n",
        "          verbose=1,\n",
        "          optimizer=SGD(learning_rate=0.002, decay=1e-6, momentum=0.9, nesterov=True, clipnorm=5),\n",
        "          ):    \n",
        "              \n",
        "    model = add_ctc_loss(model_builder)\n",
        "\n",
        "    model.compile(loss={'ctc': lambda y_true, y_pred: y_pred}, optimizer=optimizer)\n",
        "    print(model.summary())\n",
        "\n",
        "    # add checkpointer\n",
        "    #checkpointer = ModelCheckpoint(filepath='/content/drive/MyDrive/structured_data/train/models/cnn_rnn.h5', verbose=1)\n",
        "    early_stopping = EarlyStopping( monitor=\"val_loss\", patience=10, restore_best_weights=True)\n",
        "\n",
        "    hist = model.fit_generator(generator=data_gen,\n",
        "                               epochs=epochs,\n",
        "                               #callbacks=[checkpointer, early_stopping], \n",
        "                               verbose=verbose, \n",
        "                               use_multiprocessing=False)\n",
        "    \n",
        "    # save model loss\n",
        "    #with open('/content/drive/MyDrive/structured_data/train/models/cnn_rnn.pickle', 'wb') as f:\n",
        "     #   pickle.dump(hist.history, f)"
      ],
      "execution_count": null,
      "outputs": []
    },
    {
      "cell_type": "markdown",
      "metadata": {
        "id": "cfJYtUni2y7G"
      },
      "source": [
        "# Training"
      ]
    },
    {
      "cell_type": "code",
      "metadata": {
        "id": "AslefmLg208J"
      },
      "source": [
        "\n",
        "sample_rate = 22050\n",
        "fft_size = 1024\n",
        "frame_step = 512\n",
        "n_mels = 128\n",
        "\n",
        "batch_size = 32\n",
        "epochs = 100\n",
        "data_len = len(clean_txts)\n",
        "output_dim = len(char_map) + 2\n"
      ],
      "execution_count": null,
      "outputs": []
    },
    {
      "cell_type": "code",
      "metadata": {
        "id": "7wJhZ_JJ23aA"
      },
      "source": [
        "dg = DataGenerator(sample_audios, clean_txts, batch_size)"
      ],
      "execution_count": null,
      "outputs": []
    },
    {
      "cell_type": "code",
      "metadata": {
        "id": "Wjy39j3h27c3",
        "colab": {
          "base_uri": "https://localhost:8080/"
        },
        "outputId": "27f6aa42-4c6f-44b0-8ad4-ea34154f1b47"
      },
      "source": [
        "preprocess_model = preprocessin_model(sample_rate, fft_size, frame_step, n_mels)\n",
        "preprocess_model.summary()\n"
      ],
      "execution_count": null,
      "outputs": [
        {
          "output_type": "stream",
          "name": "stdout",
          "text": [
            "Model: \"preprocessin_model\"\n",
            "_________________________________________________________________\n",
            " Layer (type)                Output Shape              Param #   \n",
            "=================================================================\n",
            " input (InputLayer)          [(None, None)]            0         \n",
            "                                                                 \n",
            " log_mel_spectrogram (LogMel  (None, None, 128, 1)     0         \n",
            " Spectrogram)                                                    \n",
            "                                                                 \n",
            " batch_normalization (BatchN  (None, None, 128, 1)     4         \n",
            " ormalization)                                                   \n",
            "                                                                 \n",
            "=================================================================\n",
            "Total params: 4\n",
            "Trainable params: 2\n",
            "Non-trainable params: 2\n",
            "_________________________________________________________________\n"
          ]
        }
      ]
    },
    {
      "cell_type": "code",
      "metadata": {
        "id": "JfRovENo29JI",
        "colab": {
          "base_uri": "https://localhost:8080/"
        },
        "outputId": "3526c3ea-e83e-4a30-f351-f2e80e1990e9"
      },
      "source": [
        "speech_model = conv_rnn(n_mels, output_dim = output_dim)\n",
        "speech_model.summary()\n"
      ],
      "execution_count": null,
      "outputs": [
        {
          "output_type": "stream",
          "name": "stdout",
          "text": [
            "Model: \"custom_model\"\n",
            "_________________________________________________________________\n",
            " Layer (type)                Output Shape              Param #   \n",
            "=================================================================\n",
            " the_input (InputLayer)      [(None, None, 128, 1)]    0         \n",
            "                                                                 \n",
            " conv2d (Conv2D)             (None, None, 128, 32)     320       \n",
            "                                                                 \n",
            " activation (Activation)     (None, None, 128, 32)     0         \n",
            "                                                                 \n",
            " batch_normalization_1 (Batc  (None, None, 128, 32)    128       \n",
            " hNormalization)                                                 \n",
            "                                                                 \n",
            " conv2d_1 (Conv2D)           (None, None, 128, 64)     18496     \n",
            "                                                                 \n",
            " activation_1 (Activation)   (None, None, 128, 64)     0         \n",
            "                                                                 \n",
            " max_pooling2d_1 (MaxPooling  (None, None, 64, 64)     0         \n",
            " 2D)                                                             \n",
            "                                                                 \n",
            " conv2d_2 (Conv2D)           (None, None, 64, 128)     73856     \n",
            "                                                                 \n",
            " activation_2 (Activation)   (None, None, 64, 128)     0         \n",
            "                                                                 \n",
            " max_pooling2d_2 (MaxPooling  (None, None, 32, 128)    0         \n",
            " 2D)                                                             \n",
            "                                                                 \n",
            " dense (Dense)               (None, None, 32, 128)     16512     \n",
            "                                                                 \n",
            " dense_1 (Dense)             (None, None, 32, 64)      8256      \n",
            "                                                                 \n",
            " dense_2 (Dense)             (None, None, 32, 32)      2080      \n",
            "                                                                 \n",
            " reshape (Reshape)           (None, None, 1024)        0         \n",
            "                                                                 \n",
            " bidirectional (Bidirectiona  (None, None, 800)        4560000   \n",
            " l)                                                              \n",
            "                                                                 \n",
            " batch_normalization_4 (Batc  (None, None, 800)        3200      \n",
            " hNormalization)                                                 \n",
            "                                                                 \n",
            " dropout (Dropout)           (None, None, 800)         0         \n",
            "                                                                 \n",
            " bidirectional_1 (Bidirectio  (None, None, 800)        3843200   \n",
            " nal)                                                            \n",
            "                                                                 \n",
            " batch_normalization_5 (Batc  (None, None, 800)        3200      \n",
            " hNormalization)                                                 \n",
            "                                                                 \n",
            " dropout_1 (Dropout)         (None, None, 800)         0         \n",
            "                                                                 \n",
            " bidirectional_2 (Bidirectio  (None, None, 800)        3843200   \n",
            " nal)                                                            \n",
            "                                                                 \n",
            " batch_normalization_6 (Batc  (None, None, 800)        3200      \n",
            " hNormalization)                                                 \n",
            "                                                                 \n",
            " dropout_2 (Dropout)         (None, None, 800)         0         \n",
            "                                                                 \n",
            " bidirectional_3 (Bidirectio  (None, None, 800)        3843200   \n",
            " nal)                                                            \n",
            "                                                                 \n",
            " batch_normalization_7 (Batc  (None, None, 800)        3200      \n",
            " hNormalization)                                                 \n",
            "                                                                 \n",
            " dropout_3 (Dropout)         (None, None, 800)         0         \n",
            "                                                                 \n",
            " batch_normalization_8 (Batc  (None, None, 800)        3200      \n",
            " hNormalization)                                                 \n",
            "                                                                 \n",
            " time_distributed (TimeDistr  (None, None, 30)         24030     \n",
            " ibuted)                                                         \n",
            "                                                                 \n",
            " softmax (Activation)        (None, None, 30)          0         \n",
            "                                                                 \n",
            "=================================================================\n",
            "Total params: 16,249,278\n",
            "Trainable params: 16,241,214\n",
            "Non-trainable params: 8,064\n",
            "_________________________________________________________________\n"
          ]
        }
      ]
    },
    {
      "cell_type": "code",
      "metadata": {
        "id": "X1M615Xb7tvW"
      },
      "source": [
        "def build_model(output_dim, custom_model, preprocess_model, calc=None):\n",
        "\n",
        "    input_audios = Input(name='the_input', shape=(None,))\n",
        "    pre = preprocess_model(input_audios)\n",
        "    pre = tf.squeeze(pre, [3])\n",
        "\n",
        "    y_pred = custom_model(pre)\n",
        "    model = Model(inputs=input_audios, outputs=y_pred, name=\"model_builder\")\n",
        "    model.output_length = calc\n",
        "\n",
        "    return model"
      ],
      "execution_count": null,
      "outputs": []
    },
    {
      "cell_type": "code",
      "metadata": {
        "id": "uTJVsdE07uS-",
        "colab": {
          "base_uri": "https://localhost:8080/"
        },
        "outputId": "9799d5e1-3215-46d0-d842-c487cc07ca1c"
      },
      "source": [
        "model = build_model(output_dim, speech_model, preprocess_model)\n",
        "model.summary()\n"
      ],
      "execution_count": null,
      "outputs": [
        {
          "output_type": "stream",
          "name": "stdout",
          "text": [
            "Model: \"model_builder\"\n",
            "_________________________________________________________________\n",
            " Layer (type)                Output Shape              Param #   \n",
            "=================================================================\n",
            " the_input (InputLayer)      [(None, None)]            0         \n",
            "                                                                 \n",
            " preprocessin_model (Functio  (None, None, 128, 1)     4         \n",
            " nal)                                                            \n",
            "                                                                 \n",
            " tf.compat.v1.squeeze (TFOpL  (None, None, 128)        0         \n",
            " ambda)                                                          \n",
            "                                                                 \n",
            " custom_model (Functional)   (None, None, 30)          16249278  \n",
            "                                                                 \n",
            "=================================================================\n",
            "Total params: 16,249,282\n",
            "Trainable params: 16,241,216\n",
            "Non-trainable params: 8,066\n",
            "_________________________________________________________________\n"
          ]
        }
      ]
    },
    {
      "cell_type": "code",
      "metadata": {
        "id": "Ifnez6Zd7wyW"
      },
      "source": [
        "#model.load_weights('/content/drive/MyDrive/structured_data/train/models/cnn_rnn3.h5')"
      ],
      "execution_count": null,
      "outputs": []
    },
    {
      "cell_type": "code",
      "metadata": {
        "id": "nrHNdu7r7zCP",
        "colab": {
          "base_uri": "https://localhost:8080/"
        },
        "outputId": "0c5bcbe3-636b-413f-b501-7862ded29bc1"
      },
      "source": [
        "hop_size = 512\n",
        "train(model, dg, epochs=100)"
      ],
      "execution_count": 87,
      "outputs": [
        {
          "metadata": {
            "tags": null
          },
          "name": "stdout",
          "output_type": "stream",
          "text": [
            "Model: \"model_1\"\n",
            "__________________________________________________________________________________________________\n",
            " Layer (type)                   Output Shape         Param #     Connected to                     \n",
            "==================================================================================================\n",
            " the_input (InputLayer)         [(None, None)]       0           []                               \n",
            "                                                                                                  \n",
            " preprocessin_model (Functional  (None, None, 128, 1  4          ['the_input[0][0]']              \n",
            " )                              )                                                                 \n",
            "                                                                                                  \n",
            " tf.compat.v1.squeeze (TFOpLamb  (None, None, 128)   0           ['preprocessin_model[0][0]']     \n",
            " da)                                                                                              \n",
            "                                                                                                  \n",
            " input_length (InputLayer)      [(None, 1)]          0           []                               \n",
            "                                                                                                  \n",
            " custom_model (Functional)      (None, None, 30)     16249278    ['tf.compat.v1.squeeze[0][0]']   \n",
            "                                                                                                  \n",
            " the_labels (InputLayer)        [(None, None)]       0           []                               \n",
            "                                                                                                  \n",
            " lambda_1 (Lambda)              (None, 1)            0           ['input_length[0][0]']           \n",
            "                                                                                                  \n",
            " label_length (InputLayer)      [(None, 1)]          0           []                               \n",
            "                                                                                                  \n",
            " ctc (Lambda)                   (None, 1)            0           ['custom_model[0][0]',           \n",
            "                                                                  'the_labels[0][0]',             \n",
            "                                                                  'lambda_1[0][0]',               \n",
            "                                                                  'label_length[0][0]']           \n",
            "                                                                                                  \n",
            "==================================================================================================\n",
            "Total params: 16,249,282\n",
            "Trainable params: 16,241,216\n",
            "Non-trainable params: 8,066\n",
            "__________________________________________________________________________________________________\n",
            "None\n",
            "Epoch 1/100\n"
          ]
        },
        {
          "metadata": {
            "tags": null
          },
          "name": "stderr",
          "output_type": "stream",
          "text": [
            "/usr/local/lib/python3.7/dist-packages/ipykernel_launcher.py:21: UserWarning: `Model.fit_generator` is deprecated and will be removed in a future version. Please use `Model.fit`, which supports generators.\n"
          ]
        },
        {
          "output_type": "stream",
          "name": "stdout",
          "text": [
            "34/34 [==============================] - 56s 1s/step - loss: 12.5685\n",
            "Epoch 2/100\n",
            "34/34 [==============================] - 45s 1s/step - loss: 12.3517\n",
            "Epoch 3/100\n",
            "34/34 [==============================] - 45s 1s/step - loss: 12.0265\n",
            "Epoch 4/100\n",
            "34/34 [==============================] - 45s 1s/step - loss: 11.9324\n",
            "Epoch 5/100\n",
            "34/34 [==============================] - 45s 1s/step - loss: 12.0768\n",
            "Epoch 6/100\n",
            "34/34 [==============================] - 45s 1s/step - loss: 11.6511\n",
            "Epoch 7/100\n",
            "34/34 [==============================] - 45s 1s/step - loss: 11.5809\n",
            "Epoch 8/100\n",
            "34/34 [==============================] - 45s 1s/step - loss: 11.3019\n",
            "Epoch 9/100\n",
            "34/34 [==============================] - 45s 1s/step - loss: 11.3254\n",
            "Epoch 10/100\n",
            "34/34 [==============================] - 45s 1s/step - loss: 10.7681\n",
            "Epoch 11/100\n",
            "34/34 [==============================] - 45s 1s/step - loss: 10.7422\n",
            "Epoch 12/100\n",
            "34/34 [==============================] - 45s 1s/step - loss: 10.5431\n",
            "Epoch 13/100\n",
            "34/34 [==============================] - 45s 1s/step - loss: 10.4636\n",
            "Epoch 14/100\n",
            "34/34 [==============================] - 45s 1s/step - loss: 10.0308\n",
            "Epoch 15/100\n",
            "34/34 [==============================] - 45s 1s/step - loss: 10.1476\n",
            "Epoch 16/100\n",
            "34/34 [==============================] - 45s 1s/step - loss: 9.9844\n",
            "Epoch 17/100\n",
            "34/34 [==============================] - 45s 1s/step - loss: 9.7694\n",
            "Epoch 18/100\n",
            "34/34 [==============================] - 45s 1s/step - loss: 9.6941\n",
            "Epoch 19/100\n",
            "34/34 [==============================] - 45s 1s/step - loss: 9.4800\n",
            "Epoch 20/100\n",
            "34/34 [==============================] - 45s 1s/step - loss: 9.5090\n",
            "Epoch 21/100\n",
            "34/34 [==============================] - 45s 1s/step - loss: 9.1986\n",
            "Epoch 22/100\n",
            "34/34 [==============================] - 45s 1s/step - loss: 8.9180\n",
            "Epoch 23/100\n",
            "34/34 [==============================] - 45s 1s/step - loss: 8.9792\n",
            "Epoch 24/100\n",
            "34/34 [==============================] - 45s 1s/step - loss: 8.7769\n",
            "Epoch 25/100\n",
            "34/34 [==============================] - 45s 1s/step - loss: 8.6231\n",
            "Epoch 26/100\n",
            "34/34 [==============================] - 45s 1s/step - loss: 8.6013\n",
            "Epoch 27/100\n",
            "34/34 [==============================] - 45s 1s/step - loss: 8.4037\n",
            "Epoch 28/100\n",
            "34/34 [==============================] - 45s 1s/step - loss: 8.1857\n",
            "Epoch 29/100\n",
            "34/34 [==============================] - 45s 1s/step - loss: 8.0558\n",
            "Epoch 30/100\n",
            "34/34 [==============================] - 45s 1s/step - loss: 8.1024\n",
            "Epoch 31/100\n",
            "34/34 [==============================] - 45s 1s/step - loss: 7.8455\n",
            "Epoch 32/100\n",
            "34/34 [==============================] - 45s 1s/step - loss: 7.7886\n",
            "Epoch 33/100\n",
            "34/34 [==============================] - 45s 1s/step - loss: 7.9095\n",
            "Epoch 34/100\n",
            "34/34 [==============================] - 45s 1s/step - loss: 7.5066\n",
            "Epoch 35/100\n",
            "34/34 [==============================] - 46s 1s/step - loss: 7.5568\n",
            "Epoch 36/100\n",
            "34/34 [==============================] - 46s 1s/step - loss: 7.4674\n",
            "Epoch 37/100\n",
            "34/34 [==============================] - 45s 1s/step - loss: 7.3025\n",
            "Epoch 38/100\n",
            "34/34 [==============================] - 45s 1s/step - loss: 7.3435\n",
            "Epoch 39/100\n",
            "34/34 [==============================] - 45s 1s/step - loss: 7.3495\n",
            "Epoch 40/100\n",
            "34/34 [==============================] - 45s 1s/step - loss: 7.0851\n",
            "Epoch 41/100\n",
            "34/34 [==============================] - 45s 1s/step - loss: 6.9846\n",
            "Epoch 42/100\n",
            "34/34 [==============================] - 45s 1s/step - loss: 7.0818\n",
            "Epoch 43/100\n",
            "34/34 [==============================] - 45s 1s/step - loss: 6.9698\n",
            "Epoch 44/100\n",
            "34/34 [==============================] - 45s 1s/step - loss: 6.6172\n",
            "Epoch 45/100\n",
            "34/34 [==============================] - 45s 1s/step - loss: 6.5804\n",
            "Epoch 46/100\n",
            "34/34 [==============================] - 45s 1s/step - loss: 6.6579\n",
            "Epoch 47/100\n",
            "34/34 [==============================] - 45s 1s/step - loss: 6.6838\n",
            "Epoch 48/100\n",
            "34/34 [==============================] - 45s 1s/step - loss: 6.2623\n",
            "Epoch 49/100\n",
            "34/34 [==============================] - 45s 1s/step - loss: 6.3581\n",
            "Epoch 50/100\n",
            "34/34 [==============================] - 45s 1s/step - loss: 6.3893\n",
            "Epoch 51/100\n",
            "34/34 [==============================] - 45s 1s/step - loss: 6.3711\n",
            "Epoch 52/100\n",
            "34/34 [==============================] - 45s 1s/step - loss: 6.0181\n",
            "Epoch 53/100\n",
            "34/34 [==============================] - 45s 1s/step - loss: 6.0313\n",
            "Epoch 54/100\n",
            "34/34 [==============================] - 45s 1s/step - loss: 6.1495\n",
            "Epoch 55/100\n",
            "34/34 [==============================] - 45s 1s/step - loss: 5.9545\n",
            "Epoch 56/100\n",
            "34/34 [==============================] - 45s 1s/step - loss: 5.8656\n",
            "Epoch 57/100\n",
            "34/34 [==============================] - 45s 1s/step - loss: 5.7430\n",
            "Epoch 58/100\n",
            "34/34 [==============================] - 45s 1s/step - loss: 5.7434\n",
            "Epoch 59/100\n",
            "34/34 [==============================] - 45s 1s/step - loss: 5.8328\n",
            "Epoch 60/100\n",
            "34/34 [==============================] - 45s 1s/step - loss: 5.6615\n",
            "Epoch 61/100\n",
            "34/34 [==============================] - 45s 1s/step - loss: 5.5990\n",
            "Epoch 62/100\n",
            "34/34 [==============================] - 45s 1s/step - loss: 5.5638\n",
            "Epoch 63/100\n",
            "34/34 [==============================] - 45s 1s/step - loss: 5.4304\n",
            "Epoch 64/100\n",
            "34/34 [==============================] - 45s 1s/step - loss: 5.4191\n",
            "Epoch 65/100\n",
            "34/34 [==============================] - 45s 1s/step - loss: 5.2772\n",
            "Epoch 66/100\n",
            "34/34 [==============================] - 45s 1s/step - loss: 5.1797\n",
            "Epoch 67/100\n",
            "34/34 [==============================] - 45s 1s/step - loss: 5.0732\n",
            "Epoch 68/100\n",
            "34/34 [==============================] - 45s 1s/step - loss: 5.1455\n",
            "Epoch 69/100\n",
            "34/34 [==============================] - 45s 1s/step - loss: 5.2027\n",
            "Epoch 70/100\n",
            "34/34 [==============================] - 45s 1s/step - loss: 5.0658\n",
            "Epoch 71/100\n",
            "34/34 [==============================] - 45s 1s/step - loss: 4.9461\n",
            "Epoch 72/100\n",
            "34/34 [==============================] - 45s 1s/step - loss: 4.7580\n",
            "Epoch 73/100\n",
            "34/34 [==============================] - 45s 1s/step - loss: 4.9954\n",
            "Epoch 74/100\n",
            "34/34 [==============================] - 45s 1s/step - loss: 4.8186\n",
            "Epoch 75/100\n",
            "34/34 [==============================] - 45s 1s/step - loss: 4.5978\n",
            "Epoch 76/100\n",
            "34/34 [==============================] - 45s 1s/step - loss: 4.5008\n",
            "Epoch 77/100\n",
            "34/34 [==============================] - 45s 1s/step - loss: 4.8188\n",
            "Epoch 78/100\n",
            "34/34 [==============================] - 45s 1s/step - loss: 4.6709\n",
            "Epoch 79/100\n",
            "34/34 [==============================] - 45s 1s/step - loss: 4.4708\n",
            "Epoch 80/100\n",
            "34/34 [==============================] - 45s 1s/step - loss: 4.4560\n",
            "Epoch 81/100\n",
            "34/34 [==============================] - 45s 1s/step - loss: 4.4782\n",
            "Epoch 82/100\n",
            "34/34 [==============================] - 45s 1s/step - loss: 4.4106\n",
            "Epoch 83/100\n",
            "34/34 [==============================] - 45s 1s/step - loss: 4.4185\n",
            "Epoch 84/100\n",
            "34/34 [==============================] - 45s 1s/step - loss: 4.4758\n",
            "Epoch 85/100\n",
            "34/34 [==============================] - 45s 1s/step - loss: 4.2868\n",
            "Epoch 86/100\n",
            "34/34 [==============================] - 45s 1s/step - loss: 4.2339\n",
            "Epoch 87/100\n",
            "34/34 [==============================] - 45s 1s/step - loss: 4.1974\n",
            "Epoch 88/100\n",
            "34/34 [==============================] - 45s 1s/step - loss: 4.2021\n",
            "Epoch 89/100\n",
            "34/34 [==============================] - 45s 1s/step - loss: 4.1217\n",
            "Epoch 90/100\n",
            "34/34 [==============================] - 45s 1s/step - loss: 4.1893\n",
            "Epoch 91/100\n",
            "34/34 [==============================] - 45s 1s/step - loss: 4.1421\n",
            "Epoch 92/100\n",
            "34/34 [==============================] - 45s 1s/step - loss: 4.0105\n",
            "Epoch 93/100\n",
            "34/34 [==============================] - 45s 1s/step - loss: 3.9646\n",
            "Epoch 94/100\n",
            "34/34 [==============================] - 45s 1s/step - loss: 3.9017\n",
            "Epoch 95/100\n",
            "34/34 [==============================] - 45s 1s/step - loss: 3.9640\n",
            "Epoch 96/100\n",
            "34/34 [==============================] - 45s 1s/step - loss: 3.8058\n",
            "Epoch 97/100\n",
            "34/34 [==============================] - 45s 1s/step - loss: 3.4992\n",
            "Epoch 98/100\n",
            "34/34 [==============================] - 45s 1s/step - loss: 3.7475\n",
            "Epoch 99/100\n",
            "34/34 [==============================] - 45s 1s/step - loss: 3.6498\n",
            "Epoch 100/100\n",
            "34/34 [==============================] - 45s 1s/step - loss: 3.4641\n"
          ]
        }
      ]
    },
    {
      "cell_type": "code",
      "metadata": {
        "id": "K-0-gC-t74oL"
      },
      "source": [
        "!pip install jiwer --quiet"
      ],
      "execution_count": 90,
      "outputs": []
    },
    {
      "cell_type": "code",
      "metadata": {
        "id": "XF_xFEId75JV"
      },
      "source": [
        "from jiwer import wer"
      ],
      "execution_count": 91,
      "outputs": []
    },
    {
      "cell_type": "code",
      "metadata": {
        "id": "iah0Z4k08Ctz"
      },
      "source": [
        "def predict(data_gen,  num_elem=1, index=0):\n",
        "    \n",
        "    pred_data = data_gen.__getitem__(index)\n",
        "\n",
        "    pred_audios = pred_data[0][\"the_input\"]\n",
        "    pred_labels = pred_data[0][\"the_labels\"]\n",
        "    \n",
        "    y_pred = model.predict(pred_audios)\n",
        "\n",
        "    input_shape = tf.keras.backend.shape(y_pred)\n",
        "    input_length = tf.ones(shape=input_shape[0]) * tf.keras.backend.cast(input_shape[1], 'float32')\n",
        "    prediction = tf.keras.backend.ctc_decode(y_pred, input_length, greedy=False)[0][0]\n",
        "    \n",
        "\n",
        "    for i in range(0, num_elem):  # only on clean data\n",
        "        \n",
        "        pred = K.eval(prediction[i]).flatten().tolist()\n",
        "        pred = [i for i in pred if i != -1]\n",
        "\n",
        "\n",
        "\n",
        "        ground_truth = int_sequence_to_text(pred_labels[i].numpy())\n",
        "        hypothesis   = ''.join(int_sequence_to_text(pred))\n",
        "        # error        = wer(ground_truth, hypothesis)\n",
        "        return hypothesis        \n",
        "        print('-'*48 + ' ' + str(i) + ' ' + '-'*48)\n",
        "        print('True transcription:\\n' + '\\n' + ground_truth)\n",
        "        print('-'*100)\n",
        "        print('Predicted transcription:\\n' + '\\n' + hypothesis)\n",
        "        # print('-'*100)\n",
        "        # print('Word Error Rate:' + str(error))\n",
        "        print('\\n')"
      ],
      "execution_count": 92,
      "outputs": []
    },
    {
      "cell_type": "code",
      "metadata": {
        "id": "mT4TvEJHLhrb"
      },
      "source": [
        "os.chdir(\"/content/drive/MyDrive/dub dataset/SWAHILI/data/train/wav/SWH-05-20101107\")"
      ],
      "execution_count": 93,
      "outputs": []
    },
    {
      "cell_type": "code",
      "metadata": {
        "id": "IY4-3HeG8DoO",
        "colab": {
          "base_uri": "https://localhost:8080/"
        },
        "outputId": "b356d617-b2ec-41cd-dc18-162fa3fe9448"
      },
      "source": [
        "rows1 = []\n",
        "parent_dir1 = \"./\"\n",
        "files1 = os.listdir(parent_dir1)\n",
        "for f in files1:\n",
        "    audio, fs = librosa.load(f\"{parent_dir1}/{f}\")\n",
        "    filename = f.split('.')[0]\n",
        "    row = {'filename': filename, 'audio': audio}\n",
        "    rows1.append(row)\n",
        "rows1[:5]"
      ],
      "execution_count": 94,
      "outputs": [
        {
          "output_type": "stream",
          "name": "stderr",
          "text": [
            "/usr/local/lib/python3.7/dist-packages/librosa/core/audio.py:165: UserWarning: PySoundFile failed. Trying audioread instead.\n",
            "  warnings.warn(\"PySoundFile failed. Trying audioread instead.\")\n"
          ]
        },
        {
          "output_type": "execute_result",
          "data": {
            "text/plain": [
              "[{'audio': array([-0.00188464, -0.00032222,  0.00218255, ...,  0.10586312,\n",
              "          0.10618049,  0.        ], dtype=float32),\n",
              "  'filename': 'SWH-05-20101107_16k-emission_swahili_05h30_-_06h00_tu_20101107_part12'},\n",
              " {'audio': array([ 0.00954187,  0.00773276,  0.00639035, ..., -0.16317305,\n",
              "         -0.15417506,  0.        ], dtype=float32),\n",
              "  'filename': 'SWH-05-20101107_16k-emission_swahili_05h30_-_06h00_tu_20101107_part51'},\n",
              " {'audio': array([-0.01798052, -0.01670999, -0.00796949, ..., -0.07409403,\n",
              "         -0.03888915,  0.        ], dtype=float32),\n",
              "  'filename': 'SWH-05-20101107_16k-emission_swahili_05h30_-_06h00_tu_20101107_part87'},\n",
              " {'audio': array([-0.03706039, -0.06007665, -0.06362899, ..., -0.17490329,\n",
              "         -0.1191236 ,  0.        ], dtype=float32),\n",
              "  'filename': 'SWH-05-20101107_16k-emission_swahili_05h30_-_06h00_tu_20101107_part164'},\n",
              " {'audio': array([ 0.00081071,  0.00122375,  0.00155813, ..., -0.11072279,\n",
              "         -0.11065447, -0.07083929], dtype=float32),\n",
              "  'filename': 'SWH-05-20101107_16k-emission_swahili_05h30_-_06h00_tu_20101107_part3'}]"
            ]
          },
          "metadata": {},
          "execution_count": 94
        }
      ]
    },
    {
      "cell_type": "code",
      "metadata": {
        "id": "_G2NTTYe8IdX"
      },
      "source": [
        "sample_audios1 = []\n",
        "for row in rows1:\n",
        "    audio = row['audio']\n",
        "    sample_audios1.append(audio)\n",
        "sample_audios1[:5]"
      ],
      "execution_count": null,
      "outputs": []
    },
    {
      "cell_type": "code",
      "metadata": {
        "id": "yEQnV_g98LaW"
      },
      "source": [
        "meta_df = pd.read_csv('/content/drive/MyDrive/dub dataset/metadata.csv')"
      ],
      "execution_count": 95,
      "outputs": []
    },
    {
      "cell_type": "code",
      "metadata": {
        "id": "wUrBDqNB8OyB",
        "colab": {
          "base_uri": "https://localhost:8080/"
        },
        "outputId": "ba3c756e-311d-45a6-a6dd-d61db5fc9a9d"
      },
      "source": [
        "txts1 = []\n",
        "for row in rows1:\n",
        "    filename = row['filename']\n",
        "    filter = meta_df[meta_df['filename'] == filename]\n",
        "    txt = filter[['transcription']].values\n",
        "    txts1.append(txt)\n",
        "\n",
        "txts1[:5]"
      ],
      "execution_count": 96,
      "outputs": [
        {
          "output_type": "execute_result",
          "data": {
            "text/plain": [
              "[array([['mlipuko huo ambayo mpaka sasa imesambabisha watu zaidi ya mia moja thelathini na tano']],\n",
              "       dtype=object),\n",
              " array([['makala ya mtazamo wako na edwin deketela']], dtype=object),\n",
              " array([['ndio hilo hakuna lingine sio kwamba watanzania hawana elimu watanzania wana elimu kweli ya upigaji wa kura']],\n",
              "       dtype=object),\n",
              " array([['unaona halafu waangalie kasoro zimetoka wapi']], dtype=object),\n",
              " array([['habari za asubuhi ni jumapili ya tarehe saba ya mwezi novemba']],\n",
              "       dtype=object)]"
            ]
          },
          "metadata": {},
          "execution_count": 96
        }
      ]
    },
    {
      "cell_type": "code",
      "metadata": {
        "id": "BrK0QmWb8PQb",
        "colab": {
          "base_uri": "https://localhost:8080/"
        },
        "outputId": "925b707d-cd64-412f-bb5a-a7e6b1a81ba6"
      },
      "source": [
        "txts1 = np.array(txts1).reshape(-1)"
      ],
      "execution_count": 97,
      "outputs": [
        {
          "output_type": "stream",
          "name": "stderr",
          "text": [
            "/usr/local/lib/python3.7/dist-packages/ipykernel_launcher.py:1: VisibleDeprecationWarning: Creating an ndarray from ragged nested sequences (which is a list-or-tuple of lists-or-tuples-or ndarrays with different lengths or shapes) is deprecated. If you meant to do this, you must specify 'dtype=object' when creating the ndarray\n",
            "  \"\"\"Entry point for launching an IPython kernel.\n"
          ]
        }
      ]
    },
    {
      "cell_type": "code",
      "metadata": {
        "id": "KzMf7Q0F8Q1N",
        "colab": {
          "base_uri": "https://localhost:8080/"
        },
        "outputId": "dda86962-bd31-4da8-fd3f-ff0bc37548a7"
      },
      "source": [
        "txts1[:5]"
      ],
      "execution_count": 98,
      "outputs": [
        {
          "output_type": "execute_result",
          "data": {
            "text/plain": [
              "array([array([['mlipuko huo ambayo mpaka sasa imesambabisha watu zaidi ya mia moja thelathini na tano']],\n",
              "      dtype=object),\n",
              "       array([['makala ya mtazamo wako na edwin deketela']], dtype=object),\n",
              "       array([['ndio hilo hakuna lingine sio kwamba watanzania hawana elimu watanzania wana elimu kweli ya upigaji wa kura']],\n",
              "      dtype=object),\n",
              "       array([['unaona halafu waangalie kasoro zimetoka wapi']], dtype=object),\n",
              "       array([['habari za asubuhi ni jumapili ya tarehe saba ya mwezi novemba']],\n",
              "      dtype=object)], dtype=object)"
            ]
          },
          "metadata": {},
          "execution_count": 98
        }
      ]
    },
    {
      "cell_type": "code",
      "metadata": {
        "id": "AZHk-bzr8SsY"
      },
      "source": [
        "clean_txts1 = []\n",
        "alphabets = 'a b c d e f g h i j k l m n o p q r s t u v w x y z'.split()\n",
        "for txt in txts1:\n",
        "    clean_txt = []\n",
        "    for c in txt:\n",
        "        if c not in alphabets and c != ' ':\n",
        "            continue\n",
        "        clean_txt.append(c)\n",
        "    clean_txt = ''.join(clean_txt)\n",
        "    clean_txts1.append(clean_txt)"
      ],
      "execution_count": 99,
      "outputs": []
    },
    {
      "cell_type": "code",
      "metadata": {
        "id": "WQAQp7Aq8UPt",
        "colab": {
          "base_uri": "https://localhost:8080/"
        },
        "outputId": "0127b4de-53f2-417f-b23f-a4593a68cb1b"
      },
      "source": [
        "clean_txts1[:5]"
      ],
      "execution_count": 100,
      "outputs": [
        {
          "output_type": "execute_result",
          "data": {
            "text/plain": [
              "['', '', '', '', '']"
            ]
          },
          "metadata": {},
          "execution_count": 100
        }
      ]
    },
    {
      "cell_type": "code",
      "metadata": {
        "id": "GzsA2aN_8WUV",
        "colab": {
          "base_uri": "https://localhost:8080/"
        },
        "outputId": "24880e88-1f35-4f74-e5b7-2a09ce3f068d"
      },
      "source": [
        "'' in clean_txts1"
      ],
      "execution_count": 101,
      "outputs": [
        {
          "output_type": "execute_result",
          "data": {
            "text/plain": [
              "True"
            ]
          },
          "metadata": {},
          "execution_count": 101
        }
      ]
    },
    {
      "cell_type": "code",
      "metadata": {
        "id": "NRzM53wi8YFy"
      },
      "source": [
        "dg1 = DataGenerator(sample_audios1[:5], clean_txts1[:5],5)"
      ],
      "execution_count": 102,
      "outputs": []
    },
    {
      "cell_type": "code",
      "metadata": {
        "id": "Vau5kgpR8al6",
        "colab": {
          "base_uri": "https://localhost:8080/",
          "height": 35
        },
        "outputId": "04c57053-af26-4cdb-a0a0-e26095f27d51"
      },
      "source": [
        "predict(dg1, 1)"
      ],
      "execution_count": 103,
      "outputs": [
        {
          "output_type": "execute_result",
          "data": {
            "application/vnd.google.colaboratory.intrinsic+json": {
              "type": "string"
            },
            "text/plain": [
              "'ni pokoa huo ambaompa kasasa umesurabisha ya wakti zaidi ya mea moja na sheasinatano'"
            ]
          },
          "metadata": {},
          "execution_count": 103
        }
      ]
    },
    {
      "cell_type": "markdown",
      "metadata": {
        "id": "eYpSha0TUGYZ"
      },
      "source": [
        "# Translation"
      ]
    },
    {
      "cell_type": "code",
      "metadata": {
        "id": "e1KUEfrgmA-7"
      },
      "source": [
        "import os\n",
        "from google.cloud import translate_v2 as translate"
      ],
      "execution_count": 104,
      "outputs": []
    },
    {
      "cell_type": "code",
      "metadata": {
        "id": "CMGrT8uFmFRD"
      },
      "source": [
        "os.environ['GOOGLE_APPLICATION_CREDENTIALS'] = '/content/drive/MyDrive/dub dataset/neon-idiom-329606-c374cf0ef0e7.json'"
      ],
      "execution_count": 105,
      "outputs": []
    },
    {
      "cell_type": "code",
      "metadata": {
        "id": "wbVWTBoHmM_T",
        "colab": {
          "base_uri": "https://localhost:8080/"
        },
        "outputId": "d3ef1185-603c-45b1-9162-6aa4c1f7af04"
      },
      "source": [
        "translate_client = translate.Client()\n",
        "output=translate_client.translate(\n",
        "    predict(dg1, 1),\n",
        "    target_language='en'\n",
        ")\n",
        "print(output)\n",
        "translated_text=output.get('translatedText')"
      ],
      "execution_count": 106,
      "outputs": [
        {
          "output_type": "stream",
          "name": "stdout",
          "text": [
            "{'translatedText': 'it is the same penguin that has given him the most recent time of more than one and a half times', 'detectedSourceLanguage': 'sw', 'input': 'ni pokoa huo ambaompa kasasa umesurabisha ya wakti zaidi ya mea moja na sheasinatano'}\n"
          ]
        }
      ]
    },
    {
      "cell_type": "code",
      "metadata": {
        "colab": {
          "base_uri": "https://localhost:8080/"
        },
        "id": "BjtaHz0uL_Ek",
        "outputId": "80aa3788-595f-4a53-815d-aa0906f38cb4"
      },
      "source": [
        "print(translated_text)"
      ],
      "execution_count": 107,
      "outputs": [
        {
          "output_type": "stream",
          "name": "stdout",
          "text": [
            "it is the same penguin that has given him the most recent time of more than one and a half times\n"
          ]
        }
      ]
    },
    {
      "cell_type": "markdown",
      "metadata": {
        "id": "hjj-AlfKUPoK"
      },
      "source": [
        "# Text to speech"
      ]
    },
    {
      "cell_type": "code",
      "metadata": {
        "id": "q6MyyZdrtAnY",
        "colab": {
          "base_uri": "https://localhost:8080/"
        },
        "outputId": "fd7b6563-ab00-4485-d879-1899a940f82f"
      },
      "source": [
        "pip install google-cloud-texttospeech"
      ],
      "execution_count": 108,
      "outputs": [
        {
          "output_type": "stream",
          "name": "stdout",
          "text": [
            "Requirement already satisfied: google-cloud-texttospeech in /usr/local/lib/python3.7/dist-packages (2.9.0)\n",
            "Requirement already satisfied: proto-plus>=1.4.0 in /usr/local/lib/python3.7/dist-packages (from google-cloud-texttospeech) (1.19.8)\n",
            "Requirement already satisfied: google-api-core[grpc]<3.0.0dev,>=1.28.0 in /usr/local/lib/python3.7/dist-packages (from google-cloud-texttospeech) (2.2.2)\n",
            "Requirement already satisfied: setuptools>=40.3.0 in /usr/local/lib/python3.7/dist-packages (from google-api-core[grpc]<3.0.0dev,>=1.28.0->google-cloud-texttospeech) (57.4.0)\n",
            "Requirement already satisfied: requests<3.0.0dev,>=2.18.0 in /usr/local/lib/python3.7/dist-packages (from google-api-core[grpc]<3.0.0dev,>=1.28.0->google-cloud-texttospeech) (2.23.0)\n",
            "Requirement already satisfied: googleapis-common-protos<2.0dev,>=1.52.0 in /usr/local/lib/python3.7/dist-packages (from google-api-core[grpc]<3.0.0dev,>=1.28.0->google-cloud-texttospeech) (1.53.0)\n",
            "Requirement already satisfied: google-auth<3.0dev,>=1.25.0 in /usr/local/lib/python3.7/dist-packages (from google-api-core[grpc]<3.0.0dev,>=1.28.0->google-cloud-texttospeech) (1.35.0)\n",
            "Requirement already satisfied: protobuf>=3.12.0 in /usr/local/lib/python3.7/dist-packages (from google-api-core[grpc]<3.0.0dev,>=1.28.0->google-cloud-texttospeech) (3.19.1)\n",
            "Requirement already satisfied: grpcio-status<2.0dev,>=1.33.2 in /usr/local/lib/python3.7/dist-packages (from google-api-core[grpc]<3.0.0dev,>=1.28.0->google-cloud-texttospeech) (1.42.0)\n",
            "Requirement already satisfied: grpcio<2.0dev,>=1.33.2 in /usr/local/lib/python3.7/dist-packages (from google-api-core[grpc]<3.0.0dev,>=1.28.0->google-cloud-texttospeech) (1.42.0)\n",
            "Requirement already satisfied: pyasn1-modules>=0.2.1 in /usr/local/lib/python3.7/dist-packages (from google-auth<3.0dev,>=1.25.0->google-api-core[grpc]<3.0.0dev,>=1.28.0->google-cloud-texttospeech) (0.2.8)\n",
            "Requirement already satisfied: six>=1.9.0 in /usr/local/lib/python3.7/dist-packages (from google-auth<3.0dev,>=1.25.0->google-api-core[grpc]<3.0.0dev,>=1.28.0->google-cloud-texttospeech) (1.15.0)\n",
            "Requirement already satisfied: rsa<5,>=3.1.4 in /usr/local/lib/python3.7/dist-packages (from google-auth<3.0dev,>=1.25.0->google-api-core[grpc]<3.0.0dev,>=1.28.0->google-cloud-texttospeech) (4.7.2)\n",
            "Requirement already satisfied: cachetools<5.0,>=2.0.0 in /usr/local/lib/python3.7/dist-packages (from google-auth<3.0dev,>=1.25.0->google-api-core[grpc]<3.0.0dev,>=1.28.0->google-cloud-texttospeech) (4.2.4)\n",
            "Requirement already satisfied: pyasn1<0.5.0,>=0.4.6 in /usr/local/lib/python3.7/dist-packages (from pyasn1-modules>=0.2.1->google-auth<3.0dev,>=1.25.0->google-api-core[grpc]<3.0.0dev,>=1.28.0->google-cloud-texttospeech) (0.4.8)\n",
            "Requirement already satisfied: chardet<4,>=3.0.2 in /usr/local/lib/python3.7/dist-packages (from requests<3.0.0dev,>=2.18.0->google-api-core[grpc]<3.0.0dev,>=1.28.0->google-cloud-texttospeech) (3.0.4)\n",
            "Requirement already satisfied: idna<3,>=2.5 in /usr/local/lib/python3.7/dist-packages (from requests<3.0.0dev,>=2.18.0->google-api-core[grpc]<3.0.0dev,>=1.28.0->google-cloud-texttospeech) (2.10)\n",
            "Requirement already satisfied: urllib3!=1.25.0,!=1.25.1,<1.26,>=1.21.1 in /usr/local/lib/python3.7/dist-packages (from requests<3.0.0dev,>=2.18.0->google-api-core[grpc]<3.0.0dev,>=1.28.0->google-cloud-texttospeech) (1.24.3)\n",
            "Requirement already satisfied: certifi>=2017.4.17 in /usr/local/lib/python3.7/dist-packages (from requests<3.0.0dev,>=2.18.0->google-api-core[grpc]<3.0.0dev,>=1.28.0->google-cloud-texttospeech) (2021.10.8)\n"
          ]
        }
      ]
    },
    {
      "cell_type": "code",
      "metadata": {
        "id": "dv5kkWEtmS_X"
      },
      "source": [
        "from google.cloud import texttospeech"
      ],
      "execution_count": 109,
      "outputs": []
    },
    {
      "cell_type": "code",
      "metadata": {
        "id": "-cWyctDpmTsj",
        "colab": {
          "base_uri": "https://localhost:8080/"
        },
        "outputId": "de14ad20-b10f-4062-86c5-7d7908e9a83b"
      },
      "source": [
        "tts_client=texttospeech.TextToSpeechClient()\n",
        "synthesis_input=texttospeech.SynthesisInput(text=translated_text)\n",
        "voice=texttospeech.VoiceSelectionParams(\n",
        "    language_code=\"en-KE\", ssml_gender=texttospeech.SsmlVoiceGender.NEUTRAL\n",
        ")\n",
        "audio_config=texttospeech.AudioConfig(\n",
        "    audio_encoding=texttospeech.AudioEncoding.MP3\n",
        ")\n",
        "response =tts_client.synthesize_speech(\n",
        "    input=synthesis_input,\n",
        "    voice=voice,\n",
        "    audio_config=audio_config\n",
        ")\n",
        "\n",
        "with open (\"output.mp3\",\"wb\") as out:\n",
        "    out.write(response.audio_content)\n",
        "    print('Audio content written to file \"output.mp3\"')\n",
        "    "
      ],
      "execution_count": 110,
      "outputs": [
        {
          "output_type": "stream",
          "name": "stdout",
          "text": [
            "Audio content written to file \"output.mp3\"\n"
          ]
        }
      ]
    },
    {
      "cell_type": "code",
      "metadata": {
        "id": "BCIiV1cNjFwB",
        "colab": {
          "base_uri": "https://localhost:8080/",
          "height": 75
        },
        "outputId": "cdede1e0-9809-4a68-f252-0a18988eb85a"
      },
      "source": [
        "import IPython\n",
        "IPython.display.Audio('output.mp3')"
      ],
      "execution_count": 111,
      "outputs": [
        {
          "output_type": "execute_result",
          "data": {
            "text/html": [
              "\n",
              "                <audio controls=\"controls\" >\n",
              "                    <source src=\"data:audio/mpeg;base64,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\" type=\"audio/mpeg\" />\n",
              "                    Your browser does not support the audio element.\n",
              "                </audio>\n",
              "              "
            ],
            "text/plain": [
              "<IPython.lib.display.Audio object>"
            ]
          },
          "metadata": {},
          "execution_count": 111
        }
      ]
    }
  ]
}