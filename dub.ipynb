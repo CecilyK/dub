{
  "nbformat": 4,
  "nbformat_minor": 0,
  "metadata": {
    "colab": {
      "name": "dub.ipynb",
      "provenance": [],
      "collapsed_sections": [
        "nUzD3rOMLGoh",
        "JC34JeCkO4X6",
        "reQsClloeTxu",
        "OJleTY4jet56",
        "hjj-AlfKUPoK"
      ],
      "include_colab_link": true
    },
    "kernelspec": {
      "display_name": "Python 3",
      "name": "python3"
    },
    "language_info": {
      "name": "python"
    },
    "accelerator": "GPU"
  },
  "cells": [
    {
      "cell_type": "markdown",
      "metadata": {
        "id": "view-in-github",
        "colab_type": "text"
      },
      "source": [
        "<a href=\"https://colab.research.google.com/github/CecilyK/dub/blob/main/dub.ipynb\" target=\"_parent\"><img src=\"https://colab.research.google.com/assets/colab-badge.svg\" alt=\"Open In Colab\"/></a>"
      ]
    },
    {
      "cell_type": "code",
      "metadata": {
        "colab": {
          "base_uri": "https://localhost:8080/"
        },
        "id": "zQl4xZPtEogC",
        "outputId": "00ca6e10-8e37-4223-86cd-8434e362f027"
      },
      "source": [
        "pip install --upgrade google-cloud-texttospeech"
      ],
      "execution_count": 1,
      "outputs": [
        {
          "output_type": "stream",
          "name": "stdout",
          "text": [
            "Requirement already satisfied: google-cloud-texttospeech in /usr/local/lib/python3.7/dist-packages (2.9.0)\n",
            "Requirement already satisfied: google-api-core[grpc]<3.0.0dev,>=1.28.0 in /usr/local/lib/python3.7/dist-packages (from google-cloud-texttospeech) (2.2.2)\n",
            "Requirement already satisfied: proto-plus>=1.4.0 in /usr/local/lib/python3.7/dist-packages (from google-cloud-texttospeech) (1.19.8)\n",
            "Requirement already satisfied: setuptools>=40.3.0 in /usr/local/lib/python3.7/dist-packages (from google-api-core[grpc]<3.0.0dev,>=1.28.0->google-cloud-texttospeech) (57.4.0)\n",
            "Requirement already satisfied: protobuf>=3.12.0 in /usr/local/lib/python3.7/dist-packages (from google-api-core[grpc]<3.0.0dev,>=1.28.0->google-cloud-texttospeech) (3.19.1)\n",
            "Requirement already satisfied: google-auth<3.0dev,>=1.25.0 in /usr/local/lib/python3.7/dist-packages (from google-api-core[grpc]<3.0.0dev,>=1.28.0->google-cloud-texttospeech) (1.35.0)\n",
            "Requirement already satisfied: googleapis-common-protos<2.0dev,>=1.52.0 in /usr/local/lib/python3.7/dist-packages (from google-api-core[grpc]<3.0.0dev,>=1.28.0->google-cloud-texttospeech) (1.53.0)\n",
            "Requirement already satisfied: requests<3.0.0dev,>=2.18.0 in /usr/local/lib/python3.7/dist-packages (from google-api-core[grpc]<3.0.0dev,>=1.28.0->google-cloud-texttospeech) (2.23.0)\n",
            "Requirement already satisfied: grpcio<2.0dev,>=1.33.2 in /usr/local/lib/python3.7/dist-packages (from google-api-core[grpc]<3.0.0dev,>=1.28.0->google-cloud-texttospeech) (1.42.0)\n",
            "Requirement already satisfied: grpcio-status<2.0dev,>=1.33.2 in /usr/local/lib/python3.7/dist-packages (from google-api-core[grpc]<3.0.0dev,>=1.28.0->google-cloud-texttospeech) (1.42.0)\n",
            "Requirement already satisfied: cachetools<5.0,>=2.0.0 in /usr/local/lib/python3.7/dist-packages (from google-auth<3.0dev,>=1.25.0->google-api-core[grpc]<3.0.0dev,>=1.28.0->google-cloud-texttospeech) (4.2.4)\n",
            "Requirement already satisfied: pyasn1-modules>=0.2.1 in /usr/local/lib/python3.7/dist-packages (from google-auth<3.0dev,>=1.25.0->google-api-core[grpc]<3.0.0dev,>=1.28.0->google-cloud-texttospeech) (0.2.8)\n",
            "Requirement already satisfied: rsa<5,>=3.1.4 in /usr/local/lib/python3.7/dist-packages (from google-auth<3.0dev,>=1.25.0->google-api-core[grpc]<3.0.0dev,>=1.28.0->google-cloud-texttospeech) (4.7.2)\n",
            "Requirement already satisfied: six>=1.9.0 in /usr/local/lib/python3.7/dist-packages (from google-auth<3.0dev,>=1.25.0->google-api-core[grpc]<3.0.0dev,>=1.28.0->google-cloud-texttospeech) (1.15.0)\n",
            "Requirement already satisfied: pyasn1<0.5.0,>=0.4.6 in /usr/local/lib/python3.7/dist-packages (from pyasn1-modules>=0.2.1->google-auth<3.0dev,>=1.25.0->google-api-core[grpc]<3.0.0dev,>=1.28.0->google-cloud-texttospeech) (0.4.8)\n",
            "Requirement already satisfied: certifi>=2017.4.17 in /usr/local/lib/python3.7/dist-packages (from requests<3.0.0dev,>=2.18.0->google-api-core[grpc]<3.0.0dev,>=1.28.0->google-cloud-texttospeech) (2021.10.8)\n",
            "Requirement already satisfied: idna<3,>=2.5 in /usr/local/lib/python3.7/dist-packages (from requests<3.0.0dev,>=2.18.0->google-api-core[grpc]<3.0.0dev,>=1.28.0->google-cloud-texttospeech) (2.10)\n",
            "Requirement already satisfied: urllib3!=1.25.0,!=1.25.1,<1.26,>=1.21.1 in /usr/local/lib/python3.7/dist-packages (from requests<3.0.0dev,>=2.18.0->google-api-core[grpc]<3.0.0dev,>=1.28.0->google-cloud-texttospeech) (1.24.3)\n",
            "Requirement already satisfied: chardet<4,>=3.0.2 in /usr/local/lib/python3.7/dist-packages (from requests<3.0.0dev,>=2.18.0->google-api-core[grpc]<3.0.0dev,>=1.28.0->google-cloud-texttospeech) (3.0.4)\n"
          ]
        }
      ]
    },
    {
      "cell_type": "code",
      "metadata": {
        "id": "OSaLzm0hT0Ui"
      },
      "source": [
        "import os\n",
        "import librosa\n",
        "import pandas as pd\n",
        "import warnings\n",
        "warnings.filterwarnings('ignore', category=DeprecationWarning)\n",
        "warnings.filterwarnings('ignore', category=FutureWarning)\n",
        "\n",
        "from IPython.display import Audio\n",
        "\n",
        "import librosa.display\n",
        "import matplotlib.pyplot as plt\n",
        "import numpy as np\n",
        "import tensorflow as tf\n",
        "\n",
        "from tensorflow.keras.models import Model, Sequential\n",
        "from tensorflow.keras.layers import * \n",
        "from tensorflow.keras.callbacks import Callback, EarlyStopping, TensorBoard\n",
        "from tensorflow.keras.preprocessing.sequence import pad_sequences\n",
        "from tensorflow.keras.optimizers import SGD, Adam, RMSprop\n",
        "from tensorflow.keras import backend as K\n",
        "import pickle"
      ],
      "execution_count": 2,
      "outputs": []
    },
    {
      "cell_type": "markdown",
      "metadata": {
        "id": "nUzD3rOMLGoh"
      },
      "source": [
        "#Inputs"
      ]
    },
    {
      "cell_type": "code",
      "metadata": {
        "id": "OlnwyOxfSQmF",
        "colab": {
          "base_uri": "https://localhost:8080/"
        },
        "outputId": "876302e7-d332-48fa-eb29-51e4848108ce"
      },
      "source": [
        "from google.colab import drive\n",
        "drive.mount('/content/drive')"
      ],
      "execution_count": 3,
      "outputs": [
        {
          "output_type": "stream",
          "name": "stdout",
          "text": [
            "Mounted at /content/drive\n"
          ]
        }
      ]
    },
    {
      "cell_type": "markdown",
      "metadata": {
        "id": "k3XC49HJLQ5u"
      },
      "source": [
        "Load audios"
      ]
    },
    {
      "cell_type": "code",
      "metadata": {
        "id": "d0LOT45lLPu2"
      },
      "source": [
        "os.chdir(\"/content/drive/MyDrive/dub dataset/SWAHILI/data/train/audios\")"
      ],
      "execution_count": 4,
      "outputs": []
    },
    {
      "cell_type": "code",
      "metadata": {
        "id": "hDzvwBEDLfXU",
        "colab": {
          "base_uri": "https://localhost:8080/"
        },
        "outputId": "ff3f293d-ef2e-403f-a2a2-2237c47d611b"
      },
      "source": [
        "rows = []\n",
        "parent_dir = \"./\"\n",
        "files = os.listdir(parent_dir)\n",
        "for f in files[:1100]:\n",
        "    audio, fs = librosa.load(f\"{f}\")\n",
        "    filename = f.split('.wav')[0]\n",
        "    row = {'filename': filename, 'audio': audio}\n",
        "    rows.append(row)\n",
        "rows[:6]"
      ],
      "execution_count": 5,
      "outputs": [
        {
          "output_type": "execute_result",
          "data": {
            "text/plain": [
              "[{'audio': array([-0.00518634, -0.00370944,  0.00051116, ..., -0.11442161,\n",
              "         -0.06679546,  0.        ], dtype=float32),\n",
              "  'filename': 'SWH-15-20110310_16k-emission_swahili_15h00_-_16h00_tu_20110310_part442'},\n",
              " {'audio': array([0.00203946, 0.00326259, 0.00456793, ..., 0.17463283, 0.20333299,\n",
              "         0.13075171], dtype=float32),\n",
              "  'filename': 'SWH-15-20101103_emission_swahili_15h00_-_16h00_tu_20101103_part60'},\n",
              " {'audio': array([-2.5505594e-03, -1.6648067e-03,  1.1030279e-05, ...,\n",
              "         -1.3036871e-01, -1.7237680e-01,  0.0000000e+00], dtype=float32),\n",
              "  'filename': 'SWH-15-20101113_16k-emission_swahili_15h00_-_16h00_tu_20101113_part379'},\n",
              " {'audio': array([0.12538545, 0.1412388 , 0.12100906, ..., 0.11646897, 0.13963343,\n",
              "         0.09413067], dtype=float32),\n",
              "  'filename': 'SWH-15-20101130_16k-emission_swahili_15h00_-_16h00_tu_20101130_part287'},\n",
              " {'audio': array([-0.0002651 ,  0.00076587,  0.00149441, ..., -0.17118506,\n",
              "         -0.16012862,  0.        ], dtype=float32),\n",
              "  'filename': 'SWH-15-20110303_16k-emission_swahili_15h00_-_16h00_tu_20110303_part7'},\n",
              " {'audio': array([ 0.00156698,  0.00116012, -0.0003897 , ..., -0.03286014,\n",
              "         -0.04939909, -0.03472592], dtype=float32),\n",
              "  'filename': 'SWH-05-20110215_16k-emission_swahili_05h30_-_06h00_tu_20110215_part55'}]"
            ]
          },
          "metadata": {},
          "execution_count": 5
        }
      ]
    },
    {
      "cell_type": "code",
      "metadata": {
        "id": "6j-64lACMJS0",
        "colab": {
          "base_uri": "https://localhost:8080/"
        },
        "outputId": "80f4c601-face-4017-d2b6-c32d7a5b06a3"
      },
      "source": [
        "len(files)"
      ],
      "execution_count": 6,
      "outputs": [
        {
          "output_type": "execute_result",
          "data": {
            "text/plain": [
              "10180"
            ]
          },
          "metadata": {},
          "execution_count": 6
        }
      ]
    },
    {
      "cell_type": "code",
      "metadata": {
        "id": "RSLBtf33MSOI",
        "colab": {
          "base_uri": "https://localhost:8080/"
        },
        "outputId": "08fc403a-2bf5-4966-ccf6-bfb6c0a0c12f"
      },
      "source": [
        "sample_audios = []\n",
        "for row in rows:\n",
        "    audio = row['audio']\n",
        "    sample_audios.append(audio)\n",
        "sample_audios[:5]"
      ],
      "execution_count": 7,
      "outputs": [
        {
          "output_type": "execute_result",
          "data": {
            "text/plain": [
              "[array([-0.00518634, -0.00370944,  0.00051116, ..., -0.11442161,\n",
              "        -0.06679546,  0.        ], dtype=float32),\n",
              " array([0.00203946, 0.00326259, 0.00456793, ..., 0.17463283, 0.20333299,\n",
              "        0.13075171], dtype=float32),\n",
              " array([-2.5505594e-03, -1.6648067e-03,  1.1030279e-05, ...,\n",
              "        -1.3036871e-01, -1.7237680e-01,  0.0000000e+00], dtype=float32),\n",
              " array([0.12538545, 0.1412388 , 0.12100906, ..., 0.11646897, 0.13963343,\n",
              "        0.09413067], dtype=float32),\n",
              " array([-0.0002651 ,  0.00076587,  0.00149441, ..., -0.17118506,\n",
              "        -0.16012862,  0.        ], dtype=float32)]"
            ]
          },
          "metadata": {},
          "execution_count": 7
        }
      ]
    },
    {
      "cell_type": "markdown",
      "metadata": {
        "id": "7LrzbMWyK_xn"
      },
      "source": [
        "Csv file that contains transcriptions"
      ]
    },
    {
      "cell_type": "code",
      "metadata": {
        "id": "hxNo_9KVTq5U"
      },
      "source": [
        "data_df=pd.read_csv('/content/drive/MyDrive/dub dataset/metadata.csv')\n"
      ],
      "execution_count": 8,
      "outputs": []
    },
    {
      "cell_type": "code",
      "metadata": {
        "id": "XDJJRxiSWQck",
        "colab": {
          "base_uri": "https://localhost:8080/",
          "height": 0
        },
        "outputId": "1ab48a40-f2e0-434d-ccec-f6f3ea0d7156"
      },
      "source": [
        "data_df.head()"
      ],
      "execution_count": 9,
      "outputs": [
        {
          "output_type": "execute_result",
          "data": {
            "text/html": [
              "<div>\n",
              "<style scoped>\n",
              "    .dataframe tbody tr th:only-of-type {\n",
              "        vertical-align: middle;\n",
              "    }\n",
              "\n",
              "    .dataframe tbody tr th {\n",
              "        vertical-align: top;\n",
              "    }\n",
              "\n",
              "    .dataframe thead th {\n",
              "        text-align: right;\n",
              "    }\n",
              "</style>\n",
              "<table border=\"1\" class=\"dataframe\">\n",
              "  <thead>\n",
              "    <tr style=\"text-align: right;\">\n",
              "      <th></th>\n",
              "      <th>filename</th>\n",
              "      <th>transcription</th>\n",
              "      <th>filepath</th>\n",
              "      <th>sample_rate</th>\n",
              "      <th>duration</th>\n",
              "    </tr>\n",
              "  </thead>\n",
              "  <tbody>\n",
              "    <tr>\n",
              "      <th>0</th>\n",
              "      <td>SWH-05-20101106_16k-emission_swahili_05h30_-_0...</td>\n",
              "      <td>rais wa tanzania jakaya mrisho kikwete</td>\n",
              "      <td>SWH-05-20101106/SWH-05-20101106_16k-emission_s...</td>\n",
              "      <td>16000</td>\n",
              "      <td>3.14</td>\n",
              "    </tr>\n",
              "    <tr>\n",
              "      <th>1</th>\n",
              "      <td>SWH-05-20101106_16k-emission_swahili_05h30_-_0...</td>\n",
              "      <td>yanayo andaliwa nami pendo pondo idhaa ya kisw...</td>\n",
              "      <td>SWH-05-20101106/SWH-05-20101106_16k-emission_s...</td>\n",
              "      <td>16000</td>\n",
              "      <td>3.10</td>\n",
              "    </tr>\n",
              "    <tr>\n",
              "      <th>2</th>\n",
              "      <td>SWH-05-20101106_16k-emission_swahili_05h30_-_0...</td>\n",
              "      <td>inayokutangazia moja kwa moja kutoka jijini da...</td>\n",
              "      <td>SWH-05-20101106/SWH-05-20101106_16k-emission_s...</td>\n",
              "      <td>16000</td>\n",
              "      <td>3.65</td>\n",
              "    </tr>\n",
              "    <tr>\n",
              "      <th>3</th>\n",
              "      <td>SWH-05-20101106_16k-emission_swahili_05h30_-_0...</td>\n",
              "      <td>juma hili bara la afrika limeshuhudia raia wa ...</td>\n",
              "      <td>SWH-05-20101106/SWH-05-20101106_16k-emission_s...</td>\n",
              "      <td>16000</td>\n",
              "      <td>3.90</td>\n",
              "    </tr>\n",
              "    <tr>\n",
              "      <th>4</th>\n",
              "      <td>SWH-05-20101106_16k-emission_swahili_05h30_-_0...</td>\n",
              "      <td>wakipiga kura ya maoni ilikufanya mabadiliko ya</td>\n",
              "      <td>SWH-05-20101106/SWH-05-20101106_16k-emission_s...</td>\n",
              "      <td>16000</td>\n",
              "      <td>2.94</td>\n",
              "    </tr>\n",
              "  </tbody>\n",
              "</table>\n",
              "</div>"
            ],
            "text/plain": [
              "                                            filename  ... duration\n",
              "0  SWH-05-20101106_16k-emission_swahili_05h30_-_0...  ...     3.14\n",
              "1  SWH-05-20101106_16k-emission_swahili_05h30_-_0...  ...     3.10\n",
              "2  SWH-05-20101106_16k-emission_swahili_05h30_-_0...  ...     3.65\n",
              "3  SWH-05-20101106_16k-emission_swahili_05h30_-_0...  ...     3.90\n",
              "4  SWH-05-20101106_16k-emission_swahili_05h30_-_0...  ...     2.94\n",
              "\n",
              "[5 rows x 5 columns]"
            ]
          },
          "metadata": {},
          "execution_count": 9
        }
      ]
    },
    {
      "cell_type": "code",
      "metadata": {
        "id": "E0viwrEIQ96G",
        "colab": {
          "base_uri": "https://localhost:8080/"
        },
        "outputId": "2b3c68b6-ecec-48bb-f14a-7d7789f7383e"
      },
      "source": [
        "txts = []\n",
        "for row in rows:\n",
        "    filename = row['filename']\n",
        "    filter = data_df[data_df['filename'] == filename]\n",
        "    txt = filter[['transcription']].values\n",
        "    txts.append(txt)\n",
        "\n",
        "txts[:5]"
      ],
      "execution_count": 10,
      "outputs": [
        {
          "output_type": "execute_result",
          "data": {
            "text/plain": [
              "[array([['moyo unapata matatizo unaweza ukapata kwa matatizo kama ya']],\n",
              "       dtype=object),\n",
              " array([['inawezekana kwamba watu wamekerwa na hivi vitendo vya mauaji']],\n",
              "       dtype=object),\n",
              " array([['mambo ya kikatili hataruhusiwa kuania nyadhifa yoyote']],\n",
              "       dtype=object),\n",
              " array([['au bidhaa gani wanaweza wakauza nje ya nchi']], dtype=object),\n",
              " array([['kwa kuhusika kwenye mauaji ya raia wanaoshinikiza kuondolewa madarakani kwa utawala wa kanali muhamar gadaffi']],\n",
              "       dtype=object)]"
            ]
          },
          "metadata": {},
          "execution_count": 10
        }
      ]
    },
    {
      "cell_type": "code",
      "metadata": {
        "id": "gjka6ZRB4lnQ"
      },
      "source": [
        "txts = np.array(txts).reshape(-1)"
      ],
      "execution_count": 11,
      "outputs": []
    },
    {
      "cell_type": "code",
      "metadata": {
        "id": "VstkomUO4oEo",
        "colab": {
          "base_uri": "https://localhost:8080/"
        },
        "outputId": "1ee08551-3c90-43d0-cc41-d0ab91b894e3"
      },
      "source": [
        "txts[:5]"
      ],
      "execution_count": 12,
      "outputs": [
        {
          "output_type": "execute_result",
          "data": {
            "text/plain": [
              "array(['moyo unapata matatizo unaweza ukapata kwa matatizo kama ya',\n",
              "       'inawezekana kwamba watu wamekerwa na hivi vitendo vya mauaji',\n",
              "       'mambo ya kikatili hataruhusiwa kuania nyadhifa yoyote',\n",
              "       'au bidhaa gani wanaweza wakauza nje ya nchi',\n",
              "       'kwa kuhusika kwenye mauaji ya raia wanaoshinikiza kuondolewa madarakani kwa utawala wa kanali muhamar gadaffi'],\n",
              "      dtype=object)"
            ]
          },
          "metadata": {},
          "execution_count": 12
        }
      ]
    },
    {
      "cell_type": "code",
      "metadata": {
        "id": "CYq-f7X44qvf"
      },
      "source": [
        "clean_txts = []\n",
        "alphabets = 'a b c d e f g h i j k l m n o p q r s t u v w x y z'.split()\n",
        "for txt in txts:\n",
        "    clean_txt = []\n",
        "    for c in txt:\n",
        "        if c not in alphabets and c != ' ':\n",
        "            continue\n",
        "        clean_txt.append(c)\n",
        "    clean_txt = ''.join(clean_txt)\n",
        "    clean_txts.append(clean_txt)"
      ],
      "execution_count": 13,
      "outputs": []
    },
    {
      "cell_type": "code",
      "metadata": {
        "id": "Ch13U-Vv4uIr",
        "colab": {
          "base_uri": "https://localhost:8080/"
        },
        "outputId": "e58f5083-503f-4655-c4f3-c0324c55e6c2"
      },
      "source": [
        "clean_txts[:5]"
      ],
      "execution_count": 14,
      "outputs": [
        {
          "output_type": "execute_result",
          "data": {
            "text/plain": [
              "['moyo unapata matatizo unaweza ukapata kwa matatizo kama ya',\n",
              " 'inawezekana kwamba watu wamekerwa na hivi vitendo vya mauaji',\n",
              " 'mambo ya kikatili hataruhusiwa kuania nyadhifa yoyote',\n",
              " 'au bidhaa gani wanaweza wakauza nje ya nchi',\n",
              " 'kwa kuhusika kwenye mauaji ya raia wanaoshinikiza kuondolewa madarakani kwa utawala wa kanali muhamar gadaffi']"
            ]
          },
          "metadata": {},
          "execution_count": 14
        }
      ]
    },
    {
      "cell_type": "code",
      "metadata": {
        "id": "seMjkuPb4wT0",
        "colab": {
          "base_uri": "https://localhost:8080/"
        },
        "outputId": "249c0b26-ff1d-4eac-fa15-7db3fb04f2ab"
      },
      "source": [
        "'' in clean_txts"
      ],
      "execution_count": 15,
      "outputs": [
        {
          "output_type": "execute_result",
          "data": {
            "text/plain": [
              "True"
            ]
          },
          "metadata": {},
          "execution_count": 15
        }
      ]
    },
    {
      "cell_type": "code",
      "metadata": {
        "id": "4xxbBENA5U-x",
        "colab": {
          "base_uri": "https://localhost:8080/",
          "height": 0
        },
        "outputId": "44a36d63-0a4e-406e-94d6-f23d1fdfd9c2"
      },
      "source": [
        "df = pd.DataFrame(clean_txts)\n",
        "df.columns = ['texts']\n",
        "df.head()"
      ],
      "execution_count": 16,
      "outputs": [
        {
          "output_type": "execute_result",
          "data": {
            "text/html": [
              "<div>\n",
              "<style scoped>\n",
              "    .dataframe tbody tr th:only-of-type {\n",
              "        vertical-align: middle;\n",
              "    }\n",
              "\n",
              "    .dataframe tbody tr th {\n",
              "        vertical-align: top;\n",
              "    }\n",
              "\n",
              "    .dataframe thead th {\n",
              "        text-align: right;\n",
              "    }\n",
              "</style>\n",
              "<table border=\"1\" class=\"dataframe\">\n",
              "  <thead>\n",
              "    <tr style=\"text-align: right;\">\n",
              "      <th></th>\n",
              "      <th>texts</th>\n",
              "    </tr>\n",
              "  </thead>\n",
              "  <tbody>\n",
              "    <tr>\n",
              "      <th>0</th>\n",
              "      <td>moyo unapata matatizo unaweza ukapata kwa mata...</td>\n",
              "    </tr>\n",
              "    <tr>\n",
              "      <th>1</th>\n",
              "      <td>inawezekana kwamba watu wamekerwa na hivi vite...</td>\n",
              "    </tr>\n",
              "    <tr>\n",
              "      <th>2</th>\n",
              "      <td>mambo ya kikatili hataruhusiwa kuania nyadhifa...</td>\n",
              "    </tr>\n",
              "    <tr>\n",
              "      <th>3</th>\n",
              "      <td>au bidhaa gani wanaweza wakauza nje ya nchi</td>\n",
              "    </tr>\n",
              "    <tr>\n",
              "      <th>4</th>\n",
              "      <td>kwa kuhusika kwenye mauaji ya raia wanaoshinik...</td>\n",
              "    </tr>\n",
              "  </tbody>\n",
              "</table>\n",
              "</div>"
            ],
            "text/plain": [
              "                                               texts\n",
              "0  moyo unapata matatizo unaweza ukapata kwa mata...\n",
              "1  inawezekana kwamba watu wamekerwa na hivi vite...\n",
              "2  mambo ya kikatili hataruhusiwa kuania nyadhifa...\n",
              "3        au bidhaa gani wanaweza wakauza nje ya nchi\n",
              "4  kwa kuhusika kwenye mauaji ya raia wanaoshinik..."
            ]
          },
          "metadata": {},
          "execution_count": 16
        }
      ]
    },
    {
      "cell_type": "code",
      "metadata": {
        "id": "viWJRJbs5YVF",
        "colab": {
          "base_uri": "https://localhost:8080/"
        },
        "outputId": "9a583ca6-bbb1-40ca-de48-3c9250886bfc"
      },
      "source": [
        "idxs = df[df['texts'] == ''].index\n",
        "idxs"
      ],
      "execution_count": 17,
      "outputs": [
        {
          "output_type": "execute_result",
          "data": {
            "text/plain": [
              "Int64Index([123, 433, 462, 552], dtype='int64')"
            ]
          },
          "metadata": {},
          "execution_count": 17
        }
      ]
    },
    {
      "cell_type": "code",
      "metadata": {
        "id": "BEW-ZmtJQ0kS"
      },
      "source": [
        "del clean_txts[idxs[-1]]\n",
        "del clean_txts[idxs[-2]]\n",
        "del clean_txts[idxs[-3]]\n",
        "del clean_txts[idxs[-4]]"
      ],
      "execution_count": 18,
      "outputs": []
    },
    {
      "cell_type": "code",
      "metadata": {
        "id": "SxxGn21Bzwsu"
      },
      "source": [
        "#while '' in clean_txts:\n",
        "#  clean_txts.remove('')"
      ],
      "execution_count": 19,
      "outputs": []
    },
    {
      "cell_type": "code",
      "metadata": {
        "id": "_NnX9GCXz0C6",
        "colab": {
          "base_uri": "https://localhost:8080/"
        },
        "outputId": "3b26d26e-cfbb-44ae-ec03-2072178a6083"
      },
      "source": [
        "'' in clean_txts"
      ],
      "execution_count": 20,
      "outputs": [
        {
          "output_type": "execute_result",
          "data": {
            "text/plain": [
              "False"
            ]
          },
          "metadata": {},
          "execution_count": 20
        }
      ]
    },
    {
      "cell_type": "code",
      "metadata": {
        "id": "1hRZIfvGP0bV"
      },
      "source": [
        "del sample_audios[idxs[-1]]\n",
        "del sample_audios[idxs[-2]]\n",
        "del sample_audios[idxs[-3]]\n",
        "del sample_audios[idxs[-4]]"
      ],
      "execution_count": 21,
      "outputs": []
    },
    {
      "cell_type": "code",
      "metadata": {
        "id": "vrL2tJ7HhRSC",
        "colab": {
          "base_uri": "https://localhost:8080/"
        },
        "outputId": "08b184d8-c3d2-44f1-e173-ec32eee13502"
      },
      "source": [
        "len(clean_txts)"
      ],
      "execution_count": 22,
      "outputs": [
        {
          "output_type": "execute_result",
          "data": {
            "text/plain": [
              "1096"
            ]
          },
          "metadata": {},
          "execution_count": 22
        }
      ]
    },
    {
      "cell_type": "code",
      "metadata": {
        "id": "nP1XLYMSZpCJ",
        "colab": {
          "base_uri": "https://localhost:8080/"
        },
        "outputId": "b2181d2b-c1df-43f8-c6d0-1fffb225a21d"
      },
      "source": [
        "len(sample_audios)"
      ],
      "execution_count": 23,
      "outputs": [
        {
          "output_type": "execute_result",
          "data": {
            "text/plain": [
              "1096"
            ]
          },
          "metadata": {},
          "execution_count": 23
        }
      ]
    },
    {
      "cell_type": "markdown",
      "metadata": {
        "id": "JC34JeCkO4X6"
      },
      "source": [
        "# Preprocessing"
      ]
    },
    {
      "cell_type": "markdown",
      "metadata": {
        "id": "lPkuTaOkO8vc"
      },
      "source": [
        "Tokenization"
      ]
    },
    {
      "cell_type": "code",
      "metadata": {
        "id": "xDLm7ML5O_FQ"
      },
      "source": [
        "def character_dict():\n",
        "    alphabet = 'a b c d e f g h i j k l m n o p q r s t u v w x y z'\n",
        "    supported = alphabet.split()\n",
        "\n",
        "    char_map = {}\n",
        "    char_map[\"\"] = 0\n",
        "    char_map[\"<SPACE>\"] = 1\n",
        "    idx = 2\n",
        "    for c in supported:\n",
        "        char_map[c] = idx\n",
        "        idx += 1\n",
        "    index_map = {v: k for k, v in char_map.items()}\n",
        "    return char_map, index_map"
      ],
      "execution_count": 24,
      "outputs": []
    },
    {
      "cell_type": "code",
      "metadata": {
        "id": "tEUXkVBmQweU"
      },
      "source": [
        "char_map, index_map = character_dict()"
      ],
      "execution_count": 25,
      "outputs": []
    },
    {
      "cell_type": "code",
      "metadata": {
        "id": "9Pm4OqOOQxeF",
        "colab": {
          "base_uri": "https://localhost:8080/"
        },
        "outputId": "06d5ad62-5f5f-4d58-8b35-08a72359567f"
      },
      "source": [
        "char_map"
      ],
      "execution_count": 26,
      "outputs": [
        {
          "output_type": "execute_result",
          "data": {
            "text/plain": [
              "{'': 0,\n",
              " '<SPACE>': 1,\n",
              " 'a': 2,\n",
              " 'b': 3,\n",
              " 'c': 4,\n",
              " 'd': 5,\n",
              " 'e': 6,\n",
              " 'f': 7,\n",
              " 'g': 8,\n",
              " 'h': 9,\n",
              " 'i': 10,\n",
              " 'j': 11,\n",
              " 'k': 12,\n",
              " 'l': 13,\n",
              " 'm': 14,\n",
              " 'n': 15,\n",
              " 'o': 16,\n",
              " 'p': 17,\n",
              " 'q': 18,\n",
              " 'r': 19,\n",
              " 's': 20,\n",
              " 't': 21,\n",
              " 'u': 22,\n",
              " 'v': 23,\n",
              " 'w': 24,\n",
              " 'x': 25,\n",
              " 'y': 26,\n",
              " 'z': 27}"
            ]
          },
          "metadata": {},
          "execution_count": 26
        }
      ]
    },
    {
      "cell_type": "code",
      "metadata": {
        "id": "FzXdNaoPQ7Ci"
      },
      "source": [
        "def text_to_int_sequence(text):\n",
        "    \"\"\" Convert text to an integer sequence \"\"\"\n",
        "    int_sequence = []\n",
        "    for c in text:\n",
        "        if c == ' ':\n",
        "            ch = char_map['<SPACE>']\n",
        "        elif c in alphabets:\n",
        "            ch = char_map[c]\n",
        "        else:\n",
        "            print(c)\n",
        "            print('character not found')\n",
        "            break\n",
        "        int_sequence.append(ch)\n",
        "    return np.array(int_sequence)"
      ],
      "execution_count": 27,
      "outputs": []
    },
    {
      "cell_type": "code",
      "metadata": {
        "id": "FGUGBfWFQ8N2"
      },
      "source": [
        "def int_sequence_to_text(int_sequence):\n",
        "    \"\"\" Convert an integer sequence to text \"\"\"\n",
        "    textch = []\n",
        "    for c in int_sequence:\n",
        "        ch = index_map[c]\n",
        "        textch.append(ch)\n",
        "    text = ''.join(textch)\n",
        "    text = text.replace('<SPACE>', ' ')\n",
        "    return text"
      ],
      "execution_count": 28,
      "outputs": []
    },
    {
      "cell_type": "code",
      "metadata": {
        "id": "2fsxI6HcZRE_"
      },
      "source": [
        "class DataGenerator(tf.keras.utils.Sequence):\n",
        "    def __init__(self, audios, texts, batch_size=32):\n",
        "        self.audios = audios\n",
        "        self.texts = texts\n",
        "        self.batch_size = batch_size\n",
        "        self.steps = int(len(self.audios) // self.batch_size)\n",
        "        self.on_epoch_end()\n",
        "\n",
        "    def __len__(self):\n",
        "        return self.steps\n",
        "\n",
        "    def on_epoch_end(self):\n",
        "        self.indexes = np.arange(self.steps*self.batch_size)\n",
        "        # np.random.shuffle(self.indexes)\n",
        "\n",
        "    def __getitem__(self, index):\n",
        "        indexes = self.indexes[int(index*self.batch_size):int((index+1)*self.batch_size)]\n",
        "    \n",
        "        batch_audios = [self.audios[int(i)] for i in indexes]\n",
        "        batch_texts = [self.texts[int(i)] for i in indexes]\n",
        "        \n",
        "        return  self.data_generation(batch_audios, batch_texts)\n",
        "    \n",
        "    def data_generation(self, batch_audios, batch_texts):\n",
        "\n",
        "        longest_audio = max([len(i) for i in batch_audios])\n",
        "        longest_txt = max([len(i) for i in batch_texts])\n",
        "\n",
        "        audios          = np.zeros([int(self.batch_size), longest_audio], dtype=\"float32\")\n",
        "        txts            = np.zeros([int(self.batch_size), longest_txt], dtype=\"int64\")\n",
        "        audio_length    = np.zeros([int(self.batch_size)], dtype=\"int64\")\n",
        "        txt_length      = np.zeros([int(self.batch_size)], dtype=\"int64\")\n",
        "\n",
        "        i = 0\n",
        "        for audio, txt in zip(batch_audios, batch_texts):\n",
        "\n",
        "            txt_len = len(txt)\n",
        "\n",
        "            txt = text_to_int_sequence(txt)\n",
        "       \n",
        "            txts[i,: txt_len] = txt\n",
        "\n",
        "            audio_len = len(audio)\n",
        "\n",
        "            audios[i, :audio_len] = audio\n",
        "\n",
        "            audio_length[i] = audio_len\n",
        "            txt_length[i] = txt_len\n",
        "\n",
        "            i+=1          \n",
        "            \n",
        "        outputs = {'ctc': np.zeros([self.batch_size])}\n",
        "        inputs = {\n",
        "                    'the_input':    tf.convert_to_tensor(audios), \n",
        "                    'the_labels':   tf.convert_to_tensor(txts), \n",
        "                    'input_length': tf.convert_to_tensor(audio_length), \n",
        "                    'label_length': tf.convert_to_tensor(txt_length),\n",
        "                }\n",
        "        return (inputs, outputs)\n"
      ],
      "execution_count": 29,
      "outputs": []
    },
    {
      "cell_type": "code",
      "metadata": {
        "id": "GlSv_P-Ra7K-"
      },
      "source": [
        "dg = DataGenerator(sample_audios, clean_txts)"
      ],
      "execution_count": 30,
      "outputs": []
    },
    {
      "cell_type": "code",
      "metadata": {
        "id": "2ETjjziia9fT",
        "colab": {
          "base_uri": "https://localhost:8080/"
        },
        "outputId": "4373857f-f3be-441b-c739-29b3a5b411be"
      },
      "source": [
        "len(dg)"
      ],
      "execution_count": 31,
      "outputs": [
        {
          "output_type": "execute_result",
          "data": {
            "text/plain": [
              "34"
            ]
          },
          "metadata": {},
          "execution_count": 31
        }
      ]
    },
    {
      "cell_type": "code",
      "metadata": {
        "id": "oE61tFoybCN7",
        "colab": {
          "base_uri": "https://localhost:8080/"
        },
        "outputId": "34938b48-6413-4864-fb8b-1177f4472b5b"
      },
      "source": [
        "dg[2]"
      ],
      "execution_count": 32,
      "outputs": [
        {
          "output_type": "execute_result",
          "data": {
            "text/plain": [
              "({'input_length': <tf.Tensor: shape=(32,), dtype=int64, numpy=\n",
              "  array([106502,  54465,  56225, 125244,  57329,  71883, 101432,  52037,\n",
              "          56670,  97020,  56227,  52260,  48069, 113558,  54464,  72765,\n",
              "          50935,  98784,  55346,  74087,  56228,  66591,  76073, 102974,\n",
              "          79379,  70782,  60413, 101209,  53361,  72327,  47846, 117746])>,\n",
              "  'label_length': <tf.Tensor: shape=(32,), dtype=int64, numpy=\n",
              "  array([ 85,  48,  43,  94,  40,  43,  67,  44,  42,  78,  50,  56,  34,\n",
              "         116,  45,  57,  43,  65,  46,  63,  52,  79,  67,  75,  56,  60,\n",
              "          53,  97,  29,  49,  21,  57])>,\n",
              "  'the_input': <tf.Tensor: shape=(32, 125244), dtype=float32, numpy=\n",
              "  array([[-0.00812266, -0.00989351, -0.00818363, ...,  0.        ,\n",
              "           0.        ,  0.        ],\n",
              "         [ 0.02433199,  0.02783113,  0.02393582, ...,  0.        ,\n",
              "           0.        ,  0.        ],\n",
              "         [ 0.00436307,  0.00565069,  0.0060805 , ...,  0.        ,\n",
              "           0.        ,  0.        ],\n",
              "         ...,\n",
              "         [-0.00295565,  0.00060368,  0.00483671, ...,  0.        ,\n",
              "           0.        ,  0.        ],\n",
              "         [-0.00061891, -0.00061906, -0.00032777, ...,  0.        ,\n",
              "           0.        ,  0.        ],\n",
              "         [ 0.01523486,  0.04532695,  0.03983384, ...,  0.        ,\n",
              "           0.        ,  0.        ]], dtype=float32)>,\n",
              "  'the_labels': <tf.Tensor: shape=(32, 116), dtype=int64, numpy=\n",
              "  array([[24,  2, 27, ...,  0,  0,  0],\n",
              "         [15, 10, 23, ...,  0,  0,  0],\n",
              "         [15,  2,  1, ...,  0,  0,  0],\n",
              "         ...,\n",
              "         [26,  2,  1, ...,  0,  0,  0],\n",
              "         [10, 13, 10, ...,  0,  0,  0],\n",
              "         [ 2, 14,  3, ...,  0,  0,  0]])>},\n",
              " {'ctc': array([0., 0., 0., 0., 0., 0., 0., 0., 0., 0., 0., 0., 0., 0., 0., 0., 0.,\n",
              "         0., 0., 0., 0., 0., 0., 0., 0., 0., 0., 0., 0., 0., 0., 0.])})"
            ]
          },
          "metadata": {},
          "execution_count": 32
        }
      ]
    },
    {
      "cell_type": "code",
      "metadata": {
        "id": "bCL_9qHxFnmR"
      },
      "source": [
        "batch1 = dg[0][0]"
      ],
      "execution_count": 33,
      "outputs": []
    },
    {
      "cell_type": "code",
      "metadata": {
        "id": "Y4XJH1jFFqrg",
        "colab": {
          "base_uri": "https://localhost:8080/"
        },
        "outputId": "98529d83-fa78-4fa8-85f8-c7a564815b8b"
      },
      "source": [
        "batch1['the_labels']"
      ],
      "execution_count": 34,
      "outputs": [
        {
          "output_type": "execute_result",
          "data": {
            "text/plain": [
              "<tf.Tensor: shape=(32, 109), dtype=int64, numpy=\n",
              "array([[14, 16, 26, ...,  0,  0,  0],\n",
              "       [10, 15,  2, ...,  0,  0,  0],\n",
              "       [14,  2, 14, ...,  0,  0,  0],\n",
              "       ...,\n",
              "       [27, 10, 14, ...,  0,  0,  0],\n",
              "       [15,  2,  1, ...,  0,  0,  0],\n",
              "       [15,  2,  1, ...,  0,  0,  0]])>"
            ]
          },
          "metadata": {},
          "execution_count": 34
        }
      ]
    },
    {
      "cell_type": "code",
      "metadata": {
        "id": "qavEMIx3FscM",
        "colab": {
          "base_uri": "https://localhost:8080/"
        },
        "outputId": "01b2444d-6087-41f7-9762-727f0188e628"
      },
      "source": [
        "batch1['the_input']"
      ],
      "execution_count": 35,
      "outputs": [
        {
          "output_type": "execute_result",
          "data": {
            "text/plain": [
              "<tf.Tensor: shape=(32, 131858), dtype=float32, numpy=\n",
              "array([[-5.1863431e-03, -3.7094415e-03,  5.1115605e-04, ...,\n",
              "         0.0000000e+00,  0.0000000e+00,  0.0000000e+00],\n",
              "       [ 2.0394609e-03,  3.2625867e-03,  4.5679305e-03, ...,\n",
              "         0.0000000e+00,  0.0000000e+00,  0.0000000e+00],\n",
              "       [-2.5505594e-03, -1.6648067e-03,  1.1030279e-05, ...,\n",
              "         0.0000000e+00,  0.0000000e+00,  0.0000000e+00],\n",
              "       ...,\n",
              "       [ 1.8812959e-03,  1.1386876e-03, -2.1179138e-04, ...,\n",
              "         0.0000000e+00,  0.0000000e+00,  0.0000000e+00],\n",
              "       [-4.4094473e-02, -5.2660685e-02, -4.1221883e-02, ...,\n",
              "         0.0000000e+00,  0.0000000e+00,  0.0000000e+00],\n",
              "       [-1.5952030e-02, -2.0318404e-02, -2.1630375e-02, ...,\n",
              "         0.0000000e+00,  0.0000000e+00,  0.0000000e+00]], dtype=float32)>"
            ]
          },
          "metadata": {},
          "execution_count": 35
        }
      ]
    },
    {
      "cell_type": "markdown",
      "metadata": {
        "id": "reQsClloeTxu"
      },
      "source": [
        "# CTC"
      ]
    },
    {
      "cell_type": "markdown",
      "metadata": {
        "id": "f2UZeukSeZ-K"
      },
      "source": [
        "Connectionist Temporal Clasification"
      ]
    },
    {
      "cell_type": "code",
      "metadata": {
        "id": "p8-9Wre7elYR"
      },
      "source": [
        "def ctc_lambda_func(args):\n",
        "    y_pred, labels, input_length, label_length = args\n",
        "    return K.ctc_batch_cost(labels, y_pred, input_length, label_length)"
      ],
      "execution_count": 36,
      "outputs": []
    },
    {
      "cell_type": "code",
      "metadata": {
        "id": "6jJ0-R9DenvL"
      },
      "source": [
        "def input_lengths_lambda_func(args):\n",
        "    input_length = args\n",
        "    return tf.cast(tf.math.floor(input_length/hop_size)-1, dtype=\"float32\")"
      ],
      "execution_count": 37,
      "outputs": []
    },
    {
      "cell_type": "code",
      "metadata": {
        "id": "yuwb3H3yeptr"
      },
      "source": [
        "def add_ctc_loss(model_builder):\n",
        "    the_labels      = Input(name='the_labels',      shape=(None,), dtype='float32')\n",
        "    input_lengths   = Input(name='input_length',    shape=(1,), dtype='float32')\n",
        "    label_lengths   = Input(name='label_length',    shape=(1,), dtype='float32')\n",
        "\n",
        "    input_lengths2 = Lambda(input_lengths_lambda_func)(input_lengths)\n",
        "    if model_builder.output_length:\n",
        "         output_lengths  = Lambda(model_builder.output_length)(input_lengths2)\n",
        "    else:\n",
        "         output_lengths  = input_lengths2\n",
        "    \n",
        "    # CTC loss is implemented in a lambda layer\n",
        "    loss_out = Lambda(ctc_lambda_func, output_shape=(1,), name='ctc')([model_builder.output, the_labels, output_lengths, label_lengths])\n",
        "    model = Model( inputs=[model_builder.input, the_labels, input_lengths, label_lengths],  outputs=loss_out)\n",
        "    return model"
      ],
      "execution_count": 38,
      "outputs": []
    },
    {
      "cell_type": "markdown",
      "metadata": {
        "id": "OJleTY4jet56"
      },
      "source": [
        "# Log Mel Spectrogram"
      ]
    },
    {
      "cell_type": "code",
      "metadata": {
        "id": "qGpv54hHezrY"
      },
      "source": [
        "class LogMelSpectrogram(tf.keras.layers.Layer):\n",
        "    \"\"\"Compute log-magnitude mel-scaled spectrograms.\"\"\"\n",
        "\n",
        "    def __init__(self, sample_rate, fft_size, hop_size, n_mels,\n",
        "                 f_min=0.0, f_max=None, **kwargs):\n",
        "        super(LogMelSpectrogram, self).__init__(**kwargs)\n",
        "        self.sample_rate = sample_rate\n",
        "        self.fft_size = fft_size\n",
        "        self.hop_size = hop_size\n",
        "        self.n_mels = n_mels\n",
        "        self.f_min = f_min\n",
        "        self.f_max = f_max if f_max else sample_rate / 2\n",
        "        self.mel_filterbank = tf.signal.linear_to_mel_weight_matrix(\n",
        "            num_mel_bins=self.n_mels,\n",
        "            num_spectrogram_bins=fft_size // 2 + 1,\n",
        "            sample_rate=self.sample_rate,\n",
        "            lower_edge_hertz=self.f_min,\n",
        "            upper_edge_hertz=self.f_max)\n",
        "\n",
        "    def build(self, input_shape):\n",
        "        self.non_trainable_weights.append(self.mel_filterbank)\n",
        "        super(LogMelSpectrogram, self).build(input_shape)\n",
        "\n",
        "    def call(self, waveforms):\n",
        "        \"\"\"Forward pass.\n",
        "        Parameters\n",
        "        ----------\n",
        "        waveforms : tf.Tensor, shape = (None, n_samples)\n",
        "            A Batch of mono waveforms.\n",
        "        Returns\n",
        "        -------\n",
        "        log_mel_spectrograms : (tf.Tensor), shape = (None, time, freq, ch)\n",
        "            The corresponding batch of log-mel-spectrograms\n",
        "        \"\"\"\n",
        "        def _tf_log10(x):\n",
        "            numerator = tf.math.log(x)\n",
        "            denominator = tf.math.log(tf.constant(10, dtype=numerator.dtype))\n",
        "            return numerator / denominator\n",
        "\n",
        "        def power_to_db(magnitude, amin=1e-16, top_db=80.0):\n",
        "            \"\"\"\n",
        "            https://librosa.github.io/librosa/generated/librosa.core.power_to_db.html\n",
        "            \"\"\"\n",
        "            ref_value = tf.reduce_max(magnitude)\n",
        "            log_spec = 10.0 * _tf_log10(tf.maximum(amin, magnitude))\n",
        "            log_spec -= 10.0 * _tf_log10(tf.maximum(amin, ref_value))\n",
        "            log_spec = tf.maximum(log_spec, tf.reduce_max(log_spec) - top_db)\n",
        "\n",
        "            return log_spec\n",
        "\n",
        "        spectrograms = tf.signal.stft(waveforms,\n",
        "                                      frame_length=self.fft_size,\n",
        "                                      frame_step=self.hop_size,\n",
        "                                      pad_end=False)\n",
        "\n",
        "        magnitude_spectrograms = tf.abs(spectrograms)\n",
        "\n",
        "        mel_spectrograms = tf.matmul(tf.square(magnitude_spectrograms),\n",
        "                                     self.mel_filterbank)\n",
        "\n",
        "        log_mel_spectrograms = power_to_db(mel_spectrograms)\n",
        "\n",
        "        # add channel dimension\n",
        "        log_mel_spectrograms = tf.expand_dims(log_mel_spectrograms, 3)\n",
        "\n",
        "        return log_mel_spectrograms\n",
        "\n",
        "    def get_config(self):\n",
        "        config = {\n",
        "            'fft_size': self.fft_size,\n",
        "            'hop_size': self.hop_size,\n",
        "            'n_mels': self.n_mels,\n",
        "            'sample_rate': self.sample_rate,\n",
        "            'f_min': self.f_min,\n",
        "            'f_max': self.f_max,\n",
        "        }\n",
        "        config.update(super(LogMelSpectrogram, self).get_config())\n",
        "\n",
        "        return config"
      ],
      "execution_count": 39,
      "outputs": []
    },
    {
      "cell_type": "markdown",
      "metadata": {
        "id": "wSebksYG2NXM"
      },
      "source": [
        "# Models"
      ]
    },
    {
      "cell_type": "code",
      "metadata": {
        "id": "eHHAHeJu2Q-G"
      },
      "source": [
        "def preprocessin_model(sample_rate, fft_size, frame_step, n_mels, mfcc=False):\n",
        "\n",
        "    input_data = Input(name='input', shape=(None,), dtype=\"float32\")\n",
        "    featLayer = LogMelSpectrogram(\n",
        "        fft_size=fft_size,\n",
        "        hop_size=frame_step,\n",
        "        n_mels=n_mels,\n",
        "        \n",
        "        sample_rate=sample_rate,\n",
        "        f_min=0.0,\n",
        "        \n",
        "        f_max=int(sample_rate / 2)\n",
        "    )(input_data)\n",
        "    \n",
        "    x = BatchNormalization()(featLayer)\n",
        "    model = Model(inputs=input_data, outputs=x, name=\"preprocessin_model\")\n",
        "\n",
        "    return model"
      ],
      "execution_count": 40,
      "outputs": []
    },
    {
      "cell_type": "code",
      "metadata": {
        "id": "CZiexFZ62UHt"
      },
      "source": [
        "def simple_rnn_model(input_dim, output_dim=224):\n",
        "\n",
        "    input_data = Input(name='the_input', shape=(None, input_dim))\n",
        "    simp_rnn = GRU(output_dim, return_sequences=True,\n",
        "                   implementation=2, name='rnn')(input_data)\n",
        "    y_pred = Activation('softmax', name='softmax')(simp_rnn)\n",
        "    model = Model(inputs=input_data, outputs=y_pred, name=\"simple_rnn_model\")\n",
        "    model.output_length = lambda x: x\n",
        "    return model\n"
      ],
      "execution_count": 41,
      "outputs": []
    },
    {
      "cell_type": "code",
      "metadata": {
        "id": "Om_Vktt-2Xg2"
      },
      "source": [
        "def BidirectionalRNN(input_dim, rnn_layers=2, units=400, drop_out=0.5, act='tanh', output_dim=224):\n",
        "\n",
        "    input_data = Input(name='the_input', shape=(\n",
        "        None, input_dim))\n",
        "\n",
        "    x = Bidirectional(LSTM(units,  activation=act,\n",
        "                      return_sequences=True, implementation=2))(input_data)\n",
        "    x = BatchNormalization()(x)\n",
        "    x = Dropout(drop_out)(x)\n",
        "\n",
        "    for i in range(rnn_layers - 2):\n",
        "        x = Bidirectional(\n",
        "            LSTM(units, activation=act, return_sequences=True))(x)\n",
        "        x = BatchNormalization()(x)\n",
        "        x = Dropout(drop_out)(x)\n",
        "\n",
        "    x = Bidirectional(LSTM(units,  activation=act,\n",
        "                      return_sequences=True, implementation=2))(x)\n",
        "    x = BatchNormalization()(x)\n",
        "    x = Dropout(drop_out)(x)\n",
        "\n",
        "    time_dense = TimeDistributed(Dense(output_dim))(x)\n",
        "\n",
        "    y_pred = Activation('softmax', name='softmax')(time_dense)\n",
        "\n",
        "    model = Model(inputs=input_data, outputs=y_pred, name=\"BidirectionalRNN\")\n",
        "\n",
        "    return model"
      ],
      "execution_count": 42,
      "outputs": []
    },
    {
      "cell_type": "code",
      "metadata": {
        "id": "lKjSvjje2Ybu"
      },
      "source": [
        "def conv_rnn(n_mels, output_dim=224, rnn_layers=4, units=400, drop_out=0.5, act='tanh'):\n",
        "\n",
        "    input_data = Input(name='the_input', shape=(None, n_mels, 1))\n",
        "\n",
        "    y = Conv2D(32, (3, 3), padding='same')(input_data)  # was 32\n",
        "    y = Activation('relu')(y)\n",
        "    y = BatchNormalization()(y)\n",
        "\n",
        "    x = MaxPooling2D((1, 2))(y)\n",
        "\n",
        "    x = Conv2D(64, (3, 3), padding='same')(y)  # was 32\n",
        "    x = Activation('relu')(x)\n",
        "    y = BatchNormalization()(y)\n",
        "\n",
        "    x = MaxPooling2D((1, 2))(x)\n",
        "\n",
        "    x = Conv2D(128, (3, 3), padding='same')(x)\n",
        "    x = Activation('relu')(x)\n",
        "    y = BatchNormalization()(y)\n",
        "\n",
        "    x = MaxPooling2D((1, 2))(x)\n",
        "\n",
        "    x = Dense(128)(x)\n",
        "    x = Dense(64)(x)\n",
        "    x = Dense(32)(x)\n",
        "\n",
        "    x = Reshape((-1, x.shape[-1] * x.shape[-2]))(x)\n",
        "\n",
        "    for i in range(rnn_layers):\n",
        "        x = Bidirectional(\n",
        "            LSTM(units, activation=act, return_sequences=True))(x)\n",
        "        x = BatchNormalization()(x)\n",
        "        x = Dropout(drop_out)(x)\n",
        "\n",
        "    bn_rnn = BatchNormalization()(x)\n",
        "\n",
        "    time_dense = TimeDistributed(Dense(output_dim))(bn_rnn)\n",
        "\n",
        "    y_pred = Activation('softmax', name='softmax')(time_dense)\n",
        "\n",
        "    model = Model(inputs=input_data, outputs=y_pred, name=\"custom_model\")\n",
        "\n",
        "    return model"
      ],
      "execution_count": 43,
      "outputs": []
    },
    {
      "cell_type": "code",
      "metadata": {
        "id": "7Yk8JKbX2b9Y"
      },
      "source": [
        "def train(model_builder, \n",
        "          data_gen,\n",
        "          epochs, \n",
        "          verbose=1,\n",
        "          optimizer=SGD(learning_rate=0.002, decay=1e-6, momentum=0.9, nesterov=True, clipnorm=5),\n",
        "          ):    \n",
        "              \n",
        "    model = add_ctc_loss(model_builder)\n",
        "\n",
        "    model.compile(loss={'ctc': lambda y_true, y_pred: y_pred}, optimizer=optimizer)\n",
        "    print(model.summary())\n",
        "\n",
        "    # add checkpointer\n",
        "    #checkpointer = ModelCheckpoint(filepath='/content/drive/MyDrive/structured_data/train/models/cnn_rnn.h5', verbose=1)\n",
        "    early_stopping = EarlyStopping( monitor=\"val_loss\", patience=10, restore_best_weights=True)\n",
        "\n",
        "    hist = model.fit_generator(generator=data_gen,\n",
        "                               epochs=epochs,\n",
        "                               #callbacks=[checkpointer, early_stopping], \n",
        "                               verbose=verbose, \n",
        "                               use_multiprocessing=False)\n",
        "    \n",
        "    #with open('model.pickle', 'wb') as file:\n",
        "      #pickle.dump(model, file)\n",
        "    # save model loss\n",
        "    #with open('/content/drive/MyDrive/dub/cnn_rnn.pickle', 'wb') as f:\n",
        "     #   pickle.dump(hist.history, f)"
      ],
      "execution_count": 44,
      "outputs": []
    },
    {
      "cell_type": "markdown",
      "metadata": {
        "id": "cfJYtUni2y7G"
      },
      "source": [
        "# Training"
      ]
    },
    {
      "cell_type": "code",
      "metadata": {
        "id": "AslefmLg208J"
      },
      "source": [
        "\n",
        "sample_rate = 22050\n",
        "fft_size = 1024\n",
        "frame_step = 512\n",
        "n_mels = 128\n",
        "\n",
        "batch_size = 32\n",
        "epochs = 100\n",
        "data_len = len(clean_txts)\n",
        "output_dim = len(char_map) + 2\n"
      ],
      "execution_count": 45,
      "outputs": []
    },
    {
      "cell_type": "code",
      "metadata": {
        "id": "7wJhZ_JJ23aA"
      },
      "source": [
        "dg = DataGenerator(sample_audios, clean_txts, batch_size)"
      ],
      "execution_count": 46,
      "outputs": []
    },
    {
      "cell_type": "code",
      "metadata": {
        "id": "Wjy39j3h27c3",
        "colab": {
          "base_uri": "https://localhost:8080/"
        },
        "outputId": "d8d7f048-1299-485e-c004-7a4255f81c89"
      },
      "source": [
        "preprocess_model = preprocessin_model(sample_rate, fft_size, frame_step, n_mels)\n",
        "preprocess_model.summary()\n"
      ],
      "execution_count": 47,
      "outputs": [
        {
          "output_type": "stream",
          "name": "stdout",
          "text": [
            "Model: \"preprocessin_model\"\n",
            "_________________________________________________________________\n",
            " Layer (type)                Output Shape              Param #   \n",
            "=================================================================\n",
            " input (InputLayer)          [(None, None)]            0         \n",
            "                                                                 \n",
            " log_mel_spectrogram (LogMel  (None, None, 128, 1)     0         \n",
            " Spectrogram)                                                    \n",
            "                                                                 \n",
            " batch_normalization (BatchN  (None, None, 128, 1)     4         \n",
            " ormalization)                                                   \n",
            "                                                                 \n",
            "=================================================================\n",
            "Total params: 4\n",
            "Trainable params: 2\n",
            "Non-trainable params: 2\n",
            "_________________________________________________________________\n"
          ]
        }
      ]
    },
    {
      "cell_type": "code",
      "metadata": {
        "id": "JfRovENo29JI",
        "colab": {
          "base_uri": "https://localhost:8080/"
        },
        "outputId": "b33f2f4e-1c59-40bc-f6ec-7a0e0f24e17a"
      },
      "source": [
        "speech_model = conv_rnn(n_mels, output_dim = output_dim)\n",
        "speech_model.summary()\n"
      ],
      "execution_count": 48,
      "outputs": [
        {
          "output_type": "stream",
          "name": "stdout",
          "text": [
            "Model: \"custom_model\"\n",
            "_________________________________________________________________\n",
            " Layer (type)                Output Shape              Param #   \n",
            "=================================================================\n",
            " the_input (InputLayer)      [(None, None, 128, 1)]    0         \n",
            "                                                                 \n",
            " conv2d (Conv2D)             (None, None, 128, 32)     320       \n",
            "                                                                 \n",
            " activation (Activation)     (None, None, 128, 32)     0         \n",
            "                                                                 \n",
            " batch_normalization_1 (Batc  (None, None, 128, 32)    128       \n",
            " hNormalization)                                                 \n",
            "                                                                 \n",
            " conv2d_1 (Conv2D)           (None, None, 128, 64)     18496     \n",
            "                                                                 \n",
            " activation_1 (Activation)   (None, None, 128, 64)     0         \n",
            "                                                                 \n",
            " max_pooling2d_1 (MaxPooling  (None, None, 64, 64)     0         \n",
            " 2D)                                                             \n",
            "                                                                 \n",
            " conv2d_2 (Conv2D)           (None, None, 64, 128)     73856     \n",
            "                                                                 \n",
            " activation_2 (Activation)   (None, None, 64, 128)     0         \n",
            "                                                                 \n",
            " max_pooling2d_2 (MaxPooling  (None, None, 32, 128)    0         \n",
            " 2D)                                                             \n",
            "                                                                 \n",
            " dense (Dense)               (None, None, 32, 128)     16512     \n",
            "                                                                 \n",
            " dense_1 (Dense)             (None, None, 32, 64)      8256      \n",
            "                                                                 \n",
            " dense_2 (Dense)             (None, None, 32, 32)      2080      \n",
            "                                                                 \n",
            " reshape (Reshape)           (None, None, 1024)        0         \n",
            "                                                                 \n",
            " bidirectional (Bidirectiona  (None, None, 800)        4560000   \n",
            " l)                                                              \n",
            "                                                                 \n",
            " batch_normalization_4 (Batc  (None, None, 800)        3200      \n",
            " hNormalization)                                                 \n",
            "                                                                 \n",
            " dropout (Dropout)           (None, None, 800)         0         \n",
            "                                                                 \n",
            " bidirectional_1 (Bidirectio  (None, None, 800)        3843200   \n",
            " nal)                                                            \n",
            "                                                                 \n",
            " batch_normalization_5 (Batc  (None, None, 800)        3200      \n",
            " hNormalization)                                                 \n",
            "                                                                 \n",
            " dropout_1 (Dropout)         (None, None, 800)         0         \n",
            "                                                                 \n",
            " bidirectional_2 (Bidirectio  (None, None, 800)        3843200   \n",
            " nal)                                                            \n",
            "                                                                 \n",
            " batch_normalization_6 (Batc  (None, None, 800)        3200      \n",
            " hNormalization)                                                 \n",
            "                                                                 \n",
            " dropout_2 (Dropout)         (None, None, 800)         0         \n",
            "                                                                 \n",
            " bidirectional_3 (Bidirectio  (None, None, 800)        3843200   \n",
            " nal)                                                            \n",
            "                                                                 \n",
            " batch_normalization_7 (Batc  (None, None, 800)        3200      \n",
            " hNormalization)                                                 \n",
            "                                                                 \n",
            " dropout_3 (Dropout)         (None, None, 800)         0         \n",
            "                                                                 \n",
            " batch_normalization_8 (Batc  (None, None, 800)        3200      \n",
            " hNormalization)                                                 \n",
            "                                                                 \n",
            " time_distributed (TimeDistr  (None, None, 30)         24030     \n",
            " ibuted)                                                         \n",
            "                                                                 \n",
            " softmax (Activation)        (None, None, 30)          0         \n",
            "                                                                 \n",
            "=================================================================\n",
            "Total params: 16,249,278\n",
            "Trainable params: 16,241,214\n",
            "Non-trainable params: 8,064\n",
            "_________________________________________________________________\n"
          ]
        }
      ]
    },
    {
      "cell_type": "code",
      "metadata": {
        "id": "X1M615Xb7tvW"
      },
      "source": [
        "def build_model(output_dim, custom_model, preprocess_model, calc=None):\n",
        "\n",
        "    input_audios = Input(name='the_input', shape=(None,))\n",
        "    pre = preprocess_model(input_audios)\n",
        "    pre = tf.squeeze(pre, [3])\n",
        "\n",
        "    y_pred = custom_model(pre)\n",
        "    model = Model(inputs=input_audios, outputs=y_pred, name=\"model_builder\")\n",
        "    model.output_length = calc\n",
        "\n",
        "    return model"
      ],
      "execution_count": 49,
      "outputs": []
    },
    {
      "cell_type": "code",
      "metadata": {
        "id": "uTJVsdE07uS-",
        "colab": {
          "base_uri": "https://localhost:8080/"
        },
        "outputId": "a2f681a7-bf62-4cd6-8746-20e8508863fc"
      },
      "source": [
        "model = build_model(output_dim, speech_model, preprocess_model)\n",
        "model.summary()\n"
      ],
      "execution_count": 50,
      "outputs": [
        {
          "output_type": "stream",
          "name": "stdout",
          "text": [
            "Model: \"model_builder\"\n",
            "_________________________________________________________________\n",
            " Layer (type)                Output Shape              Param #   \n",
            "=================================================================\n",
            " the_input (InputLayer)      [(None, None)]            0         \n",
            "                                                                 \n",
            " preprocessin_model (Functio  (None, None, 128, 1)     4         \n",
            " nal)                                                            \n",
            "                                                                 \n",
            " tf.compat.v1.squeeze (TFOpL  (None, None, 128)        0         \n",
            " ambda)                                                          \n",
            "                                                                 \n",
            " custom_model (Functional)   (None, None, 30)          16249278  \n",
            "                                                                 \n",
            "=================================================================\n",
            "Total params: 16,249,282\n",
            "Trainable params: 16,241,216\n",
            "Non-trainable params: 8,066\n",
            "_________________________________________________________________\n"
          ]
        }
      ]
    },
    {
      "cell_type": "code",
      "metadata": {
        "id": "Ifnez6Zd7wyW"
      },
      "source": [
        "#model.load_weights('/content/drive/MyDrive/structured_data/train/models/cnn_rnn3.h5')"
      ],
      "execution_count": 51,
      "outputs": []
    },
    {
      "cell_type": "code",
      "metadata": {
        "colab": {
          "base_uri": "https://localhost:8080/"
        },
        "id": "nrHNdu7r7zCP",
        "outputId": "c877e64e-db63-46a0-c639-2ba8495b8a5d"
      },
      "source": [
        "hop_size = 512\n",
        "train(model, dg, epochs=100)"
      ],
      "execution_count": 53,
      "outputs": [
        {
          "output_type": "stream",
          "name": "stdout",
          "text": [
            "Model: \"model_1\"\n",
            "__________________________________________________________________________________________________\n",
            " Layer (type)                   Output Shape         Param #     Connected to                     \n",
            "==================================================================================================\n",
            " the_input (InputLayer)         [(None, None)]       0           []                               \n",
            "                                                                                                  \n",
            " preprocessin_model (Functional  (None, None, 128, 1  4          ['the_input[0][0]']              \n",
            " )                              )                                                                 \n",
            "                                                                                                  \n",
            " tf.compat.v1.squeeze (TFOpLamb  (None, None, 128)   0           ['preprocessin_model[0][0]']     \n",
            " da)                                                                                              \n",
            "                                                                                                  \n",
            " input_length (InputLayer)      [(None, 1)]          0           []                               \n",
            "                                                                                                  \n",
            " custom_model (Functional)      (None, None, 30)     16249278    ['tf.compat.v1.squeeze[0][0]']   \n",
            "                                                                                                  \n",
            " the_labels (InputLayer)        [(None, None)]       0           []                               \n",
            "                                                                                                  \n",
            " lambda_1 (Lambda)              (None, 1)            0           ['input_length[0][0]']           \n",
            "                                                                                                  \n",
            " label_length (InputLayer)      [(None, 1)]          0           []                               \n",
            "                                                                                                  \n",
            " ctc (Lambda)                   (None, 1)            0           ['custom_model[0][0]',           \n",
            "                                                                  'the_labels[0][0]',             \n",
            "                                                                  'lambda_1[0][0]',               \n",
            "                                                                  'label_length[0][0]']           \n",
            "                                                                                                  \n",
            "==================================================================================================\n",
            "Total params: 16,249,282\n",
            "Trainable params: 16,241,216\n",
            "Non-trainable params: 8,066\n",
            "__________________________________________________________________________________________________\n",
            "None\n",
            "Epoch 1/100\n"
          ]
        },
        {
          "output_type": "stream",
          "name": "stderr",
          "text": [
            "/usr/local/lib/python3.7/dist-packages/ipykernel_launcher.py:21: UserWarning: `Model.fit_generator` is deprecated and will be removed in a future version. Please use `Model.fit`, which supports generators.\n"
          ]
        },
        {
          "output_type": "stream",
          "name": "stdout",
          "text": [
            "34/34 [==============================] - 55s 1s/step - loss: 12.5510\n",
            "Epoch 2/100\n",
            "34/34 [==============================] - 45s 1s/step - loss: 12.3253\n",
            "Epoch 3/100\n",
            "34/34 [==============================] - 45s 1s/step - loss: 11.7999\n",
            "Epoch 4/100\n",
            "34/34 [==============================] - 45s 1s/step - loss: 11.8065\n",
            "Epoch 5/100\n",
            "34/34 [==============================] - 45s 1s/step - loss: 11.7220\n",
            "Epoch 6/100\n",
            "34/34 [==============================] - 45s 1s/step - loss: 11.5410\n",
            "Epoch 7/100\n",
            "34/34 [==============================] - 45s 1s/step - loss: 10.9906\n",
            "Epoch 8/100\n",
            "34/34 [==============================] - 45s 1s/step - loss: 11.3247\n",
            "Epoch 9/100\n",
            "34/34 [==============================] - 45s 1s/step - loss: 10.9489\n",
            "Epoch 10/100\n",
            "34/34 [==============================] - 45s 1s/step - loss: 10.9442\n",
            "Epoch 11/100\n",
            "34/34 [==============================] - 45s 1s/step - loss: 10.6989\n",
            "Epoch 12/100\n",
            "34/34 [==============================] - 45s 1s/step - loss: 10.5703\n",
            "Epoch 13/100\n",
            "34/34 [==============================] - 45s 1s/step - loss: 10.4082\n",
            "Epoch 14/100\n",
            "34/34 [==============================] - 45s 1s/step - loss: 10.0740\n",
            "Epoch 15/100\n",
            "34/34 [==============================] - 45s 1s/step - loss: 9.9047\n",
            "Epoch 16/100\n",
            "34/34 [==============================] - 45s 1s/step - loss: 9.9159\n",
            "Epoch 17/100\n",
            "34/34 [==============================] - 45s 1s/step - loss: 9.7520\n",
            "Epoch 18/100\n",
            "34/34 [==============================] - 45s 1s/step - loss: 9.6010\n",
            "Epoch 19/100\n",
            "34/34 [==============================] - 45s 1s/step - loss: 9.4298\n",
            "Epoch 20/100\n",
            "34/34 [==============================] - 45s 1s/step - loss: 9.3542\n",
            "Epoch 21/100\n",
            "34/34 [==============================] - 45s 1s/step - loss: 9.2651\n",
            "Epoch 22/100\n",
            "34/34 [==============================] - 45s 1s/step - loss: 9.1199\n",
            "Epoch 23/100\n",
            "34/34 [==============================] - 45s 1s/step - loss: 8.8368\n",
            "Epoch 24/100\n",
            "34/34 [==============================] - 45s 1s/step - loss: 8.5492\n",
            "Epoch 25/100\n",
            "34/34 [==============================] - 45s 1s/step - loss: 8.7370\n",
            "Epoch 26/100\n",
            "34/34 [==============================] - 45s 1s/step - loss: 8.3623\n",
            "Epoch 27/100\n",
            "34/34 [==============================] - 45s 1s/step - loss: 8.2987\n",
            "Epoch 28/100\n",
            "34/34 [==============================] - 45s 1s/step - loss: 8.2044\n",
            "Epoch 29/100\n",
            "34/34 [==============================] - 45s 1s/step - loss: 8.2016\n",
            "Epoch 30/100\n",
            "34/34 [==============================] - 45s 1s/step - loss: 7.8835\n",
            "Epoch 31/100\n",
            "34/34 [==============================] - 45s 1s/step - loss: 8.2203\n",
            "Epoch 32/100\n",
            "34/34 [==============================] - 45s 1s/step - loss: 7.4554\n",
            "Epoch 33/100\n",
            "34/34 [==============================] - 45s 1s/step - loss: 7.5293\n",
            "Epoch 34/100\n",
            "34/34 [==============================] - 45s 1s/step - loss: 7.8472\n",
            "Epoch 35/100\n",
            "34/34 [==============================] - 45s 1s/step - loss: 7.5379\n",
            "Epoch 36/100\n",
            "34/34 [==============================] - 45s 1s/step - loss: 7.4836\n",
            "Epoch 37/100\n",
            "34/34 [==============================] - 45s 1s/step - loss: 7.3294\n",
            "Epoch 38/100\n",
            "34/34 [==============================] - 45s 1s/step - loss: 7.2037\n",
            "Epoch 39/100\n",
            "34/34 [==============================] - 45s 1s/step - loss: 7.0897\n",
            "Epoch 40/100\n",
            "34/34 [==============================] - 45s 1s/step - loss: 7.0261\n",
            "Epoch 41/100\n",
            "34/34 [==============================] - 45s 1s/step - loss: 6.8806\n",
            "Epoch 42/100\n",
            "34/34 [==============================] - 45s 1s/step - loss: 6.6169\n",
            "Epoch 43/100\n",
            "34/34 [==============================] - 45s 1s/step - loss: 6.8198\n",
            "Epoch 44/100\n",
            "34/34 [==============================] - 45s 1s/step - loss: 6.6389\n",
            "Epoch 45/100\n",
            "34/34 [==============================] - 45s 1s/step - loss: 6.5884\n",
            "Epoch 46/100\n",
            "34/34 [==============================] - 45s 1s/step - loss: 6.5486\n",
            "Epoch 47/100\n",
            "34/34 [==============================] - 45s 1s/step - loss: 6.4630\n",
            "Epoch 48/100\n",
            "34/34 [==============================] - 45s 1s/step - loss: 6.2098\n",
            "Epoch 49/100\n",
            "34/34 [==============================] - 45s 1s/step - loss: 6.3905\n",
            "Epoch 50/100\n",
            "34/34 [==============================] - 45s 1s/step - loss: 6.1575\n",
            "Epoch 51/100\n",
            "34/34 [==============================] - 45s 1s/step - loss: 6.0305\n",
            "Epoch 52/100\n",
            "34/34 [==============================] - 45s 1s/step - loss: 6.0378\n",
            "Epoch 53/100\n",
            "34/34 [==============================] - 45s 1s/step - loss: 5.8048\n",
            "Epoch 54/100\n",
            "34/34 [==============================] - 45s 1s/step - loss: 5.9425\n",
            "Epoch 55/100\n",
            "34/34 [==============================] - 45s 1s/step - loss: 5.7844\n",
            "Epoch 56/100\n",
            "34/34 [==============================] - 45s 1s/step - loss: 5.7679\n",
            "Epoch 57/100\n",
            "34/34 [==============================] - 45s 1s/step - loss: 5.7415\n",
            "Epoch 58/100\n",
            "34/34 [==============================] - 45s 1s/step - loss: 5.6508\n",
            "Epoch 59/100\n",
            "34/34 [==============================] - 45s 1s/step - loss: 5.4237\n",
            "Epoch 61/100\n",
            "34/34 [==============================] - 45s 1s/step - loss: 5.5897\n",
            "Epoch 62/100\n",
            "34/34 [==============================] - 45s 1s/step - loss: 5.3064\n",
            "Epoch 63/100\n",
            "34/34 [==============================] - 45s 1s/step - loss: 5.2095\n",
            "Epoch 64/100\n",
            "34/34 [==============================] - 45s 1s/step - loss: 5.2702\n",
            "Epoch 65/100\n",
            "34/34 [==============================] - 45s 1s/step - loss: 5.0743\n",
            "Epoch 66/100\n",
            "34/34 [==============================] - 45s 1s/step - loss: 5.1252\n",
            "Epoch 67/100\n",
            "34/34 [==============================] - 45s 1s/step - loss: 5.0564\n",
            "Epoch 68/100\n",
            "34/34 [==============================] - 45s 1s/step - loss: 4.9799\n",
            "Epoch 69/100\n",
            "34/34 [==============================] - 45s 1s/step - loss: 4.8464\n",
            "Epoch 70/100\n",
            "34/34 [==============================] - 45s 1s/step - loss: 4.8588\n",
            "Epoch 71/100\n",
            "34/34 [==============================] - 45s 1s/step - loss: 4.7191\n",
            "Epoch 72/100\n",
            "34/34 [==============================] - 45s 1s/step - loss: 4.9295\n",
            "Epoch 73/100\n",
            "34/34 [==============================] - 45s 1s/step - loss: 4.5927\n",
            "Epoch 74/100\n",
            "34/34 [==============================] - 45s 1s/step - loss: 4.6549\n",
            "Epoch 75/100\n",
            "34/34 [==============================] - 45s 1s/step - loss: 4.7257\n",
            "Epoch 76/100\n",
            "34/34 [==============================] - 45s 1s/step - loss: 4.5040\n",
            "Epoch 77/100\n",
            "34/34 [==============================] - 45s 1s/step - loss: 4.4317\n",
            "Epoch 78/100\n",
            "34/34 [==============================] - 45s 1s/step - loss: 4.3256\n",
            "Epoch 79/100\n",
            "34/34 [==============================] - 45s 1s/step - loss: 4.5111\n",
            "Epoch 80/100\n",
            "34/34 [==============================] - 45s 1s/step - loss: 4.6318\n",
            "Epoch 81/100\n",
            "34/34 [==============================] - 45s 1s/step - loss: 4.3401\n",
            "Epoch 82/100\n",
            "34/34 [==============================] - 45s 1s/step - loss: 4.1991\n",
            "Epoch 83/100\n",
            "34/34 [==============================] - 45s 1s/step - loss: 4.3779\n",
            "Epoch 84/100\n",
            "34/34 [==============================] - 45s 1s/step - loss: 4.3410\n",
            "Epoch 85/100\n",
            "34/34 [==============================] - 45s 1s/step - loss: 4.1137\n",
            "Epoch 86/100\n",
            "34/34 [==============================] - 45s 1s/step - loss: 3.8790\n",
            "Epoch 87/100\n",
            "34/34 [==============================] - 45s 1s/step - loss: 4.1493\n",
            "Epoch 88/100\n",
            "34/34 [==============================] - 45s 1s/step - loss: 3.9338\n",
            "Epoch 89/100\n",
            "34/34 [==============================] - 45s 1s/step - loss: 3.7934\n",
            "Epoch 90/100\n",
            "34/34 [==============================] - 45s 1s/step - loss: 3.9001\n",
            "Epoch 91/100\n",
            "34/34 [==============================] - 45s 1s/step - loss: 3.8802\n",
            "Epoch 92/100\n",
            "34/34 [==============================] - 45s 1s/step - loss: 3.9793\n",
            "Epoch 93/100\n",
            "34/34 [==============================] - 45s 1s/step - loss: 3.7006\n",
            "Epoch 94/100\n",
            "34/34 [==============================] - 45s 1s/step - loss: 3.8076\n",
            "Epoch 95/100\n",
            "34/34 [==============================] - 45s 1s/step - loss: 3.7235\n",
            "Epoch 96/100\n",
            "34/34 [==============================] - 45s 1s/step - loss: 3.6947\n",
            "Epoch 97/100\n",
            "34/34 [==============================] - 45s 1s/step - loss: 3.6254\n",
            "Epoch 98/100\n",
            "34/34 [==============================] - 45s 1s/step - loss: 3.6471\n",
            "Epoch 99/100\n",
            "34/34 [==============================] - 45s 1s/step - loss: 3.6222\n",
            "Epoch 100/100\n",
            "34/34 [==============================] - 45s 1s/step - loss: 3.7659\n"
          ]
        }
      ]
    },
    {
      "cell_type": "code",
      "metadata": {
        "id": "K-0-gC-t74oL",
        "colab": {
          "base_uri": "https://localhost:8080/"
        },
        "outputId": "50fc8940-042a-43ca-d583-9426434c5fd1"
      },
      "source": [
        "!pip install jiwer --quiet"
      ],
      "execution_count": 54,
      "outputs": [
        {
          "output_type": "stream",
          "name": "stdout",
          "text": [
            "\u001b[?25l\r\u001b[K     |██████▌                         | 10 kB 32.4 MB/s eta 0:00:01\r\u001b[K     |█████████████                   | 20 kB 32.5 MB/s eta 0:00:01\r\u001b[K     |███████████████████▌            | 30 kB 36.6 MB/s eta 0:00:01\r\u001b[K     |██████████████████████████      | 40 kB 39.6 MB/s eta 0:00:01\r\u001b[K     |████████████████████████████████| 50 kB 4.5 MB/s \n",
            "\u001b[?25h  Building wheel for python-Levenshtein (setup.py) ... \u001b[?25l\u001b[?25hdone\n"
          ]
        }
      ]
    },
    {
      "cell_type": "code",
      "metadata": {
        "id": "XF_xFEId75JV"
      },
      "source": [
        "from jiwer import wer"
      ],
      "execution_count": 55,
      "outputs": []
    },
    {
      "cell_type": "code",
      "metadata": {
        "id": "iah0Z4k08Ctz"
      },
      "source": [
        "def predict(data_gen,  num_elem=1, index=0):\n",
        "    \n",
        "    pred_data = data_gen.__getitem__(index)\n",
        "\n",
        "    pred_audios = pred_data[0][\"the_input\"]\n",
        "    pred_labels = pred_data[0][\"the_labels\"]\n",
        "    \n",
        "    y_pred = model.predict(pred_audios)\n",
        "\n",
        "    input_shape = tf.keras.backend.shape(y_pred)\n",
        "    input_length = tf.ones(shape=input_shape[0]) * tf.keras.backend.cast(input_shape[1], 'float32')\n",
        "    prediction = tf.keras.backend.ctc_decode(y_pred, input_length, greedy=False)[0][0]\n",
        "    \n",
        "\n",
        "    for i in range(0, num_elem):  # only on clean data\n",
        "        pred = K.eval(prediction[i]).flatten().tolist()\n",
        "        pred = [i for i in pred if i != -1]\n",
        "\n",
        "\n",
        "\n",
        "        ground_truth = int_sequence_to_text(pred_labels[i].numpy())\n",
        "        hypothesis   = ''.join(int_sequence_to_text(pred))\n",
        "        error        = wer(ground_truth, hypothesis)\n",
        "        return hypothesis        \n",
        "        #print('-'*48 + ' ' + str(i) + ' ' + '-'*48)\n",
        "        #print('True transcription:\\n' + '\\n' + ground_truth)\n",
        "        #print('-'*100)\n",
        "        #print('Predicted transcription:\\n' + '\\n' + hypothesis)\n",
        "        #print('-'*100)\n",
        "        #print('Word Error Rate:' + str(error))\n",
        "        #print('\\n')"
      ],
      "execution_count": 91,
      "outputs": []
    },
    {
      "cell_type": "code",
      "metadata": {
        "id": "-SvrRdJ5C2I1"
      },
      "source": [
        "def predict1(test_audio):\n",
        "  y_pred = model.predict(test_audio)\n",
        "  input_shape = tf.keras.backend.shape(y_pred)\n",
        "  input_length = tf.ones(shape=input_shape[0]) * tf.keras.backend.cast(input_shape[1], 'float32')\n",
        "  prediction = tf.keras.backend.ctc_decode(y_pred, input_length, greedy=False)[0][0]\n",
        "  for i in range(0, 1):  # only on clean data\n",
        "        pred = K.eval(prediction[i]).flatten().tolist()\n",
        "        pred = [i for i in pred if i != -1]\n",
        "  hypothesis   = ''.join(int_sequence_to_text(pred))\n",
        "  error        = wer(ground_truth, hypothesis)\n",
        "  print('Word Error Rate:' + str(error))\n",
        "  print(hypothesis)"
      ],
      "execution_count": 76,
      "outputs": []
    },
    {
      "cell_type": "code",
      "metadata": {
        "id": "bMGNmr7qDwfp"
      },
      "source": [
        "#predict1('/content/drive/MyDrive/dub dataset/SWAHILI/data/train/wav/SWH-05-20101106/SWH-05-20101106_16k-emission_swahili_05h30_-_06h00_tu_20101106_part10.wav')"
      ],
      "execution_count": 75,
      "outputs": []
    },
    {
      "cell_type": "code",
      "metadata": {
        "id": "mT4TvEJHLhrb"
      },
      "source": [
        "os.chdir(\"/content/drive/MyDrive/dub dataset/SWAHILI/data/train/audios\")"
      ],
      "execution_count": 79,
      "outputs": []
    },
    {
      "cell_type": "code",
      "metadata": {
        "id": "IY4-3HeG8DoO",
        "colab": {
          "base_uri": "https://localhost:8080/"
        },
        "outputId": "6c3281ae-f284-4b1f-f3b5-b84a77a819f2"
      },
      "source": [
        "rows1 = []\n",
        "parent_dir1 = \"./\"\n",
        "files1 = os.listdir(parent_dir1)\n",
        "for f in files1[:100]:\n",
        "    audio, fs = librosa.load(f\"{parent_dir1}/{f}\")\n",
        "    filename = f.split('.wav')[0]\n",
        "    row = {'filename': filename, 'audio': audio}\n",
        "    rows1.append(row)\n",
        "rows1[:5]"
      ],
      "execution_count": 80,
      "outputs": [
        {
          "output_type": "execute_result",
          "data": {
            "text/plain": [
              "[{'audio': array([-0.00518634, -0.00370944,  0.00051116, ..., -0.11442161,\n",
              "         -0.06679546,  0.        ], dtype=float32),\n",
              "  'filename': 'SWH-15-20110310_16k-emission_swahili_15h00_-_16h00_tu_20110310_part442'},\n",
              " {'audio': array([0.00203946, 0.00326259, 0.00456793, ..., 0.17463283, 0.20333299,\n",
              "         0.13075171], dtype=float32),\n",
              "  'filename': 'SWH-15-20101103_emission_swahili_15h00_-_16h00_tu_20101103_part60'},\n",
              " {'audio': array([-2.5505594e-03, -1.6648067e-03,  1.1030279e-05, ...,\n",
              "         -1.3036871e-01, -1.7237680e-01,  0.0000000e+00], dtype=float32),\n",
              "  'filename': 'SWH-15-20101113_16k-emission_swahili_15h00_-_16h00_tu_20101113_part379'},\n",
              " {'audio': array([0.12538545, 0.1412388 , 0.12100906, ..., 0.11646897, 0.13963343,\n",
              "         0.09413067], dtype=float32),\n",
              "  'filename': 'SWH-15-20101130_16k-emission_swahili_15h00_-_16h00_tu_20101130_part287'},\n",
              " {'audio': array([-0.0002651 ,  0.00076587,  0.00149441, ..., -0.17118506,\n",
              "         -0.16012862,  0.        ], dtype=float32),\n",
              "  'filename': 'SWH-15-20110303_16k-emission_swahili_15h00_-_16h00_tu_20110303_part7'}]"
            ]
          },
          "metadata": {},
          "execution_count": 80
        }
      ]
    },
    {
      "cell_type": "code",
      "metadata": {
        "id": "_G2NTTYe8IdX",
        "colab": {
          "base_uri": "https://localhost:8080/"
        },
        "outputId": "3bf0950f-d8d7-4d2c-e25f-868cbd4bf2db"
      },
      "source": [
        "sample_audios1 = []\n",
        "for row in rows1:\n",
        "    audio = row['audio']\n",
        "    sample_audios1.append(audio)\n",
        "sample_audios1[:5]"
      ],
      "execution_count": 81,
      "outputs": [
        {
          "output_type": "execute_result",
          "data": {
            "text/plain": [
              "[array([-0.00518634, -0.00370944,  0.00051116, ..., -0.11442161,\n",
              "        -0.06679546,  0.        ], dtype=float32),\n",
              " array([0.00203946, 0.00326259, 0.00456793, ..., 0.17463283, 0.20333299,\n",
              "        0.13075171], dtype=float32),\n",
              " array([-2.5505594e-03, -1.6648067e-03,  1.1030279e-05, ...,\n",
              "        -1.3036871e-01, -1.7237680e-01,  0.0000000e+00], dtype=float32),\n",
              " array([0.12538545, 0.1412388 , 0.12100906, ..., 0.11646897, 0.13963343,\n",
              "        0.09413067], dtype=float32),\n",
              " array([-0.0002651 ,  0.00076587,  0.00149441, ..., -0.17118506,\n",
              "        -0.16012862,  0.        ], dtype=float32)]"
            ]
          },
          "metadata": {},
          "execution_count": 81
        }
      ]
    },
    {
      "cell_type": "code",
      "metadata": {
        "id": "yEQnV_g98LaW"
      },
      "source": [
        "meta_df = pd.read_csv('/content/drive/MyDrive/dub dataset/metadata.csv')"
      ],
      "execution_count": 82,
      "outputs": []
    },
    {
      "cell_type": "code",
      "metadata": {
        "id": "wUrBDqNB8OyB",
        "colab": {
          "base_uri": "https://localhost:8080/"
        },
        "outputId": "d801bb66-5cc6-479b-c3f5-c56728642992"
      },
      "source": [
        "txts1 = []\n",
        "for row in rows1:\n",
        "    filename = row['filename']\n",
        "    filter = meta_df[meta_df['filename'] == filename]\n",
        "    txt = filter[['transcription']].values\n",
        "    txts1.append(txt)\n",
        "\n",
        "txts1[:5]"
      ],
      "execution_count": 83,
      "outputs": [
        {
          "output_type": "execute_result",
          "data": {
            "text/plain": [
              "[array([['moyo unapata matatizo unaweza ukapata kwa matatizo kama ya']],\n",
              "       dtype=object),\n",
              " array([['inawezekana kwamba watu wamekerwa na hivi vitendo vya mauaji']],\n",
              "       dtype=object),\n",
              " array([['mambo ya kikatili hataruhusiwa kuania nyadhifa yoyote']],\n",
              "       dtype=object),\n",
              " array([['au bidhaa gani wanaweza wakauza nje ya nchi']], dtype=object),\n",
              " array([['kwa kuhusika kwenye mauaji ya raia wanaoshinikiza kuondolewa madarakani kwa utawala wa kanali muhamar gadaffi']],\n",
              "       dtype=object)]"
            ]
          },
          "metadata": {},
          "execution_count": 83
        }
      ]
    },
    {
      "cell_type": "code",
      "metadata": {
        "id": "BrK0QmWb8PQb"
      },
      "source": [
        "txts1 = np.array(txts1).reshape(-1)"
      ],
      "execution_count": 84,
      "outputs": []
    },
    {
      "cell_type": "code",
      "metadata": {
        "id": "KzMf7Q0F8Q1N",
        "colab": {
          "base_uri": "https://localhost:8080/"
        },
        "outputId": "2d051dbb-e926-4d14-fcc8-82cd0c246c32"
      },
      "source": [
        "txts1[:5]"
      ],
      "execution_count": 85,
      "outputs": [
        {
          "output_type": "execute_result",
          "data": {
            "text/plain": [
              "array(['moyo unapata matatizo unaweza ukapata kwa matatizo kama ya',\n",
              "       'inawezekana kwamba watu wamekerwa na hivi vitendo vya mauaji',\n",
              "       'mambo ya kikatili hataruhusiwa kuania nyadhifa yoyote',\n",
              "       'au bidhaa gani wanaweza wakauza nje ya nchi',\n",
              "       'kwa kuhusika kwenye mauaji ya raia wanaoshinikiza kuondolewa madarakani kwa utawala wa kanali muhamar gadaffi'],\n",
              "      dtype=object)"
            ]
          },
          "metadata": {},
          "execution_count": 85
        }
      ]
    },
    {
      "cell_type": "code",
      "metadata": {
        "id": "AZHk-bzr8SsY"
      },
      "source": [
        "clean_txts1 = []\n",
        "alphabets = 'a b c d e f g h i j k l m n o p q r s t u v w x y z'.split()\n",
        "for txt in txts1:\n",
        "    clean_txt = []\n",
        "    for c in txt:\n",
        "        if c not in alphabets and c != ' ':\n",
        "            continue\n",
        "        clean_txt.append(c)\n",
        "    clean_txt = ''.join(clean_txt)\n",
        "    clean_txts1.append(clean_txt)"
      ],
      "execution_count": 86,
      "outputs": []
    },
    {
      "cell_type": "code",
      "metadata": {
        "id": "WQAQp7Aq8UPt",
        "colab": {
          "base_uri": "https://localhost:8080/"
        },
        "outputId": "ad2a673d-beb2-46ad-8173-858462761536"
      },
      "source": [
        "clean_txts1[:5]"
      ],
      "execution_count": 87,
      "outputs": [
        {
          "output_type": "execute_result",
          "data": {
            "text/plain": [
              "['moyo unapata matatizo unaweza ukapata kwa matatizo kama ya',\n",
              " 'inawezekana kwamba watu wamekerwa na hivi vitendo vya mauaji',\n",
              " 'mambo ya kikatili hataruhusiwa kuania nyadhifa yoyote',\n",
              " 'au bidhaa gani wanaweza wakauza nje ya nchi',\n",
              " 'kwa kuhusika kwenye mauaji ya raia wanaoshinikiza kuondolewa madarakani kwa utawala wa kanali muhamar gadaffi']"
            ]
          },
          "metadata": {},
          "execution_count": 87
        }
      ]
    },
    {
      "cell_type": "code",
      "metadata": {
        "id": "GzsA2aN_8WUV",
        "colab": {
          "base_uri": "https://localhost:8080/"
        },
        "outputId": "56f76cea-8fdf-42e2-aa43-a721706ca776"
      },
      "source": [
        "'' in clean_txts1"
      ],
      "execution_count": 88,
      "outputs": [
        {
          "output_type": "execute_result",
          "data": {
            "text/plain": [
              "False"
            ]
          },
          "metadata": {},
          "execution_count": 88
        }
      ]
    },
    {
      "cell_type": "code",
      "metadata": {
        "id": "NRzM53wi8YFy"
      },
      "source": [
        "dg1 = DataGenerator(sample_audios1[:5], clean_txts1[:5],5)"
      ],
      "execution_count": 89,
      "outputs": []
    },
    {
      "cell_type": "code",
      "metadata": {
        "id": "Vau5kgpR8al6",
        "colab": {
          "base_uri": "https://localhost:8080/",
          "height": 35
        },
        "outputId": "46c60f7d-bcf0-448b-838e-8b9cd8120ac1"
      },
      "source": [
        "predict(dg1, 1)"
      ],
      "execution_count": 92,
      "outputs": [
        {
          "output_type": "execute_result",
          "data": {
            "application/vnd.google.colaboratory.intrinsic+json": {
              "type": "string"
            },
            "text/plain": [
              "'moyo unapata matatizo unaweza ukapata ukwa matatizo kama ya '"
            ]
          },
          "metadata": {},
          "execution_count": 92
        }
      ]
    },
    {
      "cell_type": "markdown",
      "metadata": {
        "id": "eYpSha0TUGYZ"
      },
      "source": [
        "# Translation"
      ]
    },
    {
      "cell_type": "code",
      "metadata": {
        "id": "e1KUEfrgmA-7"
      },
      "source": [
        "import os\n",
        "from google.cloud import translate_v2 as translate"
      ],
      "execution_count": 93,
      "outputs": []
    },
    {
      "cell_type": "code",
      "metadata": {
        "id": "CMGrT8uFmFRD"
      },
      "source": [
        "os.environ['GOOGLE_APPLICATION_CREDENTIALS'] = '/content/drive/MyDrive/dub dataset/neon-idiom-329606-c374cf0ef0e7.json'"
      ],
      "execution_count": 94,
      "outputs": []
    },
    {
      "cell_type": "code",
      "metadata": {
        "id": "wbVWTBoHmM_T",
        "colab": {
          "base_uri": "https://localhost:8080/"
        },
        "outputId": "5a482506-606a-42d6-e1d6-2b09583bdc87"
      },
      "source": [
        "translate_client = translate.Client()\n",
        "output=translate_client.translate(\n",
        "    predict(dg1, 1),\n",
        "    target_language='en'\n",
        ")\n",
        "print(output)\n",
        "translated_text=output.get('translatedText')"
      ],
      "execution_count": 95,
      "outputs": [
        {
          "output_type": "stream",
          "name": "stdout",
          "text": [
            "{'translatedText': 'The heart is in trouble and you may have problems like that', 'detectedSourceLanguage': 'sw', 'input': 'moyo unapata matatizo unaweza ukapata ukwa matatizo kama ya '}\n"
          ]
        }
      ]
    },
    {
      "cell_type": "code",
      "metadata": {
        "id": "BjtaHz0uL_Ek",
        "colab": {
          "base_uri": "https://localhost:8080/"
        },
        "outputId": "c3df790a-ba4c-4e28-c0f4-eb47c5098813"
      },
      "source": [
        "print(translated_text)"
      ],
      "execution_count": 96,
      "outputs": [
        {
          "output_type": "stream",
          "name": "stdout",
          "text": [
            "The heart is in trouble and you may have problems like that\n"
          ]
        }
      ]
    },
    {
      "cell_type": "markdown",
      "metadata": {
        "id": "hjj-AlfKUPoK"
      },
      "source": [
        "# Text to speech"
      ]
    },
    {
      "cell_type": "code",
      "metadata": {
        "id": "dv5kkWEtmS_X"
      },
      "source": [
        "from google.cloud import texttospeech"
      ],
      "execution_count": 97,
      "outputs": []
    },
    {
      "cell_type": "code",
      "metadata": {
        "id": "-cWyctDpmTsj",
        "colab": {
          "base_uri": "https://localhost:8080/"
        },
        "outputId": "509f8bb0-1344-47cc-9609-47e040c56ec0"
      },
      "source": [
        "tts_client=texttospeech.TextToSpeechClient()\n",
        "synthesis_input=texttospeech.SynthesisInput(text=translated_text)\n",
        "voice=texttospeech.VoiceSelectionParams(\n",
        "    language_code=\"en-KE\", ssml_gender=texttospeech.SsmlVoiceGender.NEUTRAL\n",
        ")\n",
        "audio_config=texttospeech.AudioConfig(\n",
        "    audio_encoding=texttospeech.AudioEncoding.MP3\n",
        ")\n",
        "response =tts_client.synthesize_speech(\n",
        "    input=synthesis_input,\n",
        "    voice=voice,\n",
        "    audio_config=audio_config\n",
        ")\n",
        "\n",
        "with open (\"output.mp3\",\"wb\") as out:\n",
        "    out.write(response.audio_content)\n",
        "    print('Audio content written to file \"output.mp3\"')\n",
        "    "
      ],
      "execution_count": 98,
      "outputs": [
        {
          "output_type": "stream",
          "name": "stdout",
          "text": [
            "Audio content written to file \"output.mp3\"\n"
          ]
        }
      ]
    },
    {
      "cell_type": "code",
      "metadata": {
        "id": "BCIiV1cNjFwB",
        "colab": {
          "base_uri": "https://localhost:8080/",
          "height": 75
        },
        "outputId": "048c905f-2fc8-4c0d-aa74-0f0fe031979b"
      },
      "source": [
        "import IPython\n",
        "IPython.display.Audio('output.mp3')"
      ],
      "execution_count": 99,
      "outputs": [
        {
          "output_type": "execute_result",
          "data": {
            "text/html": [
              "\n",
              "                <audio controls=\"controls\" >\n",
              "                    <source src=\"data:audio/mpeg;base64,//NExAASednIABjEmJWGFhA4YYQ6WKZO83lZRxaP///9lM0spkZJYzsf/2Z2dFQruz1Rbd2dnZjkX3cioqFMwgHG/+aMuzAWaZqS5iRUgarQFhMAAskaLoNzhsxXzhFC//NExAkR2MZEAMsScMEvWeSPBSDR3aAZFTTs/OFDf+weVu5MyxEu2uyK1nBcnR05BBBECE/cD7wQBELjz4nfyeceyUd5ch5fT//yFUsQwMFQUyZWN0NjcYEeTjAQ9P8a//NExBQXISZoANvScCVd70IeOAOM41WrI2zoiOKry2KilIb+0zEiQuFw6H6IxdARtsay+dQ3c37df///6m+AZ67HXorcGIEGGbX1Ms/9rP3z/y/RJqV1oUrcBTAb+EZJ//NExAoSMQ6IAMsKcMW1NZiFOSVAKgYgjRPuQObTP3spTJlqKCKj2RAIVRNNdp3nndCCiOhlw4wTyn4q404WRphByo/36vif//6lLZH72KEEAK32mAb4BeL+Dgak5xBz//NExBQV+S6gAH4ScN75RcnLdSSuP3WDtxenuRiWICRckRpEAUCgBAQOigRm3wYQQuGVk7hkpZBiK6NSpIGJ9Xbbxo97nE9n///v1adrsnvQx/uANhSV8Lgt5xt1QoMv//NExA8UwSq0AMYecBKbTzZCY07nNpbs35duNc5vk9B2bLs5czQByMu7L5BX3w2V/1H1rOY2Ptq+/DgSW2pJSYSgTchsD5ho8b/////r7OgUfJQASpVrIUQdosE8lsww//NExA8U8Tq0AJvecHYr3rEXcEwUzyw3FTEpY6Yu0QW1m3BNiDI8QwkJzY1S2/93+K/+8Cv87LW76aLTT5xqJjo9lJUgxwq9oAFmjf///+7/rud5KwOqFYdcWLc0Pp/1//NExA4U4Tq0AMMScNeJJtWoBRFOF0YItIRwJJidkSQWCYFg6ORaDR1GfyKBn6/7X2Prd8pakxFLYtzyDmHmiAME6lrhM0XWtknT//+rd/2faRpTKF0DEbJY2nEW/GIJ//NExA0SeT64AGpScN3BJYBAXEaCZgoKG05iUsTEi2QRF8xa5tyz7lfYef9pwmp5utlzujV4JBoBjjBoy5pFAqJ0FNye7////9FuUA/lZe5mEc3cbrK914vpn3BoYKxg//NExBYQKZq4AEMGlSGe1NUCcdTLmKV2A1Wyd/f/i6HbAwoCRBQwzaAzMhjMvyN6YwJpoHRtf5LtsaEadSyeiaNEmWjHYrGycyInExs+GZMPSLIEc4qzyU2panWXRW1V//NExCgQ+YK0AEJKlIgeEWERwaHUKOlyIdOw9SIQigoeufXz2j///9dusAKQvOzFwLXG1ZrFwcGefaGgOZlytTiLfdvZm9SAk4c9kygTy+fdJRmaN1ffq/01qNCEIMKO//NExDcPySa4AGvacbIPZrkc8wPTKm6INMYj1GQJg4DRPkBJxtvl99gIyQvRB2LolwUZFNIc+baIguySHN0s7R0mu/jgze/+qKdSsYjo4MEUGpQ7K6WBdOYuH0nv5fcZ//NExEoR6Uq8AIYEldAkFR7EcGMzU35TvqpVK7mF2w6YQh1J/emlKGq7jc1QuEzOgvZ7xpcrf/mR/5l/m/3lP1JhBwNAVF27E5KUcECAMgwfA1/W9M0D5xgJpmCxCEC4//NExFUSOYLAAIYGlFDXwpgfQBuXvG5hhAfwBs16tkY3QlwxDojNaGminIlK1tGy//IX//1SOQlZ0VmAjEk725oRnrCNqzhNd6n6YICBOHlGC0AKoAZyexnjDUrGtVZ///NExF8SOZ68AIPGlfNrNODjNAt5UscCoAStAyWX+YRKL2N856gm+V/mJtqjvMYUNukMDfMVnIyGDGMIJChTqr6jpMAFNOIFd0Rngg1j+H6j4gqsJTZ5Y065RYsi73US//NExGkSCZq0AI4ElXxZcTAldbfMYdcTv/mdvKV/RF1tJWRBQYfezG5aldXaY4z0j3XymWwR+KyaaZsTgLLhMb72gaQFhqWyzdbVPEGDT2OuaqtlXTu7WxprTo51uJ1U//NExHMRAaa0AJ4ElKf65S+jF04is5sgkOFIXNBcJWOuc9pRHZdX////+apvhS42oQKwJ5ndq1WqQI8a7LuDGbjmOq0aDr0HQ8VhmGgtk2LoWYk0o80Vrhv6hrZuOOHN//NExIITYU6wAJ4GlKiphhYdUPAQOBx4VxZpaJjwjMq1Gn/FjQFoxU7iz0Po+qob+CwQksNDJPFyT5tYQAxqz+1meN3h+m/IByJR9JJw6VJIJkPRDJOtaFZeO1kJnT5h//NExIcVUTakAU9AANspbexqSSRsu501MRfT6Sea2i0245ZPLOouaaSVmWTlZ72105vTKqXMlr3to1uWmFpXUuj+u5jh19XxUvO8qutVwNCsUq16jO4qulq9jXH7kxeQ//NExIQe4pJUAZlYAPc7xihbU+9/nXTsNDh9JdqXX337rheIv65v96zurf3W///in93KzYmVFv///4dVa0l73jrHe+Ef4pjKYzY5x8+iPBqSxAZkb0dJ5NJ40jkeDAQy//NExFsf0yqsAYxYAARB19fN/3/2sbVnVXG5u4lB4HR4JZUeD2CANgWKy8MwHw5DpypjYDYAs2AxBJc3///+v/+q4p+7jy3GLbvxU/sOHVdzULfr/3EpFPaRkig0h5oe//NExC4b6w64AcFAAVcO0UN0ZouBhYoQKCxpUliASPF5xwsKkHUItuKBEOmilDAuRZLDh5xJR2IZgfCpp1EnKOOFhoyx8WUU1DYYaHoJJe4b1K3kM5W4SuvBAIQBqPDT//NExBEV4iK0AMFKmBUa6an85+RDvotutHcOAIJh4saJGGOVXiKjAoJFOxVdWWv/m0M69Vd2cyaOy9+xqlFSlLEXDQBcIklgaftnsKgqMJLiUr61vfq7AAEWCQLs7LQq//NExAwT6TKwANNYcCTjgwTJkbyZfUamyXLiWpZettbedr03fdrswnT2wksak567DiJbWuldI826jSP1OlftrCrSgecCDiDf///Vp7F3I+lS5/7vmiTOTOUvBEYddGbm//NExA8R2b6wAMnUlM8J/HCT6jXzmTYYXcfIvPIxFHE9QmiyPWQwRJLRB4NjlPKiKITUq3/X7/boprWKd///+nR83Rq9NXrh1wuCLJ5IvgnCpFp5dK3J+HzXEFf6YQqE//NExBoROx64AIBEvFkfvZGQj/////9///6f59/VUbo2jORbO6MHoQQpTqemqqLRmSEFrdzncQjX9gfJkxbVP1U2v5H2///////8H/9////7cjdf+//7qrPdUkV1rnVU//NExCgRsxawAHhKuTEVCOqIqiwqxc5w4gTUoQREOJsOUaOHHF3HiYCipWL5lCoLgHE94FAIXlH//////5c3xkf////f/o1PVft+33Zktal0ItVW77OiXW0iIZZXOgkd//NExDQQ2x64AEhKvPUylOUgmMRUqcUCZGFodNXDL+wyQxolXK9e0a/IKuXFuZJP0Psn1HGTQaNuOFpzsFy7F8bl00J0mmFpWxQh/9N4nVJ//5Z6u/TK4lOqPUoCRoOs//NExEMRmTawAMyOcFuBUkqz//mIARKOk7yAzWWF04pm0WH9A1ugb5hUnMKn0AYr/KQEQTzQ5LTQ3P3CJobn7geh3kgvtlnT/Pc/8x/zFfUwyKaeOSGArrrPv7qJllEu//NExE8R4bKwAMlWlLSyvHASWHy9iw9EgOER/UGoj/qOP/YV/4KP5gYUH/FgNBcHN12pVV6lTciosDY0+Ne7/rr5qJ9rlfa1tGU0IyOXY5UsSCycynJEm3TKdLWMZAFh//NExFoRubqwANIQlDB2dJXl40Avd/825TnOYZLyilf7/sSDLsUHQsLCalhhYbf7Mnw09dCw+v9mywFUKpBeryiA4IM/T21OwuHVvGH9D6h/7EXlTdAYRt48uWVlrgyr//NExGYQiTaUANaQcGqrZGRuzXUnWpMQEE0ya1oCNFk2pJjyZWsra2s9qf//yOla8hlbDxGATDpFODtIiJSYFaJl2TIY1Di7DVW7F2QAoNP1nUpJtrMpxqAiyZEmkm9Y//NExHYRQSaAAOaacBj798Zj6peFd7EtmESBQwp+jb//+ioDA8yBFSIFGBhKWWAwKAIpUgGKsRgAONUEhQGgwKhQAqW0UZAlAigzhcQ9Jj2LUAHwFdH0S0tEmEiiarU5//NExIQRkOKAAVx4AMHiak8crOTzUvJMjZAwROKN0aSalIJ+6SK1qupS2QtV1KN3Y2Oup7tosjd1/qNUT6J8CpPvJr7vKAARhIJCFbrEVjLeia2w7D918Kh6sPP3SV8s//NExJAf8fZoAZxoAK99NbHG99y981wa2q/OnPZXZ546zpBwYmAwG8pOMp73jsRUJZMXOLDvYNxOUHaCxzN779gJo1j2Xn7QHxU0ByUjvJ0kMWn/Z9/f2udagaGlQm/d//NExGMhmyqwAYhYAAuPY7i4zWURzFD3+xnX/+XoOUbcLTup7POPZBoctxPPQblaVWl/ILFLQze////dyvWT5Gu32K1dG29ey0RoBRRxKMEiZIQskhEbLESQWyFa6JKT//NExC8eMwawAcFIAQ8JDROwegQsqU0bYXKjyJKSy/VTeZibvIyykl8majislXRanh/IbK4RWh9WqNJz+pRjVybqL6xhbM6sp3HIZiUYySykCWrfWhqFZfyEnIH5qxhx//NExAkTIQa4AAhScbcWshNdtkjGHxRVLU5pbBt2RzHpolpokiz7eUjUui2jBfrY9ZmYFbyfXQ/pWwUd99ul75v42y8b032fX+Y0FJ48v35l1jrOgBhgciTduNHQDiHn//NExA8TYPaoAMPScBszHHPxC5Nsi+W92/wz2YJorG8oOWqSrAaYbTmy9P9klQ1VNUws0IXnhK0FgMVO/IJ+SQWT+7//1TO7X0dWpfMwE2J9LkxAiIdYsW7l0AICH7yv//NExBQPaPa4AJPYcAMAJS5ba0+Lgg85T43xC2hLEMAMuHzDUB473Sxetfo6ubhu2FAsl3+nWugKHEFkzFx8ATSK8ypCBGUu+AAsaAandum/l7KpKGKT0VtLeEwP5ygs//NExCkReRa8AIYecGtqGL6QINf76trGIuLe8kKN8PKrBytHoeKGRs1Rz/9jo1aJzsPiIzN5VSsDUKDyyD80llS0na8bWbLdSheCYshy6juwyWU3ZuE75+5mz+Vu7aBS//NExDYSMYq0AMYElPHAWRAEzat29ytppOJguBXDf6GLYxymOAVNNkrDUEIJAMkRTkQBmo+cTIsTGrkZsvtPvSehqSwvVcbpLWx+yFuU5LY6teq2a0TRLWeqeJjxEJBU//NExEASqKqYAM5eTHB3Pcs4RBUaG2yKBwCC4BLALC5GOCqgyuIgwCA4LJ6u8i6tySQuBK8mcqqylauscc6WzoWTIk81DGrWl1yrfDjCzwSi/TSR/o7f+n/0frp8CgjN//NExEgQ4KJYAVxIACJBfR6xMz8mpBugYjm5RFGJN17oMA6A5Zh6In48wW8YIA8ARQgHykSiRcYEeE3EEEvF78lDNM3UwckeA8iIon/2Tp8OabjLNymXBg//d/pnTjF4//NExFchMyp4AZhoAPGc+Q//1IIa03N1MgTiKsoR6lwlh7HCTX//63Tf2W6dDMTI8cTNkFlZokajUXazZq6BmJS5MhaQINITU6XiSLMWFbaXNsbbSm9XUHj0uoSqGocR//NExCUQEJqoAdh4APqsEUEo5e6HsWek69snULFAGfD/vk3lGtFD5OrvcqoYtzc6Rh5uTCa847IDK1O7UwnvrV2WUeVtLSD6tlqqiIbpotMeCTzNHoP/v2fZ+g63QM0E//NExDcQUUasAMaacKo1qdISD4JPBGTq5vmYCOyPDywHGlcWpIJMfJDCpNLHWK1UjE9iGrczDC6RmmCGxRTU+4pprrNOm3bp6+/fxYyzAq2H1o2puhWRRJuO3f////1f//NExEgSQaqoANSKlOizrscM+CKalbilOULqQs8LStUdhXJkOONziwkItry4FlBgcJ8Gnh9KTDkGzPNed9+nk9+vk1UMZo7dGrEeh+NHEhHus////dYymrd249YWQ4/K//NExFISYZqgAMyKlB9wsRGMglqOoFDs0EAxMpGgtp42cM5HagZFsNKKrHw/EHgPPFqQ5/nfbo/T26+/YTeCfu1FN0eqgMCHU8x////d9FXd+q2Qx0x5rFcZaG+DOi9z//NExFsSiZ6YANzElDk8/ybR5rN959fmo7+F+spbbqZxwABjyPGAbZpelqW/fqfr9vfq88aXS97GLWchhgr///9Xo/6l+plHTPoYEzsiEEJlH1lQXFMjMFL3OwxI//OW//NExGMR4T6UANZacM/+qV88uYMKYMUzUiBdQ9j0LhKCYEoaHR6HXWZv31pv31u+gX5AxFv8+cE7ZtXefxA4BM9XWFh1sW0Ong24aKz1Kpd/ZW07v14fl3NVJ75hOydd//NExG4SESqcANZacNOCuTVMA0gJXPmbn3bgp07k7e05Stpp0cd22qpK+iiqg9P9apXTVVlGjNyp95UAGAkEnX8FIoKo2C+QKrxjtM2WRSE6eIK/by1Quvw/F0YUgpnK//NExHgSGTakAM5YcCbyJ9jtCZMZHHuMSxrzej/35z6m6kLSNWJRtRwQo5x8APAbtDgaaT3mPACaRfIcgt1eiN0SkMsZYk9nriy1+2sG6o4XuyOtvCleiTaSNhxuyUOD//NExIIRmaqcANLUlK6AjVPJ36X6qLLSdeMsOMHAE6cFB4Ww3AhqRgAYGwpdIAuGnlsw2BdN6aiCwP4bUNoabrCyYv4qoM3TufpxnqTcvwFY+lwhPFXOKuK1///////6//NExI4RaRZ8AN6WcWp3rzpjtSeI1JOjpAFgDikf4s2BfExugjUC0C1wMG3SipqVSw8vvL/xNzaShYueKDRcu3fLIB8LigqDc2PLcXukqBQUFB0i4oKFnGMZpBZ5YuLn//NExJsSEPZ4AOYScIpPT2hYuLn0WLnoWH58WYNPeXSZ+XhK7l0rSt3ubdkdJdPLPt5/4PPPM1mWR+1IyhyMrLf1uUMmTRgqNE60fEg98iPAbO0L0Ui83k52x1lZUnKa//NExKUfuqqMAMoQuazoekZCYSgHbVF7Hy57kDAJND8g82og7pEDokSM0aXQtlS1ubdiIXOkCKEYRypVNV0vJbY5dxk1L5TeosTcTdivEzE5pGguKb9u41zXizb2i0qi//NExHkd2gaQANKSmbtZR8zrivhAIrzBxCHZphLctooILoX5br1GWx5tW8UzMEzOFv2TsWd5dIRu/fxgszRxT2qVor7AnvSWD/55Badwkne0OVf7Luoa5L0///4or/0Y//NExFQVIa6YANHYlPqQTE2wA3RJaBTs/MGkQF+SyegUaMJC5gBw7oKeN/fUecZtqOe1+voL2FirBXJyyKkfiAcrpQON27qv61LWjj3Y6ykW94Y398rxrdf3hr18o+31//NExFIZ+bKMANqwlH5Wg7OrvC/u7aj//8KxX/g+bqYBzdO3dsP2bmFPnDjliAzGzVgD4ryGAtzpoFubrYM/6SZfNaf2+Hut3h/KLFF/YdXtKqmS1EyYsGMiQYJtT4gl//NExD0YqbKQANselPnFxzSPXOHLWvW/9ra1l7eJ25nlxmFXHhfdsRtIyP/////RaJtKZNhGmInfGhhQCqZaJokUYISsaWSncfaSeVmjhyBM831aVbypGnOPBDotGZvb//NExC0VSRaEAN5YcFhkP5ZqmCbPtndsB1BG0pHRrm4VXehnN6QnruKYsNcSnSz1Ay4tLPXVl07GSEKOzkRoSdRUhkecbmFrmdRDqcwDHbfVZo3lcgtili/Kk7ZR+ckG//NExCoSYQ6AAN5ecYK21KUHwP+M6YlREvRppXD+JR6ulDqFVg37Nu8+k+qlkNfiPZsUALDzTWMEpgZquDRa68FlnwGSES+Am6UVi9x+X7v7p4EqYRlxCFlzTzINcuCE//NExDMSkPaEAN4ecUCV5Db3JjkmisK6cFUoYCvkgQoITDB1Falb5QI6IOp38fcQGm0UAiDUgEDH2ecAv4x42W850fPeArIGsYL5SthgIB6d2HACBMXrxDCtHSq97aTS//NExDsTeRakAMvYcZu3+80YcukIGR/8R+DtT8Ij9gDe9dQRCUIxHpSSNEuRhMZrwpsDMcWH46hwXm896GWwQG/ecNPvEIcqU0iciLy+7IIf/KBrLeUMEl8HULgrWtMR//NExEAdKa6sAMYelJPucJv0zwmrxlY3ourmcjCmHTAu2nGcQ9Z3fHve+ZqamzNNm7VO/94VwuISimn2j/////9F/+ZBb4+9MIsoOQ8NtpPRQj/cYSuOZds+7NzjHvn1//NExB4S4T7IAHvScYJ6zjUUaasHttLNFTkjQ8UFaBCXm0zN7a9NrJQYVmYQJM0TctvDuECScjRWWWX3CYhyDV5ImgPQmDWQ4UkJ1JN1JIlJb1l1B/7ESobZZeXJs1iW//NExCURmT7EAGyMcZQKEANJZIkeEEsk5Ya1pQkRHnJODNUTXVStewMbqu69/2rf//wCMIr//U29Ri2LJtLLEAOD/+Ch9/6p81r/y1p/UllWK5CKSiqNJUUiVEGFJW4l//NExDER6Zq4AMoSlUSCKFCxLP92Ne/Upw+ylc1KwCzFPq/t3//y0XIKI72puMrKNuJiipnAO/L/RvqZ9W+VbMYXAOONPEuAgVmlxQqmhLNqUVjHzkPTuPeiE3HWHdP///NExDwQMZ6wAMnOlP////ep7r9bqDsSZ1fuPKQGJrdHtQTDCXOdE9E3S9q6p+9/257k2J0lB1EUi5OJIWMoKcxb/Z/fPv//xt7sz42K4x////3f/p9K/zS8MV9UbvR8//NExE4RKbKwAMlMlH8PJ6hlkxIQwECCR9b4y/fb+y027sXu42XnPbI9XTVLuSfhSQOsyFaFqbbu1m3OOsc81IteLPFV+7///p/qVjaAsAo7ItTfqdttsMLDAkJxWmjh//NExFwRwVq0AHmSlJUOdRjCDCPdmrMxFRN7zhKs2w25JATNMsWffBGswe6z3AuJQ1YAso7aPcb3JfV/////q671i6BXZdZNj1xfuAuytZq3eF3AHb5pg+djf1yBCBGs//NExGgSMTK8ADpScMZJgHPt2jkKHyvOYQw2PLzxBr6805MkQRGEwtpSwy6JnC6ZPTVuoHAAktZwShPrueEBg0c1h3boIYrGl+OccUAZNf76B/paF24bg6UO3Dhq9eZr//NExHIQ2Sa8AIPScG8PINv7QHuMavO4K6e2IBNw93zsfJ/tTeHVZtLq5zW6Ack/29awC6rGOVhZZmBYpKvlgA2qe1v1sM1yv/QCgFndxywTrhFrf7fnHoXSlBqztEIZ//NExIESmR68AG4ecWNOhGEqJjX5nzfVvcuzBDqyumrncPfwjM9v3IgmmbisVtYxcEHAVZFr7AXAX67aymoJne8xDICYhionSQRcdc6bi/3Or7rvhzW9onQVQDTKforE//NExIkSEZa0AMYOlKJXA1/1/////+kezmGAPgKgZb2CS5FmlRK5QkCp0igiocHRVxaRI0EhCytQ61vY+kqoWOrq+lxpjjyLlukflm5ptXNCxYrQtmExqhZTBm5RtE02//NExJMSgRakAMYWcAyllvludgN1eMguRBIDHoKmSzbHyp2w6BZZFVhUiSCg90DLInSra6juEn1AVlqbFLlR/WoGQyEkuypFyjzcOwESKxXiVgAULkRYABAxjKTKHK67//NExJwQQEaQAGLSJAxa1e4rh8+tv7g0xIKErirpISh2eDQcqKuLHqjwih3PY6DUGtkmSW7OrBV13S+IWh1Z2jK/u1fjw2q/7M0fzlhyMLhX/oJeNCMaBWW5RykkPMxN//NExK4SeFJgAMPEJJqVmUfmhyzQDBiGgl+vhiZ9hUsO0Riuv/YyofZaOs3HeSDfrvqqtkMhg9j0WKE8hBo65iK2/VXzvYTCxGCMVhubf8d/3/HxUTfbz5DNWYwmEw2N//NExLcSmH40AU8wAA04/r2df/19xzXUf475NC0wXVONcWQkBcDaA2tP7IyyOzBiSDwXrQpI7q1x6BKNz67mnzhLB2CIZiKAWHA9Mp595HNzI846aHpJrGUf+WHjo72P//NExL8gwyIoAZxYASofz9l73++5UQata2ky4s7vfT74q4qG7GvYnJ/Wm4b/7P/YyrZb53ulGXXcbHOlqns//9jP7fvZM2fbVtf7mvRlbe+XqHn1gK59ERYR8JGP+GfI//NExI8gmyqgAYxYAEjIAEEPBII8FWMd6ij9QtJHQ8u1IAXhOQGgYwJEF8SJUlzElCCiUCVJ5qcGUUUS6bJKRSWoyl5KYlF0anSdJeicSu9J30Ul6LrNWRd60WZFGtkk//NExF8fqtqUAc9oAapKttmWj9e39Tq/6nQU6TspPuq1lKXehWYxinRh2TWas2NzBCBNvSQHKxyeHjPICce6TjKNGCEHAhDwZ8oEWANhYoni19HQGDD6yvG1hAAaB5hE//NExDMfOw6UANZEuRuvGofjbF4TZuUkOy6rVp4Djkqh6/g7Eryqx+H7G69jvP9T6E6M16yFoQ66EbVf////////3KyyGu+R1z1kRWIQp6kIQHEQaB4B53eUVG+yaPWW//NExAkU2SasAMYWcBZ5gva7SI7n+IR2a40YEUX9GqsQEBC3MKvStaZOp8jzR2AsCdflB77Ti/fB7cxGppBpJZm5PORvOVHInIlweJiAygEP//////2dKv/6hACGitSr//NExAgTgYaoANYGlBQLkyhRAsTQzMjBKCOLWxJAK33PpEQFY5dlFxGcAqWd92ZWNS81ciNn/1cy/0P639bOQGSkCChitZf5/0r4R06Cp1Z6LeuRcz82pCCSl9SRh++e//NExA0SMWqUAMPElBLmrAmBoKiAPT8V8ECSBjO8GEAHgPz+GboKUMFUO4sFW3i4hPt/wtf//KXQMbMBCtSl5ehugYysNRM+RkWwCAhcAMBGzon82xBMAAmpGMlBUBAc//NExBcSoIJUAVtgAAz3LuSNY6gKafRN3QCsdtxmgjVavISjgO11qInQ6rYCqyynLTwmbiU6wUvccZ//+3Sy/oqD4HfyBHmFR44xuH0QEJGP1rDpOTyUOm5BGFFl5LmB//NExB8ZGmKIAZhoAKMO4ZQiA2fvUyYc4gEsTQun5upkFxFj3GHJViX//y1kxsHugSH/+3MTdzQlzpxE1////SNDdnMjRg2Hv//CIIBcPhkAAhWUy2kiYhPgJ0/7DWAG//NExA0SgS6cAdpgAM4oBJINo4Qt9nNtYYUNHjh2pZrUwwZo+V0EqcjEMZMMQWd6ClJmu2rSfa3J5w5llEvtlKM2qHHiLwmxzI3WWNMYgSTUmm4OH8RoeLvu4Q1BkmfY//NExBYQ6SakAM4WcGJd/1335zupnndxN0wmKYbNklgDvh0TXL/5fVex3acOtrDsLDzrkpUce+IDUPK9rccBrTNO1fB9TrU0ZRePcF1+WSU1nJdJtfBj3zpIrf8gfkSZ//NExCUReaKoAMvOlOmGRreLNV58s+p3UhsNSbuYEr6l+vt0N5XSKzKlTGLf1Z+7lAJh2rtnsxQgJ0ZnbyBiR6hM8COoitx8FXFxqU6vrSdMeNozBd3v2YIdM2bty0fi//NExDIScXqgAMvOlKTkWSpHjxKagLiVDy3Vuj8k2VDRZ1bvrakbiC8zUQSbe0aFgIkeKeCmWNRYYfGgGpfwUJvapo6/dzd1TGU3JVJwZSsUamdi/c56oqB91XrUrQ53//NExDsRsO6MANZecPbUj/bRI8GnIOf4bYdmMVpGCEAHLaEtYEAXMFwIDCRltNBIPpI7VqCll5b1HX63rKaWfvV3huyOWAZo297hHU0b8iWiUwuS+X+8s2vXM//zE/tB//NExEcRwSaEAOYecLOtwAQwkmpW9DZw5WNTL8G4iUe96odrN2OmseAqs47FdXgYOCkbvLQkRej///fd//lwx/riDl5Q+oMVDXh+scNWF7+PX8DjRazTNUMSUIYtuUu7//NExFMQgN6cANPKcKyxMAjarWmqqp0WCNUjspX8zLyPqjf6/9/vnnuWVMR/dvnY2Kjb6FN3XR9jYUbEQw+rtdXF23PsayoNLYymMUVqiXNWZMSRSXPEsvQTRssJY+Jm//NExGQdqyacAMCWvKXNHYaEs3NTcoQOmojA5Hcam1Jz3GLTh130/8v/P/y/2/z/zf5//cxU91xXV8+//zc6d9xxHVXGscvvRNpIyx5C1e5I+EPMcOJo9rIUTjhEQXEA//NExEAVgx6sABhQvEg4SXQ8ijRFND+5IEhAUPdxWg8MNKW3XqHYBx3aZA4eiG+ZtWimC+P5KMkW+///L/6f3/nfQ37G308raO60/KpWrR2Mvmf7FWuhnocBLCbbRBQr//NExD0Q8p60AGBEuSG3isO4FJrlX46Szrer0T8D3Z5Bw9DT9GM0JEfWjkec5nUlEmtaqNYh3liJqnqbqxty6TPVTnf1gzf+v79un+3vaxrzmO7AT2FAyGgrV6b8vpkA//NExEwR8bKgAM4ElA52Na+ais13SsZJrJevlPKkVjk1HVCoW3t5L4bXG3WYyEsZpCyAAoJYxNxiEBncmHtSPMD3W+o0rrN13HoxkghTuU1WOR6ax3uoFwSDu4iULtfp//NExFcSoTKwAMYacEfW9jhXLBMt/SkNO/mvpl9rHTRGp1M5pEd+O3I0hvR/rcgfHm0H+hPQbFuHmugqDExBsW69D+7bl/Lb+qtWdAfyipY+BIF5Qx1r4bBS3X2iAHFY//NExF8SQaK0AMYOlN7RBes653OVdUHC47qp1Q+zLOfW8wIOt7zG/o8t8PHuvDZ5v38bSgi6eURgi4mdLsr9FW4DoLcvAJ08ccAFMtYULjM2/KrD1jvK8PWv+blszdf3//NExGkSGTK8AGvecMoa3phHkmxLmQSNpwQEF+6RbFfD7c5egT0Jz0zz0oeQanIhpcNEVKr+GkCxq9iQB8BkosmQwwEGLaOcrnFtK9i/1+v61/jv/8f4y2/7/sRCaaRE//NExHMRyTq0AG4YcAaRsCoKmDUQFDK2lRU+ICPcGuo8oNRK5VUBRL1GjV0gmAKAhcoOOMWQEACwwIBLUqPLGmYZXK216m7j+Osr/jH+Xr5/d//xyUvlrEyriI1aW4Fj//NExH4QyS6oAHvScGoGk3LNBqj3asedAtQFgjHSyEiZhIaRqaRagakAHKmNjwOB4SzSBZ2enw6SYKrQpGSYKSkIcyWkDJkWc/bcVbQYcetItSB3Y5FKDMTc+EW1bxXR//NExI0RuR5gAVlIAAK57PmlyVO6l3zqrwkvdeZc2osxeVjIPT7iIiecTIPSvJlgm5IrwiCP+bAWVygm/afOQxrlaq9AEGFrPosK7hpKYSLdgGHC6d8tMrqiqgPwJx/I//NExJkeqcJAAZowAREpCvcbD4w4aGTiSedscOxY3G8fyEIxYSSXBKh1kxjCe+3omxNuPtzs0OUxlMbRrHNP3fuZve+nvYXGyR89qudbXS3/Yx9wfv/mlZVJ3uWedrju//NExHEhsup0AZhYAGLiLjP3bGRWxnsr3OmPza4+1e5ZqJU4LiNBRNBESRRpKtZmwlFG2gz0wRnax369CMIYOLBCFnzh9cgsH6hd5y8HChNFVTH3LFX66cQflFE6qL9b//NExD0RSM6IAckQAOfzgnlGqOU0qqK5ukMOwUJiLcjAom+JARzAjjk5AaAlv3D7kRGFMMdSXxh037uzEEuPUs2JCVAjHAfBzeDsCZaAmP/ldBcJ648YTq1nYYavoYKD//NExEoZmTqYAMYYcLMy2nP47LNvr4oXxq2PolAXMK/q///m0/1OQ3N1z3USXO5pfezEn9mskxkmF3ScqhPJGCzSf4LM5tWNJ0wddroNxuxbdCBqa/1f9zOSJ8Td2mLi//NExDYcacKgAMYelCmy1RFrMXwDwrRtR2rURT2BOUZlLVVYVzuLI6zvWN/wPn5p/4m/net5xrXvP/mf700f//3qQ65TGW8nQrfB6g6K2yYn1kjLjrCGrUsEc4VrpnN8//NExBcQ+Sa4AHvYcCzidToie7eTracA0NrVL0PtgCD89Sx7Wb3rSjNcosdr6dqzhw/4XPSq9HXmF9c7ECYuGccd3PtcfV/YV7PehJXK0QVwEU4wxB3Ge58vI86QOHGX//NExCYSOTKwAMPecEQ2l1KLHPqqJ36rnX7VF/kdfE596gPm//L7M9O00SUT10fUXWEAG6yzIH9nUrnn7Xz/2ktI1vIkc16rklLjlqDTE8JeEu5VkGO/cYA3KRtqTf3N//NExDASIUKwAG4ecDZ8jh9SRd4a2K2NK7672/8vspoolpaWrrrYagWb0xiG6jhbljNl0ceeXZcuc4whC1ttXKBUceCPJwssXgN3w9JQ6UolemD3Ms6x03r/tZeFaif1//NExDoRUS64AGvYcNdq/4VFL7P2irXGaqb6vFun1EV61EerlG4auPVqMnwvkenTSZDm21NROmdtiAUOKigKhFYFyEHUIVkIcWtTb3N+NZurSlhDEhkiRbKTJgshTVum//NExEcSoTasAHvScGalWppTsLjDG6kGZVE9JUZRpHyLiS1ZEeW1KGMFcols3R6UJoX0yZFcaTtDEUnWJmQsfCx0MkW0VM4ImkZYRSz1gEaAp4lr/LGqHpr5EnlAXJbt//NExE8RYM6MAHvScGGDXlXDLi1nIUyEx2o6TmVxYlyUU8zvlG8vqrsrPIiYQmTjDRCDI15EWywhOiqQkoCvLPctn6n9P////+lZqrQAEMLKXZ6+rq26uW6T8O0tNlW3//NExFwRgLpUAMPSTDtnGlvNxsooVkbWaBkkhFwOTfQKIBZ9Q+YbwVo6OKX9s8l6HZ6rRF18X7YmVi9NZWUoUiVjzj4DiYzL1HJaejx0fp4GlQEDc+Qp+PEY4TCYkiTi//NExGkQ+LY4AVgYAO/8n011HHlKE//0w3lpPmzzUJ//1bg8sfg7rOcp///z3By37DaSaifNGE9b////ZZvcT3MKLki2QIM3PnkTw3/////9MSYx5ufP+ff+8uJjEyoa//NExHggKyqIAY9YAEfiCNg8D+PRWjsUXv3PIrv1dV83///x//tV8V9fz98V83191P8//Ff82ieju57yWfDurTeKGQRjR4oKYoAwRLFzzhEDgiwcHLtJkiJj/QRChR1P//NExEoa0xqoAcJAATxsFCUR+GEXD8UdZF6Q53QweOFhxSlh2IaueLkkCCIxZeooPyhEcSzzlf/f/qf/a/r3JOw/r/WrKxlO1wSJKwJDkUyKirZkshRhylHcBIrPYWMA//NExDEUita0AUEQAYchBZRJRShnUS7nGOEBmvcxAt1RmCkdHsGRZFCxG3GjSVVpsf82vifsOVAweAcbgOg+ZaQrFLjGClGV2mEPj+uhURNsWeuqlUpJ09pJAk0ywR////NExDEeqsaIAYxIAddVjFpqlVissZwrL+v/xKAyQaGrK0q/sm45OMvGW//8mBM+CwOlkZ2WIlpRVUSXFl0qSv///y//RKL9CiRYrCbStf5ibqJKSu/SIIQuv35jbLWj//NExAkUqUIMAcwYAOejpva7XPaYvaxmKBUxQpRTGikmLHCgKgM4G8jcayq2oxMyn7U0DDmHSgVHWGQWWVdYzWiWuwVQDQlvkolEANHpHvfKufta07EtDOFqHyXlPOUi//NExAkT4ZHwAHmGlLn6uhq2LWK2gpJ5dEoKsjvmc74cRiu5EJzznYCPh6qoUmasaqU1WqUZmpKqr//G/4GVQdJCJ2RlnqBq9T61Hv/niWIvp161C9FmI2XQ/z8O87DD//NExAwR8J1EAHsGTBNIBXOF7CdIdt0vxkyhgwMFZQQMECBwHBYk6oWFxUVFRUWbqFosLCrIr4qLNiwv/FRRv9bKxVv8WFf/qUxBTUUzLjEwMFVVVVVVVVVVTEFNRTMu//NExBcAAANIAAAAADEwMFVVVVVVVVVVVVVVVVVVVVVVVVVVVVVVVVVVVVVVVVVVVVVVVVVVVVVVVVVVVVVVVVVVVVVVVVVVVVVVVVVVVVVVVVVVVVVVVVVVTEFNRTMu//NExGoAAANIAAAAADEwMFVVVVVVVVVVVVVVVVVVVVVVVVVVVVVVVVVVVVVVVVVVVVVVVVVVVVVVVVVVVVVVVVVVVVVVVVVVVVVVVVVVVVVVVVVVVVVVVVVVTEFNRTMu//NExKwAAANIAAAAADEwMFVVVVVVVVVVVVVVVVVVVVVVVVVVVVVVVVVVVVVVVVVVVVVVVVVVVVVVVVVVVVVVVVVVVVVVVVVVVVVVVVVVVVVVVVVVVVVVVVVVTEFNRTMu//NExKwAAANIAAAAADEwMFVVVVVVVVVVVVVVVVVVVVVVVVVVVVVVVVVVVVVVVVVVVVVVVVVVVVVVVVVVVVVVVVVVVVVVVVVVVVVVVVVVVVVVVVVVVVVVVVVVTEFNRTMu//NExKwAAANIAAAAADEwMFVVVVVVVVVVVVVVVVVVVVVVVVVVVVVVVVVVVVVVVVVVVVVVVVVVVVVVVVVVVVVVVVVVVVVVVVVVVVVVVVVVVVVVVVVVVVVVVVVVTEFNRTMu//NExKwAAANIAAAAADEwMFVVVVVVVVVVVVVVVVVVVVVVVVVVVVVVVVVVVVVVVVVVVVVVVVVVVVVVVVVVVVVVVVVVVVVVVVVVVVVVVVVVVVVVVVVVVVVVVVVVTEFNRTMu//NExKwAAANIAAAAADEwMFVVVVVVVVVVVVVVVVVVVVVVVVVVVVVVVVVVVVVVVVVVVVVVVVVVVVVVVVVVVVVVVVVVVVVVVVVVVVVVVVVVVVVVVVVVVVVVVVVVTEFNRTMu//NExKwAAANIAAAAADEwMFVVVVVVVVVVVVVVVVVVVVVVVVVVVVVVVVVVVVVVVVVVVVVVVVVVVVVVVVVVVVVVVVVVVVVVVVVVVVVVVVVVVVVVVVVVVVVVVVVVTEFNRTMu//NExKwAAANIAAAAADEwMFVVVVVVVVVVVVVVVVVVVVVVVVVVVVVVVVVVVVVVVVVVVVVVVVVVVVVVVVVVVVVVVVVVVVVVVVVVVVVVVVVVVVVVVVVVVVVVVVVVTEFNRTMu//NExKwAAANIAAAAADEwMFVVVVVVVVVVVVVVVVVVVVVVVVVVVVVVVVVVVVVVVVVVVVVVVVVVVVVVVVVVVVVVVVVVVVVVVVVVVVVVVVVVVVVVVVVVVVVVVVVVTEFNRTMu//NExKwAAANIAAAAADEwMFVVVVVVVVVVVVVVVVVVVVVVVVVVVVVVVVVVVVVVVVVVVVVVVVVVVVVVVVVVVVVVVVVVVVVVVVVVVVVVVVVVVVVVVVVVVVVVVVVVTEFNRTMu//NExKwAAANIAAAAADEwMFVVVVVVVVVVVVVVVVVVVVVVVVVVVVVVVVVVVVVVVVVVVVVVVVVVVVVVVVVVVVVVVVVVVVVVVVVVVVVVVVVVVVVVVVVVVVVVVVVVTEFNRTMu//NExKwAAANIAAAAADEwMFVVVVVVVVVVVVVVVVVVVVVVVVVVVVVVVVVVVVVVVVVVVVVVVVVVVVVVVVVVVVVVVVVVVVVVVVVVVVVVVVVVVVVVVVVVVVVVVVVVTEFNRTMu//NExKwAAANIAAAAADEwMFVVVVVVVVVVVVVVVVVVVVVVVVVVVVVVVVVVVVVVVVVVVVVVVVVVVVVVVVVVVVVVVVVVVVVVVVVVVVVVVVVVVVVVVVVVVVVVVVVVTEFNRTMu//NExKwAAANIAAAAADEwMFVVVVVVVVVVVVVVVVVVVVVVVVVVVVVVVVVVVVVVVVVVVVVVVVVVVVVVVVVVVVVVVVVVVVVVVVVVVVVVVVVVVVVVVVVVVVVVVVVVTEFNRTMu//NExKwAAANIAAAAADEwMFVVVVVVVVVVVVVVVVVVVVVVVVVVVVVVVVVVVVVVVVVVVVVVVVVVVVVVVVVVVVVVVVVVVVVVVVVVVVVVVVVVVVVVVVVVVVVVVVVVTEFNRTMu//NExKwAAANIAAAAADEwMFVVVVVVVVVVVVVVVVVVVVVVVVVVVVVVVVVVVVVVVVVVVVVVVVVVVVVVVVVVVVVVVVVVVVVVVVVVVVVVVVVVVVVVVVVVVVVVVVVVTEFNRTMu//NExKwAAANIAAAAADEwMFVVVVVVVVVVVVVVVVVVVVVVVVVVVVVVVVVVVVVVVVVVVVVVVVVVVVVVVVVVVVVVVVVVVVVVVVVVVVVVVVVVVVVVVVVVVVVVVVVVTEFNRTMu//NExKwAAANIAAAAADEwMFVVVVVVVVVVVVVVVVVVVVVVVVVVVVVVVVVVVVVVVVVVVVVVVVVVVVVVVVVVVVVVVVVVVVVVVVVVVVVVVVVVVVVVVVVVVVVVVVVVTEFNRTMu//NExKwAAANIAAAAADEwMFVVVVVVVVVVVVVVVVVVVVVVVVVVVVVVVVVVVVVVVVVVVVVVVVVVVVVVVVVVVVVVVVVVVVVVVVVVVVVVVVVVVVVVVVVVVVVVVVVVTEFNRTMu//NExKwAAANIAAAAADEwMFVVVVVVVVVVVVVVVVVVVVVVVVVVVVVVVVVVVVVVVVVVVVVVVVVVVVVVVVVVVVVVVVVVVVVVVVVVVVVVVVVVVVVVVVVVVVVVVVVVTEFNRTMu//NExKwAAANIAAAAADEwMFVVVVVVVVVVVVVVVVVVVVVVVVVVVVVVVVVVVVVVVVVVVVVVVVVVVVVVVVVVVVVVVVVVVVVVVVVVVVVVVVVVVVVVVVVVVVVVVVVVTEFNRTMu//NExKwAAANIAAAAADEwMFVVVVVVVVVVVVVVVVVVVVVVVVVVVVVVVVVVVVVVVVVVVVVVVVVVVVVVVVVVVVVVVVVVVVVVVVVVVVVVVVVVVVVVVVVVVVVVVVVVTEFNRTMu//NExKwAAANIAAAAADEwMFVVVVVVVVVVVVVVVVVVVVVVVVVVVVVVVVVVVVVVVVVVVVVVVVVVVVVVVVVVVVVVVVVVVVVVVVVVVVVVVVVVVVVVVVVVVVVVVVVVTEFNRTMu//NExKwAAANIAAAAADEwMFVVVVVVVVVVVVVVVVVVVVVVVVVVVVVVVVVVVVVVVVVVVVVVVVVVVVVVVVVVVVVVVVVVVVVVVVVVVVVVVVVVVVVVVVVVVVVVVVVVVVVVVVVV//NExKwAAANIAAAAAFVVVVVVVVVVVVVVVVVVVVVVVVVVVVVVVVVVVVVVVVVVVVVVVVVVVVVVVVVVVVVVVVVVVVVVVVVVVVVVVVVVVVVVVVVVVVVVVVVVVVVVVVVVVVVV//NExKwAAANIAAAAAFVVVVVVVVVVVVVVVVVVVVVVVVVVVVVVVVVVVVVVVVVVVVVVVVVVVVVVVVVVVVVVVVVVVVVVVVVVVVVVVVVVVVVVVVVVVVVVVVVVVVVVVVVVVVVV\" type=\"audio/mpeg\" />\n",
              "                    Your browser does not support the audio element.\n",
              "                </audio>\n",
              "              "
            ],
            "text/plain": [
              "<IPython.lib.display.Audio object>"
            ]
          },
          "metadata": {},
          "execution_count": 99
        }
      ]
    },
    {
      "cell_type": "markdown",
      "metadata": {
        "id": "LJkv0XA03Q1A"
      },
      "source": [
        "# Pickling"
      ]
    },
    {
      "cell_type": "code",
      "metadata": {
        "id": "_BaRaBhu3ec2"
      },
      "source": [
        "#with open('/content/drive/MyDrive/dub dataset/SWAHILI/data/train/audios/model.pickle', 'rb') as file:  \n",
        "    #pickled_model = pickle.load(file)\n",
        "\n",
        "#pickled_model"
      ],
      "execution_count": null,
      "outputs": []
    },
    {
      "cell_type": "markdown",
      "metadata": {
        "id": "oHGaDGBA4xKz"
      },
      "source": [
        "# Run flask "
      ]
    },
    {
      "cell_type": "code",
      "metadata": {
        "id": "J4uDVefuUOVi",
        "colab": {
          "base_uri": "https://localhost:8080/"
        },
        "outputId": "b209fd15-f3c6-4692-e8b1-80c43f198965"
      },
      "source": [
        "!pip install flask-ngrok\n",
        "!pip install flask==0.12.2"
      ],
      "execution_count": 100,
      "outputs": [
        {
          "output_type": "stream",
          "name": "stdout",
          "text": [
            "Collecting flask-ngrok\n",
            "  Downloading flask_ngrok-0.0.25-py3-none-any.whl (3.1 kB)\n",
            "Requirement already satisfied: requests in /usr/local/lib/python3.7/dist-packages (from flask-ngrok) (2.23.0)\n",
            "Requirement already satisfied: Flask>=0.8 in /usr/local/lib/python3.7/dist-packages (from flask-ngrok) (1.1.4)\n",
            "Requirement already satisfied: Jinja2<3.0,>=2.10.1 in /usr/local/lib/python3.7/dist-packages (from Flask>=0.8->flask-ngrok) (2.11.3)\n",
            "Requirement already satisfied: itsdangerous<2.0,>=0.24 in /usr/local/lib/python3.7/dist-packages (from Flask>=0.8->flask-ngrok) (1.1.0)\n",
            "Requirement already satisfied: Werkzeug<2.0,>=0.15 in /usr/local/lib/python3.7/dist-packages (from Flask>=0.8->flask-ngrok) (1.0.1)\n",
            "Requirement already satisfied: click<8.0,>=5.1 in /usr/local/lib/python3.7/dist-packages (from Flask>=0.8->flask-ngrok) (7.1.2)\n",
            "Requirement already satisfied: MarkupSafe>=0.23 in /usr/local/lib/python3.7/dist-packages (from Jinja2<3.0,>=2.10.1->Flask>=0.8->flask-ngrok) (2.0.1)\n",
            "Requirement already satisfied: urllib3!=1.25.0,!=1.25.1,<1.26,>=1.21.1 in /usr/local/lib/python3.7/dist-packages (from requests->flask-ngrok) (1.24.3)\n",
            "Requirement already satisfied: chardet<4,>=3.0.2 in /usr/local/lib/python3.7/dist-packages (from requests->flask-ngrok) (3.0.4)\n",
            "Requirement already satisfied: certifi>=2017.4.17 in /usr/local/lib/python3.7/dist-packages (from requests->flask-ngrok) (2021.10.8)\n",
            "Requirement already satisfied: idna<3,>=2.5 in /usr/local/lib/python3.7/dist-packages (from requests->flask-ngrok) (2.10)\n",
            "Installing collected packages: flask-ngrok\n",
            "Successfully installed flask-ngrok-0.0.25\n",
            "Collecting flask==0.12.2\n",
            "  Downloading Flask-0.12.2-py2.py3-none-any.whl (83 kB)\n",
            "\u001b[K     |████████████████████████████████| 83 kB 1.3 MB/s \n",
            "\u001b[?25hRequirement already satisfied: click>=2.0 in /usr/local/lib/python3.7/dist-packages (from flask==0.12.2) (7.1.2)\n",
            "Requirement already satisfied: itsdangerous>=0.21 in /usr/local/lib/python3.7/dist-packages (from flask==0.12.2) (1.1.0)\n",
            "Requirement already satisfied: Jinja2>=2.4 in /usr/local/lib/python3.7/dist-packages (from flask==0.12.2) (2.11.3)\n",
            "Requirement already satisfied: Werkzeug>=0.7 in /usr/local/lib/python3.7/dist-packages (from flask==0.12.2) (1.0.1)\n",
            "Requirement already satisfied: MarkupSafe>=0.23 in /usr/local/lib/python3.7/dist-packages (from Jinja2>=2.4->flask==0.12.2) (2.0.1)\n",
            "Installing collected packages: flask\n",
            "  Attempting uninstall: flask\n",
            "    Found existing installation: Flask 1.1.4\n",
            "    Uninstalling Flask-1.1.4:\n",
            "      Successfully uninstalled Flask-1.1.4\n",
            "Successfully installed flask-0.12.2\n"
          ]
        }
      ]
    },
    {
      "cell_type": "code",
      "metadata": {
        "id": "ysQDhV3K47Gy",
        "colab": {
          "base_uri": "https://localhost:8080/"
        },
        "outputId": "a703a66e-e294-4a06-9b71-b9a2694adc6c"
      },
      "source": [
        "import flask\n",
        "from flask import Flask, render_template, request\n",
        "import pickle\n",
        "import numpy as np\n",
        "from flask_ngrok import run_with_ngrok\n",
        "import warnings\n",
        "warnings.filterwarnings('ignore')\n",
        "\n",
        "app = Flask(__name__, template_folder='/')\n",
        "run_with_ngrok(app)\n",
        "\n",
        "#model = pickle.load(open('/content/drive/MyDrive/dub/model.pickle', 'rb'))\n",
        "\n",
        "@app.route('/')\n",
        "def home():\n",
        "  return render_template('/content/drive/MyDrive/dub/dub.html')\n",
        "\n",
        "\n",
        "app.run()"
      ],
      "execution_count": 101,
      "outputs": [
        {
          "output_type": "stream",
          "name": "stderr",
          "text": [
            " * Running on http://127.0.0.1:5000/ (Press CTRL+C to quit)\n"
          ]
        },
        {
          "output_type": "stream",
          "name": "stdout",
          "text": [
            " * Running on http://1d02-34-77-200-230.ngrok.io\n",
            " * Traffic stats available on http://127.0.0.1:4040\n"
          ]
        },
        {
          "output_type": "stream",
          "name": "stderr",
          "text": [
            "127.0.0.1 - - [29/Nov/2021 06:58:55] \"\u001b[37mGET / HTTP/1.1\u001b[0m\" 200 -\n",
            "127.0.0.1 - - [29/Nov/2021 06:58:56] \"\u001b[33mGET /favicon.ico HTTP/1.1\u001b[0m\" 404 -\n",
            "127.0.0.1 - - [29/Nov/2021 06:58:57] \"\u001b[37mGET / HTTP/1.1\u001b[0m\" 200 -\n",
            "127.0.0.1 - - [29/Nov/2021 06:59:01] \"\u001b[33mGET /favicon.ico HTTP/1.1\u001b[0m\" 404 -\n"
          ]
        }
      ]
    }
  ]
}